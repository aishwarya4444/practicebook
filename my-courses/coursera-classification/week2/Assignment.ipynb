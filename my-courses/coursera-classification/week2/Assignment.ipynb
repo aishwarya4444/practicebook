{
 "cells": [
  {
   "cell_type": "code",
   "execution_count": 3,
   "metadata": {},
   "outputs": [],
   "source": [
    "import pandas as pd\n",
    "import numpy as np\n",
    "import string"
   ]
  },
  {
   "cell_type": "code",
   "execution_count": 4,
   "metadata": {},
   "outputs": [
    {
     "name": "stdout",
     "output_type": "stream",
     "text": [
      "Index(['name', 'review', 'rating', 'sentiment'], dtype='object')\n",
      "name         52982\n",
      "review       52831\n",
      "rating       53072\n",
      "sentiment    53072\n",
      "dtype: int64\n"
     ]
    }
   ],
   "source": [
    "dataDir = '/Users/sachinjain/personal/hdrive/data/courses/coursera-ml-classification/'\n",
    "dataPath = dataDir + 'amazon_baby_subset.csv'\n",
    "wordsPath = dataDir + 'important_words.json'\n",
    "\n",
    "products = pd.read_csv(dataPath)\n",
    "\n",
    "print(products.columns)\n",
    "\n",
    "print(products.count())"
   ]
  },
  {
   "cell_type": "code",
   "execution_count": 5,
   "metadata": {},
   "outputs": [
    {
     "data": {
      "text/html": [
       "<div>\n",
       "<style>\n",
       "    .dataframe thead tr:only-child th {\n",
       "        text-align: right;\n",
       "    }\n",
       "\n",
       "    .dataframe thead th {\n",
       "        text-align: left;\n",
       "    }\n",
       "\n",
       "    .dataframe tbody tr th {\n",
       "        vertical-align: top;\n",
       "    }\n",
       "</style>\n",
       "<table border=\"1\" class=\"dataframe\">\n",
       "  <thead>\n",
       "    <tr style=\"text-align: right;\">\n",
       "      <th></th>\n",
       "      <th>name</th>\n",
       "      <th>review</th>\n",
       "      <th>rating</th>\n",
       "      <th>sentiment</th>\n",
       "    </tr>\n",
       "  </thead>\n",
       "  <tbody>\n",
       "    <tr>\n",
       "      <th>0</th>\n",
       "      <td>Stop Pacifier Sucking without tears with Thumb...</td>\n",
       "      <td>All of my kids have cried non-stop when I trie...</td>\n",
       "      <td>5</td>\n",
       "      <td>1</td>\n",
       "    </tr>\n",
       "    <tr>\n",
       "      <th>1</th>\n",
       "      <td>Nature's Lullabies Second Year Sticker Calendar</td>\n",
       "      <td>We wanted to get something to keep track of ou...</td>\n",
       "      <td>5</td>\n",
       "      <td>1</td>\n",
       "    </tr>\n",
       "    <tr>\n",
       "      <th>2</th>\n",
       "      <td>Nature's Lullabies Second Year Sticker Calendar</td>\n",
       "      <td>My daughter had her 1st baby over a year ago. ...</td>\n",
       "      <td>5</td>\n",
       "      <td>1</td>\n",
       "    </tr>\n",
       "    <tr>\n",
       "      <th>3</th>\n",
       "      <td>Lamaze Peekaboo, I Love You</td>\n",
       "      <td>One of baby's first and favorite books, and it...</td>\n",
       "      <td>4</td>\n",
       "      <td>1</td>\n",
       "    </tr>\n",
       "    <tr>\n",
       "      <th>4</th>\n",
       "      <td>SoftPlay Peek-A-Boo Where's Elmo A Children's ...</td>\n",
       "      <td>Very cute interactive book! My son loves this ...</td>\n",
       "      <td>5</td>\n",
       "      <td>1</td>\n",
       "    </tr>\n",
       "    <tr>\n",
       "      <th>5</th>\n",
       "      <td>Our Baby Girl Memory Book</td>\n",
       "      <td>Beautiful book, I love it to record cherished ...</td>\n",
       "      <td>5</td>\n",
       "      <td>1</td>\n",
       "    </tr>\n",
       "    <tr>\n",
       "      <th>6</th>\n",
       "      <td>Hunnt&amp;reg; Falling Flowers and Birds Kids Nurs...</td>\n",
       "      <td>Try this out for a spring project !Easy ,fun a...</td>\n",
       "      <td>5</td>\n",
       "      <td>1</td>\n",
       "    </tr>\n",
       "    <tr>\n",
       "      <th>7</th>\n",
       "      <td>Blessed By Pope Benedict XVI Divine Mercy Full...</td>\n",
       "      <td>very nice Divine Mercy Pendant of Jesus now on...</td>\n",
       "      <td>5</td>\n",
       "      <td>1</td>\n",
       "    </tr>\n",
       "    <tr>\n",
       "      <th>8</th>\n",
       "      <td>Cloth Diaper Pins Stainless Steel Traditional ...</td>\n",
       "      <td>We bought the pins as my 6 year old Autistic s...</td>\n",
       "      <td>4</td>\n",
       "      <td>1</td>\n",
       "    </tr>\n",
       "    <tr>\n",
       "      <th>9</th>\n",
       "      <td>Cloth Diaper Pins Stainless Steel Traditional ...</td>\n",
       "      <td>It has been many years since we needed diaper ...</td>\n",
       "      <td>5</td>\n",
       "      <td>1</td>\n",
       "    </tr>\n",
       "    <tr>\n",
       "      <th>10</th>\n",
       "      <td>Newborn Baby Tracker&amp;reg; - Round the Clock Ch...</td>\n",
       "      <td>We found this book at a rummage sale and found...</td>\n",
       "      <td>5</td>\n",
       "      <td>1</td>\n",
       "    </tr>\n",
       "    <tr>\n",
       "      <th>11</th>\n",
       "      <td>Newborn Baby Tracker&amp;reg; - Round the Clock Ch...</td>\n",
       "      <td>I'm a new mom and I was looking for something ...</td>\n",
       "      <td>5</td>\n",
       "      <td>1</td>\n",
       "    </tr>\n",
       "    <tr>\n",
       "      <th>12</th>\n",
       "      <td>Newborn Baby Tracker&amp;reg; - Round the Clock Ch...</td>\n",
       "      <td>I loved how this book was set up to keep track...</td>\n",
       "      <td>5</td>\n",
       "      <td>1</td>\n",
       "    </tr>\n",
       "    <tr>\n",
       "      <th>13</th>\n",
       "      <td>Newborn Baby Tracker&amp;reg; - Round the Clock Ch...</td>\n",
       "      <td>I received this at my baby shower and it has b...</td>\n",
       "      <td>5</td>\n",
       "      <td>1</td>\n",
       "    </tr>\n",
       "    <tr>\n",
       "      <th>14</th>\n",
       "      <td>Neurosmith - Music Blocks with Mozart Music Ca...</td>\n",
       "      <td>My daughter started playing with her Music Blo...</td>\n",
       "      <td>5</td>\n",
       "      <td>1</td>\n",
       "    </tr>\n",
       "    <tr>\n",
       "      <th>15</th>\n",
       "      <td>Neurosmith - Music Blocks with Mozart Music Ca...</td>\n",
       "      <td>It takes a youthful spirit of inquiry and fasc...</td>\n",
       "      <td>5</td>\n",
       "      <td>1</td>\n",
       "    </tr>\n",
       "    <tr>\n",
       "      <th>16</th>\n",
       "      <td>Neurosmith - Music Blocks with Mozart Music Ca...</td>\n",
       "      <td>This is an interesting and educational toy.  I...</td>\n",
       "      <td>4</td>\n",
       "      <td>1</td>\n",
       "    </tr>\n",
       "    <tr>\n",
       "      <th>17</th>\n",
       "      <td>Neurosmith - Music Blocks with Mozart Music Ca...</td>\n",
       "      <td>Recently I have purchased the musical mozart b...</td>\n",
       "      <td>5</td>\n",
       "      <td>1</td>\n",
       "    </tr>\n",
       "    <tr>\n",
       "      <th>18</th>\n",
       "      <td>my first fish bowl by lamaze / learning curve</td>\n",
       "      <td>We first bought this toy for our oldest child ...</td>\n",
       "      <td>5</td>\n",
       "      <td>1</td>\n",
       "    </tr>\n",
       "    <tr>\n",
       "      <th>19</th>\n",
       "      <td>Pedal Farm Tractor</td>\n",
       "      <td>We bought this tractor for our 2 and a half-ye...</td>\n",
       "      <td>5</td>\n",
       "      <td>1</td>\n",
       "    </tr>\n",
       "  </tbody>\n",
       "</table>\n",
       "</div>"
      ],
      "text/plain": [
       "                                                 name  \\\n",
       "0   Stop Pacifier Sucking without tears with Thumb...   \n",
       "1     Nature's Lullabies Second Year Sticker Calendar   \n",
       "2     Nature's Lullabies Second Year Sticker Calendar   \n",
       "3                         Lamaze Peekaboo, I Love You   \n",
       "4   SoftPlay Peek-A-Boo Where's Elmo A Children's ...   \n",
       "5                           Our Baby Girl Memory Book   \n",
       "6   Hunnt&reg; Falling Flowers and Birds Kids Nurs...   \n",
       "7   Blessed By Pope Benedict XVI Divine Mercy Full...   \n",
       "8   Cloth Diaper Pins Stainless Steel Traditional ...   \n",
       "9   Cloth Diaper Pins Stainless Steel Traditional ...   \n",
       "10  Newborn Baby Tracker&reg; - Round the Clock Ch...   \n",
       "11  Newborn Baby Tracker&reg; - Round the Clock Ch...   \n",
       "12  Newborn Baby Tracker&reg; - Round the Clock Ch...   \n",
       "13  Newborn Baby Tracker&reg; - Round the Clock Ch...   \n",
       "14  Neurosmith - Music Blocks with Mozart Music Ca...   \n",
       "15  Neurosmith - Music Blocks with Mozart Music Ca...   \n",
       "16  Neurosmith - Music Blocks with Mozart Music Ca...   \n",
       "17  Neurosmith - Music Blocks with Mozart Music Ca...   \n",
       "18      my first fish bowl by lamaze / learning curve   \n",
       "19                                 Pedal Farm Tractor   \n",
       "\n",
       "                                               review  rating  sentiment  \n",
       "0   All of my kids have cried non-stop when I trie...       5          1  \n",
       "1   We wanted to get something to keep track of ou...       5          1  \n",
       "2   My daughter had her 1st baby over a year ago. ...       5          1  \n",
       "3   One of baby's first and favorite books, and it...       4          1  \n",
       "4   Very cute interactive book! My son loves this ...       5          1  \n",
       "5   Beautiful book, I love it to record cherished ...       5          1  \n",
       "6   Try this out for a spring project !Easy ,fun a...       5          1  \n",
       "7   very nice Divine Mercy Pendant of Jesus now on...       5          1  \n",
       "8   We bought the pins as my 6 year old Autistic s...       4          1  \n",
       "9   It has been many years since we needed diaper ...       5          1  \n",
       "10  We found this book at a rummage sale and found...       5          1  \n",
       "11  I'm a new mom and I was looking for something ...       5          1  \n",
       "12  I loved how this book was set up to keep track...       5          1  \n",
       "13  I received this at my baby shower and it has b...       5          1  \n",
       "14  My daughter started playing with her Music Blo...       5          1  \n",
       "15  It takes a youthful spirit of inquiry and fasc...       5          1  \n",
       "16  This is an interesting and educational toy.  I...       4          1  \n",
       "17  Recently I have purchased the musical mozart b...       5          1  \n",
       "18  We first bought this toy for our oldest child ...       5          1  \n",
       "19  We bought this tractor for our 2 and a half-ye...       5          1  "
      ]
     },
     "execution_count": 5,
     "metadata": {},
     "output_type": "execute_result"
    }
   ],
   "source": [
    "## Print name of first 10 products\n",
    "\n",
    "products.head(20)"
   ]
  },
  {
   "cell_type": "markdown",
   "metadata": {},
   "source": [
    "## Count the number of positive and negative reviews"
   ]
  },
  {
   "cell_type": "code",
   "execution_count": 6,
   "metadata": {},
   "outputs": [
    {
     "name": "stdout",
     "output_type": "stream",
     "text": [
      "Total Product count\n",
      "name         52982\n",
      "review       52831\n",
      "rating       53072\n",
      "sentiment    53072\n",
      "dtype: int64\n",
      "\n",
      "Total positive reviews\n",
      "name         26521\n",
      "review       26438\n",
      "rating       26579\n",
      "sentiment    26579\n",
      "dtype: int64\n",
      "\n",
      "Total negative reviews\n",
      "name         26461\n",
      "review       26393\n",
      "rating       26493\n",
      "sentiment    26493\n",
      "dtype: int64\n"
     ]
    }
   ],
   "source": [
    "print(\"Total Product count\")\n",
    "print(products.count())\n",
    "\n",
    "print(\"\\nTotal positive reviews\")\n",
    "positive_reviews = products[products['sentiment'] == 1]\n",
    "print(positive_reviews.count())\n",
    "\n",
    "print(\"\\nTotal negative reviews\")\n",
    "negative_reviews = products[products['sentiment'] == -1]\n",
    "print(negative_reviews.count())"
   ]
  },
  {
   "cell_type": "code",
   "execution_count": 7,
   "metadata": {},
   "outputs": [],
   "source": [
    "import json\n",
    "from pprint import pprint"
   ]
  },
  {
   "cell_type": "code",
   "execution_count": 8,
   "metadata": {},
   "outputs": [],
   "source": [
    "important_words = json.load(open(wordsPath))"
   ]
  },
  {
   "cell_type": "code",
   "execution_count": 9,
   "metadata": {},
   "outputs": [
    {
     "ename": "NameError",
     "evalue": "name 'data' is not defined",
     "output_type": "error",
     "traceback": [
      "\u001b[0;31m---------------------------------------------------------------------------\u001b[0m",
      "\u001b[0;31mNameError\u001b[0m                                 Traceback (most recent call last)",
      "\u001b[0;32m<ipython-input-9-b3c6e0821661>\u001b[0m in \u001b[0;36m<module>\u001b[0;34m()\u001b[0m\n\u001b[0;32m----> 1\u001b[0;31m \u001b[0mprint\u001b[0m\u001b[0;34m(\u001b[0m\u001b[0mdata\u001b[0m\u001b[0;34m[\u001b[0m\u001b[0;36m0\u001b[0m\u001b[0;34m:\u001b[0m\u001b[0;36m5\u001b[0m\u001b[0;34m]\u001b[0m\u001b[0;34m)\u001b[0m\u001b[0;34m\u001b[0m\u001b[0m\n\u001b[0m",
      "\u001b[0;31mNameError\u001b[0m: name 'data' is not defined"
     ]
    }
   ],
   "source": [
    "print(data[0:5])"
   ]
  },
  {
   "cell_type": "markdown",
   "metadata": {},
   "source": [
    "## 4. Let us perform 2 simple data transformations:\n",
    "\n",
    "1. Remove punctuation\n",
    "2. Compute word counts (only for important_words)\n"
   ]
  },
  {
   "cell_type": "code",
   "execution_count": null,
   "metadata": {},
   "outputs": [],
   "source": [
    "# Fill NA values\n",
    "\n",
    "products = products.fillna({ 'review': ''})"
   ]
  },
  {
   "cell_type": "code",
   "execution_count": null,
   "metadata": {},
   "outputs": [],
   "source": [
    "def remove_punctuation(text):\n",
    "    # This uses the 3-argument version of str.maketrans\n",
    "    # with arguments (x, y, z) where 'x' and 'y'\n",
    "    # must be equal-length strings and characters in 'x'\n",
    "    # are replaced by characters in 'y'. 'z'\n",
    "    # is a string (string.punctuation here)\n",
    "    # where each character in the string is mapped\n",
    "    # to None\n",
    "    translator = str.maketrans('', '', string.punctuation)\n",
    "    \n",
    "    if type(text) is str:\n",
    "        return text.translate(translator)\n",
    "    else:\n",
    "        return text"
   ]
  },
  {
   "cell_type": "code",
   "execution_count": null,
   "metadata": {},
   "outputs": [],
   "source": [
    "remove_punctuation('sachin.jain@gmail.com')"
   ]
  },
  {
   "cell_type": "code",
   "execution_count": null,
   "metadata": {},
   "outputs": [],
   "source": [
    "remove_punctuation('2_1')"
   ]
  },
  {
   "cell_type": "code",
   "execution_count": null,
   "metadata": {},
   "outputs": [],
   "source": [
    "# Add a new column to products data by removing punctuation in the reviews\n",
    "products['review_clean'] = products['review'].apply(remove_punctuation)"
   ]
  },
  {
   "cell_type": "markdown",
   "metadata": {},
   "source": [
    "## 5. Add a column for each word in important words and the column value should be the count of the word in input sentence"
   ]
  },
  {
   "cell_type": "code",
   "execution_count": null,
   "metadata": {},
   "outputs": [],
   "source": [
    "def count_words(string, word):\n",
    "    return string.split(' ').count(word)"
   ]
  },
  {
   "cell_type": "code",
   "execution_count": null,
   "metadata": {},
   "outputs": [],
   "source": [
    "count_words(\"a little brown fox quickly jamp over a wall\", \"a\")"
   ]
  },
  {
   "cell_type": "code",
   "execution_count": null,
   "metadata": {},
   "outputs": [],
   "source": [
    "for word in important_words:\n",
    "    products[word] = products['review_clean'].apply(lambda s: count_words(s, word))"
   ]
  },
  {
   "cell_type": "code",
   "execution_count": null,
   "metadata": {},
   "outputs": [],
   "source": [
    "products.columns.size"
   ]
  },
  {
   "cell_type": "code",
   "execution_count": null,
   "metadata": {},
   "outputs": [],
   "source": [
    "products.head(1)['great']"
   ]
  },
  {
   "cell_type": "markdown",
   "metadata": {},
   "source": [
    "## 7. Now, write some code to compute the number of product reviews that contain the word perfect. \n",
    "\n",
    "Quiz Question. How many reviews contain the word perfect?"
   ]
  },
  {
   "cell_type": "code",
   "execution_count": null,
   "metadata": {},
   "outputs": [],
   "source": [
    "products_with_perfect_in_review = products[products['perfect'] > 0]"
   ]
  },
  {
   "cell_type": "code",
   "execution_count": null,
   "metadata": {},
   "outputs": [],
   "source": [
    "products_with_perfect_in_review['perfect'].count()"
   ]
  },
  {
   "cell_type": "markdown",
   "metadata": {},
   "source": [
    "## Convert data frame to multi-dimensional array"
   ]
  },
  {
   "cell_type": "code",
   "execution_count": null,
   "metadata": {},
   "outputs": [],
   "source": [
    "def get_numpy_data(dataframe, features, label):\n",
    "    # Add constant into the features\n",
    "    features = ['constant'] + features\n",
    "    \n",
    "    # Add constant value = 1 as column to dataframe\n",
    "    dataframe['constant'] = 1\n",
    "    \n",
    "    # Reorder dataframe columns as per features\n",
    "    features_frame = dataframe[features]\n",
    "    \n",
    "    # Convert features into 2d matric\n",
    "    feature_matrix = features_frame.as_matrix()\n",
    "    \n",
    "    label_array = dataframe[label].as_matrix()\n",
    "    \n",
    "    return (feature_matrix, label_array)"
   ]
  },
  {
   "cell_type": "markdown",
   "metadata": {},
   "source": [
    "## 9. Quiz Question: How many features are there in the feature_matrix?"
   ]
  },
  {
   "cell_type": "code",
   "execution_count": null,
   "metadata": {},
   "outputs": [],
   "source": [
    "feature_matrix = get_numpy_data(products, important_words, 'sentiment')[0]"
   ]
  },
  {
   "cell_type": "code",
   "execution_count": null,
   "metadata": {},
   "outputs": [],
   "source": [
    "feature_matrix.shape"
   ]
  },
  {
   "cell_type": "markdown",
   "metadata": {},
   "source": [
    "### Quiz Question: Assuming that the intercept is present, how does the number of features in feature_matrix relate to the number of features in the logistic regression model?"
   ]
  },
  {
   "cell_type": "markdown",
   "metadata": {},
   "source": [
    "MyAnswer: Number of features remain the same. \n",
    "Logistic regression model is applied to value to constrain the value between 0-1.\n",
    "Number of features are not affected."
   ]
  },
  {
   "cell_type": "markdown",
   "metadata": {},
   "source": [
    "## 10. Implement link function (predict_probability)\n"
   ]
  },
  {
   "cell_type": "code",
   "execution_count": null,
   "metadata": {},
   "outputs": [],
   "source": [
    "'''\n",
    "produces probablistic estimate for P(y_i = +1 | x_i, w).\n",
    "estimate ranges between 0 and 1.\n",
    "'''\n",
    "def predict_probability(feature_matrix, coefficients):\n",
    "    # Take dot product of feature_matrix and coefficients  \n",
    "    # YOUR CODE HERE\n",
    "    score = np.dot(feature_matrix, coefficients)\n",
    "    \n",
    "    # Compute P(y_i = +1 | x_i, w) using the link function\n",
    "    # YOUR CODE HERE\n",
    "    predictions = ...\n",
    "    \n",
    "    # return predictions\n",
    "    return predictions"
   ]
  },
  {
   "cell_type": "code",
   "execution_count": 13,
   "metadata": {},
   "outputs": [],
   "source": [
    "a = np.array([[1,2],[3,4]])"
   ]
  },
  {
   "cell_type": "code",
   "execution_count": 14,
   "metadata": {},
   "outputs": [],
   "source": [
    "b = np.array([10, 10])"
   ]
  },
  {
   "cell_type": "code",
   "execution_count": 15,
   "metadata": {},
   "outputs": [
    {
     "data": {
      "text/plain": [
       "array([30, 70])"
      ]
     },
     "execution_count": 15,
     "metadata": {},
     "output_type": "execute_result"
    }
   ],
   "source": [
    "np.dot(a,b)"
   ]
  },
  {
   "cell_type": "code",
   "execution_count": null,
   "metadata": {},
   "outputs": [],
   "source": []
  }
 ],
 "metadata": {
  "kernelspec": {
   "display_name": "Python 3",
   "language": "python",
   "name": "python3"
  },
  "language_info": {
   "codemirror_mode": {
    "name": "ipython",
    "version": 3
   },
   "file_extension": ".py",
   "mimetype": "text/x-python",
   "name": "python",
   "nbconvert_exporter": "python",
   "pygments_lexer": "ipython3",
   "version": "3.6.2"
  }
 },
 "nbformat": 4,
 "nbformat_minor": 2
}
