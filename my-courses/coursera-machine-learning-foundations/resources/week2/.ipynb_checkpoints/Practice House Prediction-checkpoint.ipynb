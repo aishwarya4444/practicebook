{
 "cells": [
  {
   "cell_type": "code",
   "execution_count": 1,
   "metadata": {
    "collapsed": true
   },
   "outputs": [],
   "source": [
    "import graphlab"
   ]
  },
  {
   "cell_type": "code",
   "execution_count": 8,
   "metadata": {},
   "outputs": [],
   "source": [
    "homedata = graphlab.SFrame('home_data.gl/')"
   ]
  },
  {
   "cell_type": "code",
   "execution_count": 9,
   "metadata": {},
   "outputs": [
    {
     "data": {
      "text/html": [
       "<div style=\"max-height:1000px;max-width:1500px;overflow:auto;\"><table frame=\"box\" rules=\"cols\">\n",
       "    <tr>\n",
       "        <th style=\"padding-left: 1em; padding-right: 1em; text-align: center\">id</th>\n",
       "        <th style=\"padding-left: 1em; padding-right: 1em; text-align: center\">date</th>\n",
       "        <th style=\"padding-left: 1em; padding-right: 1em; text-align: center\">price</th>\n",
       "        <th style=\"padding-left: 1em; padding-right: 1em; text-align: center\">bedrooms</th>\n",
       "        <th style=\"padding-left: 1em; padding-right: 1em; text-align: center\">bathrooms</th>\n",
       "        <th style=\"padding-left: 1em; padding-right: 1em; text-align: center\">sqft_living</th>\n",
       "        <th style=\"padding-left: 1em; padding-right: 1em; text-align: center\">sqft_lot</th>\n",
       "        <th style=\"padding-left: 1em; padding-right: 1em; text-align: center\">floors</th>\n",
       "        <th style=\"padding-left: 1em; padding-right: 1em; text-align: center\">waterfront</th>\n",
       "    </tr>\n",
       "    <tr>\n",
       "        <td style=\"padding-left: 1em; padding-right: 1em; text-align: center; vertical-align: top\">7129300520</td>\n",
       "        <td style=\"padding-left: 1em; padding-right: 1em; text-align: center; vertical-align: top\">2014-10-13 00:00:00+00:00</td>\n",
       "        <td style=\"padding-left: 1em; padding-right: 1em; text-align: center; vertical-align: top\">221900</td>\n",
       "        <td style=\"padding-left: 1em; padding-right: 1em; text-align: center; vertical-align: top\">3</td>\n",
       "        <td style=\"padding-left: 1em; padding-right: 1em; text-align: center; vertical-align: top\">1</td>\n",
       "        <td style=\"padding-left: 1em; padding-right: 1em; text-align: center; vertical-align: top\">1180</td>\n",
       "        <td style=\"padding-left: 1em; padding-right: 1em; text-align: center; vertical-align: top\">5650</td>\n",
       "        <td style=\"padding-left: 1em; padding-right: 1em; text-align: center; vertical-align: top\">1</td>\n",
       "        <td style=\"padding-left: 1em; padding-right: 1em; text-align: center; vertical-align: top\">0</td>\n",
       "    </tr>\n",
       "    <tr>\n",
       "        <td style=\"padding-left: 1em; padding-right: 1em; text-align: center; vertical-align: top\">6414100192</td>\n",
       "        <td style=\"padding-left: 1em; padding-right: 1em; text-align: center; vertical-align: top\">2014-12-09 00:00:00+00:00</td>\n",
       "        <td style=\"padding-left: 1em; padding-right: 1em; text-align: center; vertical-align: top\">538000</td>\n",
       "        <td style=\"padding-left: 1em; padding-right: 1em; text-align: center; vertical-align: top\">3</td>\n",
       "        <td style=\"padding-left: 1em; padding-right: 1em; text-align: center; vertical-align: top\">2.25</td>\n",
       "        <td style=\"padding-left: 1em; padding-right: 1em; text-align: center; vertical-align: top\">2570</td>\n",
       "        <td style=\"padding-left: 1em; padding-right: 1em; text-align: center; vertical-align: top\">7242</td>\n",
       "        <td style=\"padding-left: 1em; padding-right: 1em; text-align: center; vertical-align: top\">2</td>\n",
       "        <td style=\"padding-left: 1em; padding-right: 1em; text-align: center; vertical-align: top\">0</td>\n",
       "    </tr>\n",
       "    <tr>\n",
       "        <td style=\"padding-left: 1em; padding-right: 1em; text-align: center; vertical-align: top\">5631500400</td>\n",
       "        <td style=\"padding-left: 1em; padding-right: 1em; text-align: center; vertical-align: top\">2015-02-25 00:00:00+00:00</td>\n",
       "        <td style=\"padding-left: 1em; padding-right: 1em; text-align: center; vertical-align: top\">180000</td>\n",
       "        <td style=\"padding-left: 1em; padding-right: 1em; text-align: center; vertical-align: top\">2</td>\n",
       "        <td style=\"padding-left: 1em; padding-right: 1em; text-align: center; vertical-align: top\">1</td>\n",
       "        <td style=\"padding-left: 1em; padding-right: 1em; text-align: center; vertical-align: top\">770</td>\n",
       "        <td style=\"padding-left: 1em; padding-right: 1em; text-align: center; vertical-align: top\">10000</td>\n",
       "        <td style=\"padding-left: 1em; padding-right: 1em; text-align: center; vertical-align: top\">1</td>\n",
       "        <td style=\"padding-left: 1em; padding-right: 1em; text-align: center; vertical-align: top\">0</td>\n",
       "    </tr>\n",
       "    <tr>\n",
       "        <td style=\"padding-left: 1em; padding-right: 1em; text-align: center; vertical-align: top\">2487200875</td>\n",
       "        <td style=\"padding-left: 1em; padding-right: 1em; text-align: center; vertical-align: top\">2014-12-09 00:00:00+00:00</td>\n",
       "        <td style=\"padding-left: 1em; padding-right: 1em; text-align: center; vertical-align: top\">604000</td>\n",
       "        <td style=\"padding-left: 1em; padding-right: 1em; text-align: center; vertical-align: top\">4</td>\n",
       "        <td style=\"padding-left: 1em; padding-right: 1em; text-align: center; vertical-align: top\">3</td>\n",
       "        <td style=\"padding-left: 1em; padding-right: 1em; text-align: center; vertical-align: top\">1960</td>\n",
       "        <td style=\"padding-left: 1em; padding-right: 1em; text-align: center; vertical-align: top\">5000</td>\n",
       "        <td style=\"padding-left: 1em; padding-right: 1em; text-align: center; vertical-align: top\">1</td>\n",
       "        <td style=\"padding-left: 1em; padding-right: 1em; text-align: center; vertical-align: top\">0</td>\n",
       "    </tr>\n",
       "    <tr>\n",
       "        <td style=\"padding-left: 1em; padding-right: 1em; text-align: center; vertical-align: top\">1954400510</td>\n",
       "        <td style=\"padding-left: 1em; padding-right: 1em; text-align: center; vertical-align: top\">2015-02-18 00:00:00+00:00</td>\n",
       "        <td style=\"padding-left: 1em; padding-right: 1em; text-align: center; vertical-align: top\">510000</td>\n",
       "        <td style=\"padding-left: 1em; padding-right: 1em; text-align: center; vertical-align: top\">3</td>\n",
       "        <td style=\"padding-left: 1em; padding-right: 1em; text-align: center; vertical-align: top\">2</td>\n",
       "        <td style=\"padding-left: 1em; padding-right: 1em; text-align: center; vertical-align: top\">1680</td>\n",
       "        <td style=\"padding-left: 1em; padding-right: 1em; text-align: center; vertical-align: top\">8080</td>\n",
       "        <td style=\"padding-left: 1em; padding-right: 1em; text-align: center; vertical-align: top\">1</td>\n",
       "        <td style=\"padding-left: 1em; padding-right: 1em; text-align: center; vertical-align: top\">0</td>\n",
       "    </tr>\n",
       "    <tr>\n",
       "        <td style=\"padding-left: 1em; padding-right: 1em; text-align: center; vertical-align: top\">7237550310</td>\n",
       "        <td style=\"padding-left: 1em; padding-right: 1em; text-align: center; vertical-align: top\">2014-05-12 00:00:00+00:00</td>\n",
       "        <td style=\"padding-left: 1em; padding-right: 1em; text-align: center; vertical-align: top\">1225000</td>\n",
       "        <td style=\"padding-left: 1em; padding-right: 1em; text-align: center; vertical-align: top\">4</td>\n",
       "        <td style=\"padding-left: 1em; padding-right: 1em; text-align: center; vertical-align: top\">4.5</td>\n",
       "        <td style=\"padding-left: 1em; padding-right: 1em; text-align: center; vertical-align: top\">5420</td>\n",
       "        <td style=\"padding-left: 1em; padding-right: 1em; text-align: center; vertical-align: top\">101930</td>\n",
       "        <td style=\"padding-left: 1em; padding-right: 1em; text-align: center; vertical-align: top\">1</td>\n",
       "        <td style=\"padding-left: 1em; padding-right: 1em; text-align: center; vertical-align: top\">0</td>\n",
       "    </tr>\n",
       "    <tr>\n",
       "        <td style=\"padding-left: 1em; padding-right: 1em; text-align: center; vertical-align: top\">1321400060</td>\n",
       "        <td style=\"padding-left: 1em; padding-right: 1em; text-align: center; vertical-align: top\">2014-06-27 00:00:00+00:00</td>\n",
       "        <td style=\"padding-left: 1em; padding-right: 1em; text-align: center; vertical-align: top\">257500</td>\n",
       "        <td style=\"padding-left: 1em; padding-right: 1em; text-align: center; vertical-align: top\">3</td>\n",
       "        <td style=\"padding-left: 1em; padding-right: 1em; text-align: center; vertical-align: top\">2.25</td>\n",
       "        <td style=\"padding-left: 1em; padding-right: 1em; text-align: center; vertical-align: top\">1715</td>\n",
       "        <td style=\"padding-left: 1em; padding-right: 1em; text-align: center; vertical-align: top\">6819</td>\n",
       "        <td style=\"padding-left: 1em; padding-right: 1em; text-align: center; vertical-align: top\">2</td>\n",
       "        <td style=\"padding-left: 1em; padding-right: 1em; text-align: center; vertical-align: top\">0</td>\n",
       "    </tr>\n",
       "    <tr>\n",
       "        <td style=\"padding-left: 1em; padding-right: 1em; text-align: center; vertical-align: top\">2008000270</td>\n",
       "        <td style=\"padding-left: 1em; padding-right: 1em; text-align: center; vertical-align: top\">2015-01-15 00:00:00+00:00</td>\n",
       "        <td style=\"padding-left: 1em; padding-right: 1em; text-align: center; vertical-align: top\">291850</td>\n",
       "        <td style=\"padding-left: 1em; padding-right: 1em; text-align: center; vertical-align: top\">3</td>\n",
       "        <td style=\"padding-left: 1em; padding-right: 1em; text-align: center; vertical-align: top\">1.5</td>\n",
       "        <td style=\"padding-left: 1em; padding-right: 1em; text-align: center; vertical-align: top\">1060</td>\n",
       "        <td style=\"padding-left: 1em; padding-right: 1em; text-align: center; vertical-align: top\">9711</td>\n",
       "        <td style=\"padding-left: 1em; padding-right: 1em; text-align: center; vertical-align: top\">1</td>\n",
       "        <td style=\"padding-left: 1em; padding-right: 1em; text-align: center; vertical-align: top\">0</td>\n",
       "    </tr>\n",
       "    <tr>\n",
       "        <td style=\"padding-left: 1em; padding-right: 1em; text-align: center; vertical-align: top\">2414600126</td>\n",
       "        <td style=\"padding-left: 1em; padding-right: 1em; text-align: center; vertical-align: top\">2015-04-15 00:00:00+00:00</td>\n",
       "        <td style=\"padding-left: 1em; padding-right: 1em; text-align: center; vertical-align: top\">229500</td>\n",
       "        <td style=\"padding-left: 1em; padding-right: 1em; text-align: center; vertical-align: top\">3</td>\n",
       "        <td style=\"padding-left: 1em; padding-right: 1em; text-align: center; vertical-align: top\">1</td>\n",
       "        <td style=\"padding-left: 1em; padding-right: 1em; text-align: center; vertical-align: top\">1780</td>\n",
       "        <td style=\"padding-left: 1em; padding-right: 1em; text-align: center; vertical-align: top\">7470</td>\n",
       "        <td style=\"padding-left: 1em; padding-right: 1em; text-align: center; vertical-align: top\">1</td>\n",
       "        <td style=\"padding-left: 1em; padding-right: 1em; text-align: center; vertical-align: top\">0</td>\n",
       "    </tr>\n",
       "    <tr>\n",
       "        <td style=\"padding-left: 1em; padding-right: 1em; text-align: center; vertical-align: top\">3793500160</td>\n",
       "        <td style=\"padding-left: 1em; padding-right: 1em; text-align: center; vertical-align: top\">2015-03-12 00:00:00+00:00</td>\n",
       "        <td style=\"padding-left: 1em; padding-right: 1em; text-align: center; vertical-align: top\">323000</td>\n",
       "        <td style=\"padding-left: 1em; padding-right: 1em; text-align: center; vertical-align: top\">3</td>\n",
       "        <td style=\"padding-left: 1em; padding-right: 1em; text-align: center; vertical-align: top\">2.5</td>\n",
       "        <td style=\"padding-left: 1em; padding-right: 1em; text-align: center; vertical-align: top\">1890</td>\n",
       "        <td style=\"padding-left: 1em; padding-right: 1em; text-align: center; vertical-align: top\">6560</td>\n",
       "        <td style=\"padding-left: 1em; padding-right: 1em; text-align: center; vertical-align: top\">2</td>\n",
       "        <td style=\"padding-left: 1em; padding-right: 1em; text-align: center; vertical-align: top\">0</td>\n",
       "    </tr>\n",
       "</table>\n",
       "<table frame=\"box\" rules=\"cols\">\n",
       "    <tr>\n",
       "        <th style=\"padding-left: 1em; padding-right: 1em; text-align: center\">view</th>\n",
       "        <th style=\"padding-left: 1em; padding-right: 1em; text-align: center\">condition</th>\n",
       "        <th style=\"padding-left: 1em; padding-right: 1em; text-align: center\">grade</th>\n",
       "        <th style=\"padding-left: 1em; padding-right: 1em; text-align: center\">sqft_above</th>\n",
       "        <th style=\"padding-left: 1em; padding-right: 1em; text-align: center\">sqft_basement</th>\n",
       "        <th style=\"padding-left: 1em; padding-right: 1em; text-align: center\">yr_built</th>\n",
       "        <th style=\"padding-left: 1em; padding-right: 1em; text-align: center\">yr_renovated</th>\n",
       "        <th style=\"padding-left: 1em; padding-right: 1em; text-align: center\">zipcode</th>\n",
       "        <th style=\"padding-left: 1em; padding-right: 1em; text-align: center\">lat</th>\n",
       "    </tr>\n",
       "    <tr>\n",
       "        <td style=\"padding-left: 1em; padding-right: 1em; text-align: center; vertical-align: top\">0</td>\n",
       "        <td style=\"padding-left: 1em; padding-right: 1em; text-align: center; vertical-align: top\">3</td>\n",
       "        <td style=\"padding-left: 1em; padding-right: 1em; text-align: center; vertical-align: top\">7</td>\n",
       "        <td style=\"padding-left: 1em; padding-right: 1em; text-align: center; vertical-align: top\">1180</td>\n",
       "        <td style=\"padding-left: 1em; padding-right: 1em; text-align: center; vertical-align: top\">0</td>\n",
       "        <td style=\"padding-left: 1em; padding-right: 1em; text-align: center; vertical-align: top\">1955</td>\n",
       "        <td style=\"padding-left: 1em; padding-right: 1em; text-align: center; vertical-align: top\">0</td>\n",
       "        <td style=\"padding-left: 1em; padding-right: 1em; text-align: center; vertical-align: top\">98178</td>\n",
       "        <td style=\"padding-left: 1em; padding-right: 1em; text-align: center; vertical-align: top\">47.51123398</td>\n",
       "    </tr>\n",
       "    <tr>\n",
       "        <td style=\"padding-left: 1em; padding-right: 1em; text-align: center; vertical-align: top\">0</td>\n",
       "        <td style=\"padding-left: 1em; padding-right: 1em; text-align: center; vertical-align: top\">3</td>\n",
       "        <td style=\"padding-left: 1em; padding-right: 1em; text-align: center; vertical-align: top\">7</td>\n",
       "        <td style=\"padding-left: 1em; padding-right: 1em; text-align: center; vertical-align: top\">2170</td>\n",
       "        <td style=\"padding-left: 1em; padding-right: 1em; text-align: center; vertical-align: top\">400</td>\n",
       "        <td style=\"padding-left: 1em; padding-right: 1em; text-align: center; vertical-align: top\">1951</td>\n",
       "        <td style=\"padding-left: 1em; padding-right: 1em; text-align: center; vertical-align: top\">1991</td>\n",
       "        <td style=\"padding-left: 1em; padding-right: 1em; text-align: center; vertical-align: top\">98125</td>\n",
       "        <td style=\"padding-left: 1em; padding-right: 1em; text-align: center; vertical-align: top\">47.72102274</td>\n",
       "    </tr>\n",
       "    <tr>\n",
       "        <td style=\"padding-left: 1em; padding-right: 1em; text-align: center; vertical-align: top\">0</td>\n",
       "        <td style=\"padding-left: 1em; padding-right: 1em; text-align: center; vertical-align: top\">3</td>\n",
       "        <td style=\"padding-left: 1em; padding-right: 1em; text-align: center; vertical-align: top\">6</td>\n",
       "        <td style=\"padding-left: 1em; padding-right: 1em; text-align: center; vertical-align: top\">770</td>\n",
       "        <td style=\"padding-left: 1em; padding-right: 1em; text-align: center; vertical-align: top\">0</td>\n",
       "        <td style=\"padding-left: 1em; padding-right: 1em; text-align: center; vertical-align: top\">1933</td>\n",
       "        <td style=\"padding-left: 1em; padding-right: 1em; text-align: center; vertical-align: top\">0</td>\n",
       "        <td style=\"padding-left: 1em; padding-right: 1em; text-align: center; vertical-align: top\">98028</td>\n",
       "        <td style=\"padding-left: 1em; padding-right: 1em; text-align: center; vertical-align: top\">47.73792661</td>\n",
       "    </tr>\n",
       "    <tr>\n",
       "        <td style=\"padding-left: 1em; padding-right: 1em; text-align: center; vertical-align: top\">0</td>\n",
       "        <td style=\"padding-left: 1em; padding-right: 1em; text-align: center; vertical-align: top\">5</td>\n",
       "        <td style=\"padding-left: 1em; padding-right: 1em; text-align: center; vertical-align: top\">7</td>\n",
       "        <td style=\"padding-left: 1em; padding-right: 1em; text-align: center; vertical-align: top\">1050</td>\n",
       "        <td style=\"padding-left: 1em; padding-right: 1em; text-align: center; vertical-align: top\">910</td>\n",
       "        <td style=\"padding-left: 1em; padding-right: 1em; text-align: center; vertical-align: top\">1965</td>\n",
       "        <td style=\"padding-left: 1em; padding-right: 1em; text-align: center; vertical-align: top\">0</td>\n",
       "        <td style=\"padding-left: 1em; padding-right: 1em; text-align: center; vertical-align: top\">98136</td>\n",
       "        <td style=\"padding-left: 1em; padding-right: 1em; text-align: center; vertical-align: top\">47.52082</td>\n",
       "    </tr>\n",
       "    <tr>\n",
       "        <td style=\"padding-left: 1em; padding-right: 1em; text-align: center; vertical-align: top\">0</td>\n",
       "        <td style=\"padding-left: 1em; padding-right: 1em; text-align: center; vertical-align: top\">3</td>\n",
       "        <td style=\"padding-left: 1em; padding-right: 1em; text-align: center; vertical-align: top\">8</td>\n",
       "        <td style=\"padding-left: 1em; padding-right: 1em; text-align: center; vertical-align: top\">1680</td>\n",
       "        <td style=\"padding-left: 1em; padding-right: 1em; text-align: center; vertical-align: top\">0</td>\n",
       "        <td style=\"padding-left: 1em; padding-right: 1em; text-align: center; vertical-align: top\">1987</td>\n",
       "        <td style=\"padding-left: 1em; padding-right: 1em; text-align: center; vertical-align: top\">0</td>\n",
       "        <td style=\"padding-left: 1em; padding-right: 1em; text-align: center; vertical-align: top\">98074</td>\n",
       "        <td style=\"padding-left: 1em; padding-right: 1em; text-align: center; vertical-align: top\">47.61681228</td>\n",
       "    </tr>\n",
       "    <tr>\n",
       "        <td style=\"padding-left: 1em; padding-right: 1em; text-align: center; vertical-align: top\">0</td>\n",
       "        <td style=\"padding-left: 1em; padding-right: 1em; text-align: center; vertical-align: top\">3</td>\n",
       "        <td style=\"padding-left: 1em; padding-right: 1em; text-align: center; vertical-align: top\">11</td>\n",
       "        <td style=\"padding-left: 1em; padding-right: 1em; text-align: center; vertical-align: top\">3890</td>\n",
       "        <td style=\"padding-left: 1em; padding-right: 1em; text-align: center; vertical-align: top\">1530</td>\n",
       "        <td style=\"padding-left: 1em; padding-right: 1em; text-align: center; vertical-align: top\">2001</td>\n",
       "        <td style=\"padding-left: 1em; padding-right: 1em; text-align: center; vertical-align: top\">0</td>\n",
       "        <td style=\"padding-left: 1em; padding-right: 1em; text-align: center; vertical-align: top\">98053</td>\n",
       "        <td style=\"padding-left: 1em; padding-right: 1em; text-align: center; vertical-align: top\">47.65611835</td>\n",
       "    </tr>\n",
       "    <tr>\n",
       "        <td style=\"padding-left: 1em; padding-right: 1em; text-align: center; vertical-align: top\">0</td>\n",
       "        <td style=\"padding-left: 1em; padding-right: 1em; text-align: center; vertical-align: top\">3</td>\n",
       "        <td style=\"padding-left: 1em; padding-right: 1em; text-align: center; vertical-align: top\">7</td>\n",
       "        <td style=\"padding-left: 1em; padding-right: 1em; text-align: center; vertical-align: top\">1715</td>\n",
       "        <td style=\"padding-left: 1em; padding-right: 1em; text-align: center; vertical-align: top\">0</td>\n",
       "        <td style=\"padding-left: 1em; padding-right: 1em; text-align: center; vertical-align: top\">1995</td>\n",
       "        <td style=\"padding-left: 1em; padding-right: 1em; text-align: center; vertical-align: top\">0</td>\n",
       "        <td style=\"padding-left: 1em; padding-right: 1em; text-align: center; vertical-align: top\">98003</td>\n",
       "        <td style=\"padding-left: 1em; padding-right: 1em; text-align: center; vertical-align: top\">47.30972002</td>\n",
       "    </tr>\n",
       "    <tr>\n",
       "        <td style=\"padding-left: 1em; padding-right: 1em; text-align: center; vertical-align: top\">0</td>\n",
       "        <td style=\"padding-left: 1em; padding-right: 1em; text-align: center; vertical-align: top\">3</td>\n",
       "        <td style=\"padding-left: 1em; padding-right: 1em; text-align: center; vertical-align: top\">7</td>\n",
       "        <td style=\"padding-left: 1em; padding-right: 1em; text-align: center; vertical-align: top\">1060</td>\n",
       "        <td style=\"padding-left: 1em; padding-right: 1em; text-align: center; vertical-align: top\">0</td>\n",
       "        <td style=\"padding-left: 1em; padding-right: 1em; text-align: center; vertical-align: top\">1963</td>\n",
       "        <td style=\"padding-left: 1em; padding-right: 1em; text-align: center; vertical-align: top\">0</td>\n",
       "        <td style=\"padding-left: 1em; padding-right: 1em; text-align: center; vertical-align: top\">98198</td>\n",
       "        <td style=\"padding-left: 1em; padding-right: 1em; text-align: center; vertical-align: top\">47.40949984</td>\n",
       "    </tr>\n",
       "    <tr>\n",
       "        <td style=\"padding-left: 1em; padding-right: 1em; text-align: center; vertical-align: top\">0</td>\n",
       "        <td style=\"padding-left: 1em; padding-right: 1em; text-align: center; vertical-align: top\">3</td>\n",
       "        <td style=\"padding-left: 1em; padding-right: 1em; text-align: center; vertical-align: top\">7</td>\n",
       "        <td style=\"padding-left: 1em; padding-right: 1em; text-align: center; vertical-align: top\">1050</td>\n",
       "        <td style=\"padding-left: 1em; padding-right: 1em; text-align: center; vertical-align: top\">730</td>\n",
       "        <td style=\"padding-left: 1em; padding-right: 1em; text-align: center; vertical-align: top\">1960</td>\n",
       "        <td style=\"padding-left: 1em; padding-right: 1em; text-align: center; vertical-align: top\">0</td>\n",
       "        <td style=\"padding-left: 1em; padding-right: 1em; text-align: center; vertical-align: top\">98146</td>\n",
       "        <td style=\"padding-left: 1em; padding-right: 1em; text-align: center; vertical-align: top\">47.51229381</td>\n",
       "    </tr>\n",
       "    <tr>\n",
       "        <td style=\"padding-left: 1em; padding-right: 1em; text-align: center; vertical-align: top\">0</td>\n",
       "        <td style=\"padding-left: 1em; padding-right: 1em; text-align: center; vertical-align: top\">3</td>\n",
       "        <td style=\"padding-left: 1em; padding-right: 1em; text-align: center; vertical-align: top\">7</td>\n",
       "        <td style=\"padding-left: 1em; padding-right: 1em; text-align: center; vertical-align: top\">1890</td>\n",
       "        <td style=\"padding-left: 1em; padding-right: 1em; text-align: center; vertical-align: top\">0</td>\n",
       "        <td style=\"padding-left: 1em; padding-right: 1em; text-align: center; vertical-align: top\">2003</td>\n",
       "        <td style=\"padding-left: 1em; padding-right: 1em; text-align: center; vertical-align: top\">0</td>\n",
       "        <td style=\"padding-left: 1em; padding-right: 1em; text-align: center; vertical-align: top\">98038</td>\n",
       "        <td style=\"padding-left: 1em; padding-right: 1em; text-align: center; vertical-align: top\">47.36840673</td>\n",
       "    </tr>\n",
       "</table>\n",
       "<table frame=\"box\" rules=\"cols\">\n",
       "    <tr>\n",
       "        <th style=\"padding-left: 1em; padding-right: 1em; text-align: center\">long</th>\n",
       "        <th style=\"padding-left: 1em; padding-right: 1em; text-align: center\">sqft_living15</th>\n",
       "        <th style=\"padding-left: 1em; padding-right: 1em; text-align: center\">sqft_lot15</th>\n",
       "    </tr>\n",
       "    <tr>\n",
       "        <td style=\"padding-left: 1em; padding-right: 1em; text-align: center; vertical-align: top\">-122.25677536</td>\n",
       "        <td style=\"padding-left: 1em; padding-right: 1em; text-align: center; vertical-align: top\">1340.0</td>\n",
       "        <td style=\"padding-left: 1em; padding-right: 1em; text-align: center; vertical-align: top\">5650.0</td>\n",
       "    </tr>\n",
       "    <tr>\n",
       "        <td style=\"padding-left: 1em; padding-right: 1em; text-align: center; vertical-align: top\">-122.3188624</td>\n",
       "        <td style=\"padding-left: 1em; padding-right: 1em; text-align: center; vertical-align: top\">1690.0</td>\n",
       "        <td style=\"padding-left: 1em; padding-right: 1em; text-align: center; vertical-align: top\">7639.0</td>\n",
       "    </tr>\n",
       "    <tr>\n",
       "        <td style=\"padding-left: 1em; padding-right: 1em; text-align: center; vertical-align: top\">-122.23319601</td>\n",
       "        <td style=\"padding-left: 1em; padding-right: 1em; text-align: center; vertical-align: top\">2720.0</td>\n",
       "        <td style=\"padding-left: 1em; padding-right: 1em; text-align: center; vertical-align: top\">8062.0</td>\n",
       "    </tr>\n",
       "    <tr>\n",
       "        <td style=\"padding-left: 1em; padding-right: 1em; text-align: center; vertical-align: top\">-122.39318505</td>\n",
       "        <td style=\"padding-left: 1em; padding-right: 1em; text-align: center; vertical-align: top\">1360.0</td>\n",
       "        <td style=\"padding-left: 1em; padding-right: 1em; text-align: center; vertical-align: top\">5000.0</td>\n",
       "    </tr>\n",
       "    <tr>\n",
       "        <td style=\"padding-left: 1em; padding-right: 1em; text-align: center; vertical-align: top\">-122.04490059</td>\n",
       "        <td style=\"padding-left: 1em; padding-right: 1em; text-align: center; vertical-align: top\">1800.0</td>\n",
       "        <td style=\"padding-left: 1em; padding-right: 1em; text-align: center; vertical-align: top\">7503.0</td>\n",
       "    </tr>\n",
       "    <tr>\n",
       "        <td style=\"padding-left: 1em; padding-right: 1em; text-align: center; vertical-align: top\">-122.00528655</td>\n",
       "        <td style=\"padding-left: 1em; padding-right: 1em; text-align: center; vertical-align: top\">4760.0</td>\n",
       "        <td style=\"padding-left: 1em; padding-right: 1em; text-align: center; vertical-align: top\">101930.0</td>\n",
       "    </tr>\n",
       "    <tr>\n",
       "        <td style=\"padding-left: 1em; padding-right: 1em; text-align: center; vertical-align: top\">-122.32704857</td>\n",
       "        <td style=\"padding-left: 1em; padding-right: 1em; text-align: center; vertical-align: top\">2238.0</td>\n",
       "        <td style=\"padding-left: 1em; padding-right: 1em; text-align: center; vertical-align: top\">6819.0</td>\n",
       "    </tr>\n",
       "    <tr>\n",
       "        <td style=\"padding-left: 1em; padding-right: 1em; text-align: center; vertical-align: top\">-122.31457273</td>\n",
       "        <td style=\"padding-left: 1em; padding-right: 1em; text-align: center; vertical-align: top\">1650.0</td>\n",
       "        <td style=\"padding-left: 1em; padding-right: 1em; text-align: center; vertical-align: top\">9711.0</td>\n",
       "    </tr>\n",
       "    <tr>\n",
       "        <td style=\"padding-left: 1em; padding-right: 1em; text-align: center; vertical-align: top\">-122.33659507</td>\n",
       "        <td style=\"padding-left: 1em; padding-right: 1em; text-align: center; vertical-align: top\">1780.0</td>\n",
       "        <td style=\"padding-left: 1em; padding-right: 1em; text-align: center; vertical-align: top\">8113.0</td>\n",
       "    </tr>\n",
       "    <tr>\n",
       "        <td style=\"padding-left: 1em; padding-right: 1em; text-align: center; vertical-align: top\">-122.0308176</td>\n",
       "        <td style=\"padding-left: 1em; padding-right: 1em; text-align: center; vertical-align: top\">2390.0</td>\n",
       "        <td style=\"padding-left: 1em; padding-right: 1em; text-align: center; vertical-align: top\">7570.0</td>\n",
       "    </tr>\n",
       "</table>\n",
       "[21613 rows x 21 columns]<br/>Note: Only the head of the SFrame is printed.<br/>You can use print_rows(num_rows=m, num_columns=n) to print more rows and columns.\n",
       "</div>"
      ],
      "text/plain": [
       "Columns:\n",
       "\tid\tstr\n",
       "\tdate\tdatetime\n",
       "\tprice\tint\n",
       "\tbedrooms\tstr\n",
       "\tbathrooms\tstr\n",
       "\tsqft_living\tint\n",
       "\tsqft_lot\tint\n",
       "\tfloors\tstr\n",
       "\twaterfront\tint\n",
       "\tview\tint\n",
       "\tcondition\tint\n",
       "\tgrade\tint\n",
       "\tsqft_above\tint\n",
       "\tsqft_basement\tint\n",
       "\tyr_built\tint\n",
       "\tyr_renovated\tint\n",
       "\tzipcode\tstr\n",
       "\tlat\tfloat\n",
       "\tlong\tfloat\n",
       "\tsqft_living15\tfloat\n",
       "\tsqft_lot15\tfloat\n",
       "\n",
       "Rows: 21613\n",
       "\n",
       "Data:\n",
       "+------------+---------------------------+---------+----------+-----------+-------------+\n",
       "|     id     |            date           |  price  | bedrooms | bathrooms | sqft_living |\n",
       "+------------+---------------------------+---------+----------+-----------+-------------+\n",
       "| 7129300520 | 2014-10-13 00:00:00+00:00 |  221900 |    3     |     1     |     1180    |\n",
       "| 6414100192 | 2014-12-09 00:00:00+00:00 |  538000 |    3     |    2.25   |     2570    |\n",
       "| 5631500400 | 2015-02-25 00:00:00+00:00 |  180000 |    2     |     1     |     770     |\n",
       "| 2487200875 | 2014-12-09 00:00:00+00:00 |  604000 |    4     |     3     |     1960    |\n",
       "| 1954400510 | 2015-02-18 00:00:00+00:00 |  510000 |    3     |     2     |     1680    |\n",
       "| 7237550310 | 2014-05-12 00:00:00+00:00 | 1225000 |    4     |    4.5    |     5420    |\n",
       "| 1321400060 | 2014-06-27 00:00:00+00:00 |  257500 |    3     |    2.25   |     1715    |\n",
       "| 2008000270 | 2015-01-15 00:00:00+00:00 |  291850 |    3     |    1.5    |     1060    |\n",
       "| 2414600126 | 2015-04-15 00:00:00+00:00 |  229500 |    3     |     1     |     1780    |\n",
       "| 3793500160 | 2015-03-12 00:00:00+00:00 |  323000 |    3     |    2.5    |     1890    |\n",
       "+------------+---------------------------+---------+----------+-----------+-------------+\n",
       "+----------+--------+------------+------+-----------+-------+------------+---------------+\n",
       "| sqft_lot | floors | waterfront | view | condition | grade | sqft_above | sqft_basement |\n",
       "+----------+--------+------------+------+-----------+-------+------------+---------------+\n",
       "|   5650   |   1    |     0      |  0   |     3     |   7   |    1180    |       0       |\n",
       "|   7242   |   2    |     0      |  0   |     3     |   7   |    2170    |      400      |\n",
       "|  10000   |   1    |     0      |  0   |     3     |   6   |    770     |       0       |\n",
       "|   5000   |   1    |     0      |  0   |     5     |   7   |    1050    |      910      |\n",
       "|   8080   |   1    |     0      |  0   |     3     |   8   |    1680    |       0       |\n",
       "|  101930  |   1    |     0      |  0   |     3     |   11  |    3890    |      1530     |\n",
       "|   6819   |   2    |     0      |  0   |     3     |   7   |    1715    |       0       |\n",
       "|   9711   |   1    |     0      |  0   |     3     |   7   |    1060    |       0       |\n",
       "|   7470   |   1    |     0      |  0   |     3     |   7   |    1050    |      730      |\n",
       "|   6560   |   2    |     0      |  0   |     3     |   7   |    1890    |       0       |\n",
       "+----------+--------+------------+------+-----------+-------+------------+---------------+\n",
       "+----------+--------------+---------+-------------+---------------+---------------+-----+\n",
       "| yr_built | yr_renovated | zipcode |     lat     |      long     | sqft_living15 | ... |\n",
       "+----------+--------------+---------+-------------+---------------+---------------+-----+\n",
       "|   1955   |      0       |  98178  | 47.51123398 | -122.25677536 |     1340.0    | ... |\n",
       "|   1951   |     1991     |  98125  | 47.72102274 |  -122.3188624 |     1690.0    | ... |\n",
       "|   1933   |      0       |  98028  | 47.73792661 | -122.23319601 |     2720.0    | ... |\n",
       "|   1965   |      0       |  98136  |   47.52082  | -122.39318505 |     1360.0    | ... |\n",
       "|   1987   |      0       |  98074  | 47.61681228 | -122.04490059 |     1800.0    | ... |\n",
       "|   2001   |      0       |  98053  | 47.65611835 | -122.00528655 |     4760.0    | ... |\n",
       "|   1995   |      0       |  98003  | 47.30972002 | -122.32704857 |     2238.0    | ... |\n",
       "|   1963   |      0       |  98198  | 47.40949984 | -122.31457273 |     1650.0    | ... |\n",
       "|   1960   |      0       |  98146  | 47.51229381 | -122.33659507 |     1780.0    | ... |\n",
       "|   2003   |      0       |  98038  | 47.36840673 |  -122.0308176 |     2390.0    | ... |\n",
       "+----------+--------------+---------+-------------+---------------+---------------+-----+\n",
       "[21613 rows x 21 columns]\n",
       "Note: Only the head of the SFrame is printed.\n",
       "You can use print_rows(num_rows=m, num_columns=n) to print more rows and columns."
      ]
     },
     "execution_count": 9,
     "metadata": {},
     "output_type": "execute_result"
    }
   ],
   "source": [
    "homedata"
   ]
  },
  {
   "cell_type": "code",
   "execution_count": 10,
   "metadata": {},
   "outputs": [
    {
     "name": "stdout",
     "output_type": "stream",
     "text": [
      "+------------+---------------------------+--------+----------+-----------+-------------+\n",
      "|     id     |            date           | price  | bedrooms | bathrooms | sqft_living |\n",
      "+------------+---------------------------+--------+----------+-----------+-------------+\n",
      "| 7129300520 | 2014-10-13 00:00:00+00:00 | 221900 |    3     |     1     |     1180    |\n",
      "| 6414100192 | 2014-12-09 00:00:00+00:00 | 538000 |    3     |    2.25   |     2570    |\n",
      "| 5631500400 | 2015-02-25 00:00:00+00:00 | 180000 |    2     |     1     |     770     |\n",
      "| 2487200875 | 2014-12-09 00:00:00+00:00 | 604000 |    4     |     3     |     1960    |\n",
      "| 1954400510 | 2015-02-18 00:00:00+00:00 | 510000 |    3     |     2     |     1680    |\n",
      "+------------+---------------------------+--------+----------+-----------+-------------+\n",
      "+----------+--------+------------+------+-----+\n",
      "| sqft_lot | floors | waterfront | view | ... |\n",
      "+----------+--------+------------+------+-----+\n",
      "|   5650   |   1    |     0      |  0   | ... |\n",
      "|   7242   |   2    |     0      |  0   | ... |\n",
      "|  10000   |   1    |     0      |  0   | ... |\n",
      "|   5000   |   1    |     0      |  0   | ... |\n",
      "|   8080   |   1    |     0      |  0   | ... |\n",
      "+----------+--------+------------+------+-----+\n",
      "[21613 rows x 21 columns]\n",
      "\n"
     ]
    }
   ],
   "source": [
    "homedata.print_rows(5, 10)"
   ]
  },
  {
   "cell_type": "code",
   "execution_count": 11,
   "metadata": {
    "collapsed": true
   },
   "outputs": [],
   "source": [
    "graphlab.canvas.set_target('ipynb')"
   ]
  },
  {
   "cell_type": "code",
   "execution_count": 12,
   "metadata": {},
   "outputs": [
    {
     "data": {
      "application/javascript": [
       "$(\"head\").append($(\"<link/>\").attr({\n",
       "  rel:  \"stylesheet\",\n",
       "  type: \"text/css\",\n",
       "  href: \"//cdnjs.cloudflare.com/ajax/libs/font-awesome/4.1.0/css/font-awesome.min.css\"\n",
       "}));\n",
       "$(\"head\").append($(\"<link/>\").attr({\n",
       "  rel:  \"stylesheet\",\n",
       "  type: \"text/css\",\n",
       "  href: \"https://static.turi.com/products/graphlab-create/2.1/canvas/css/canvas.css\"\n",
       "}));\n",
       "\n",
       "            (function(){\n",
       "\n",
       "                var e = null;\n",
       "                if (typeof element == 'undefined') {\n",
       "                    var scripts = document.getElementsByTagName('script');\n",
       "                    var thisScriptTag = scripts[scripts.length-1];\n",
       "                    var parentDiv = thisScriptTag.parentNode;\n",
       "                    e = document.createElement('div');\n",
       "                    parentDiv.appendChild(e);\n",
       "                } else {\n",
       "                    e = element[0];\n",
       "                }\n",
       "\n",
       "                if (typeof requirejs !== 'undefined') {\n",
       "                    // disable load timeout; ipython_app.js is large and can take a while to load.\n",
       "                    requirejs.config({waitSeconds: 0});\n",
       "                }\n",
       "\n",
       "                require(['https://static.turi.com/products/graphlab-create/2.1/canvas/js/ipython_app.js'], function(IPythonApp){\n",
       "                    var app = new IPythonApp();\n",
       "                    app.attachView('sframe','Plots', {\"selected_variable\": {\"name\": [\"homedata\"], \"descriptives\": {\"rows\": 21613, \"columns\": 21}, \"view_component\": \"Plots\", \"view_file\": \"sframe\", \"view_params\": {\"y\": \"price\", \"x\": \"bedrooms\", \"columns\": [\"id\", \"date\", \"price\", \"bedrooms\", \"bathrooms\", \"sqft_living\", \"sqft_lot\", \"floors\", \"waterfront\", \"view\", \"condition\", \"grade\", \"sqft_above\", \"sqft_basement\", \"yr_built\", \"yr_renovated\", \"zipcode\", \"lat\", \"long\", \"sqft_living15\", \"sqft_lot15\"], \"view\": \"Scatter Plot\"}, \"view_components\": [\"Summary\", \"Table\", \"Bar Chart\", \"BoxWhisker Plot\", \"Line Chart\", \"Scatter Plot\", \"Heat Map\", \"Plots\"], \"type\": \"SFrame\", \"columns\": [{\"dtype\": \"str\", \"name\": \"id\"}, {\"dtype\": \"datetime\", \"name\": \"date\"}, {\"dtype\": \"int\", \"name\": \"price\"}, {\"dtype\": \"str\", \"name\": \"bedrooms\"}, {\"dtype\": \"str\", \"name\": \"bathrooms\"}, {\"dtype\": \"int\", \"name\": \"sqft_living\"}, {\"dtype\": \"int\", \"name\": \"sqft_lot\"}, {\"dtype\": \"str\", \"name\": \"floors\"}, {\"dtype\": \"int\", \"name\": \"waterfront\"}, {\"dtype\": \"int\", \"name\": \"view\"}, {\"dtype\": \"int\", \"name\": \"condition\"}, {\"dtype\": \"int\", \"name\": \"grade\"}, {\"dtype\": \"int\", \"name\": \"sqft_above\"}, {\"dtype\": \"int\", \"name\": \"sqft_basement\"}, {\"dtype\": \"int\", \"name\": \"yr_built\"}, {\"dtype\": \"int\", \"name\": \"yr_renovated\"}, {\"dtype\": \"str\", \"name\": \"zipcode\"}, {\"dtype\": \"float\", \"name\": \"lat\"}, {\"dtype\": \"float\", \"name\": \"long\"}, {\"dtype\": \"float\", \"name\": \"sqft_living15\"}, {\"dtype\": \"float\", \"name\": \"sqft_lot15\"}], \"column_identifiers\": [\"bathrooms\", \"sqft_living15\", \"sqft_above\", \"grade\", \"yr_built\", \"price\", \"bedrooms\", \"zipcode\", \"long\", \"id\", \"sqft_lot15\", \"sqft_living\", \"floors\", \"sqft_lot\", \"date\", \"waterfront\", \"sqft_basement\", \"yr_renovated\", \"lat\", \"condition\", \"view\"]}, \"complete\": 1, \"ipython\": true, \"progress\": 1.0, \"data\": [], \"columns\": [{\"dtype\": \"str\", \"name\": \"id\"}, {\"dtype\": \"datetime\", \"name\": \"date\"}, {\"dtype\": \"int\", \"name\": \"price\"}, {\"dtype\": \"str\", \"name\": \"bedrooms\"}, {\"dtype\": \"str\", \"name\": \"bathrooms\"}, {\"dtype\": \"int\", \"name\": \"sqft_living\"}, {\"dtype\": \"int\", \"name\": \"sqft_lot\"}, {\"dtype\": \"str\", \"name\": \"floors\"}, {\"dtype\": \"int\", \"name\": \"waterfront\"}, {\"dtype\": \"int\", \"name\": \"view\"}, {\"dtype\": \"int\", \"name\": \"condition\"}, {\"dtype\": \"int\", \"name\": \"grade\"}, {\"dtype\": \"int\", \"name\": \"sqft_above\"}, {\"dtype\": \"int\", \"name\": \"sqft_basement\"}, {\"dtype\": \"int\", \"name\": \"yr_built\"}, {\"dtype\": \"int\", \"name\": \"yr_renovated\"}, {\"dtype\": \"str\", \"name\": \"zipcode\"}, {\"dtype\": \"float\", \"name\": \"lat\"}, {\"dtype\": \"float\", \"name\": \"long\"}, {\"dtype\": \"float\", \"name\": \"sqft_living15\"}, {\"dtype\": \"float\", \"name\": \"sqft_lot15\"}]}, e);\n",
       "                });\n",
       "            })();\n",
       "        "
      ]
     },
     "metadata": {},
     "output_type": "display_data"
    }
   ],
   "source": [
    "homedata.show(view='Scatter Plot', x='bedrooms', y='price')"
   ]
  },
  {
   "cell_type": "code",
   "execution_count": 13,
   "metadata": {},
   "outputs": [
    {
     "data": {
      "text/html": [
       "<div style=\"max-height:1000px;max-width:1500px;overflow:auto;\"><table frame=\"box\" rules=\"cols\">\n",
       "    <tr>\n",
       "        <th style=\"padding-left: 1em; padding-right: 1em; text-align: center\">id</th>\n",
       "        <th style=\"padding-left: 1em; padding-right: 1em; text-align: center\">date</th>\n",
       "        <th style=\"padding-left: 1em; padding-right: 1em; text-align: center\">price</th>\n",
       "        <th style=\"padding-left: 1em; padding-right: 1em; text-align: center\">bedrooms</th>\n",
       "        <th style=\"padding-left: 1em; padding-right: 1em; text-align: center\">bathrooms</th>\n",
       "        <th style=\"padding-left: 1em; padding-right: 1em; text-align: center\">sqft_living</th>\n",
       "        <th style=\"padding-left: 1em; padding-right: 1em; text-align: center\">sqft_lot</th>\n",
       "        <th style=\"padding-left: 1em; padding-right: 1em; text-align: center\">floors</th>\n",
       "        <th style=\"padding-left: 1em; padding-right: 1em; text-align: center\">waterfront</th>\n",
       "    </tr>\n",
       "    <tr>\n",
       "        <td style=\"padding-left: 1em; padding-right: 1em; text-align: center; vertical-align: top\">7129300520</td>\n",
       "        <td style=\"padding-left: 1em; padding-right: 1em; text-align: center; vertical-align: top\">2014-10-13 00:00:00+00:00</td>\n",
       "        <td style=\"padding-left: 1em; padding-right: 1em; text-align: center; vertical-align: top\">221900</td>\n",
       "        <td style=\"padding-left: 1em; padding-right: 1em; text-align: center; vertical-align: top\">3</td>\n",
       "        <td style=\"padding-left: 1em; padding-right: 1em; text-align: center; vertical-align: top\">1</td>\n",
       "        <td style=\"padding-left: 1em; padding-right: 1em; text-align: center; vertical-align: top\">1180</td>\n",
       "        <td style=\"padding-left: 1em; padding-right: 1em; text-align: center; vertical-align: top\">5650</td>\n",
       "        <td style=\"padding-left: 1em; padding-right: 1em; text-align: center; vertical-align: top\">1</td>\n",
       "        <td style=\"padding-left: 1em; padding-right: 1em; text-align: center; vertical-align: top\">0</td>\n",
       "    </tr>\n",
       "    <tr>\n",
       "        <td style=\"padding-left: 1em; padding-right: 1em; text-align: center; vertical-align: top\">6414100192</td>\n",
       "        <td style=\"padding-left: 1em; padding-right: 1em; text-align: center; vertical-align: top\">2014-12-09 00:00:00+00:00</td>\n",
       "        <td style=\"padding-left: 1em; padding-right: 1em; text-align: center; vertical-align: top\">538000</td>\n",
       "        <td style=\"padding-left: 1em; padding-right: 1em; text-align: center; vertical-align: top\">3</td>\n",
       "        <td style=\"padding-left: 1em; padding-right: 1em; text-align: center; vertical-align: top\">2.25</td>\n",
       "        <td style=\"padding-left: 1em; padding-right: 1em; text-align: center; vertical-align: top\">2570</td>\n",
       "        <td style=\"padding-left: 1em; padding-right: 1em; text-align: center; vertical-align: top\">7242</td>\n",
       "        <td style=\"padding-left: 1em; padding-right: 1em; text-align: center; vertical-align: top\">2</td>\n",
       "        <td style=\"padding-left: 1em; padding-right: 1em; text-align: center; vertical-align: top\">0</td>\n",
       "    </tr>\n",
       "    <tr>\n",
       "        <td style=\"padding-left: 1em; padding-right: 1em; text-align: center; vertical-align: top\">5631500400</td>\n",
       "        <td style=\"padding-left: 1em; padding-right: 1em; text-align: center; vertical-align: top\">2015-02-25 00:00:00+00:00</td>\n",
       "        <td style=\"padding-left: 1em; padding-right: 1em; text-align: center; vertical-align: top\">180000</td>\n",
       "        <td style=\"padding-left: 1em; padding-right: 1em; text-align: center; vertical-align: top\">2</td>\n",
       "        <td style=\"padding-left: 1em; padding-right: 1em; text-align: center; vertical-align: top\">1</td>\n",
       "        <td style=\"padding-left: 1em; padding-right: 1em; text-align: center; vertical-align: top\">770</td>\n",
       "        <td style=\"padding-left: 1em; padding-right: 1em; text-align: center; vertical-align: top\">10000</td>\n",
       "        <td style=\"padding-left: 1em; padding-right: 1em; text-align: center; vertical-align: top\">1</td>\n",
       "        <td style=\"padding-left: 1em; padding-right: 1em; text-align: center; vertical-align: top\">0</td>\n",
       "    </tr>\n",
       "    <tr>\n",
       "        <td style=\"padding-left: 1em; padding-right: 1em; text-align: center; vertical-align: top\">2487200875</td>\n",
       "        <td style=\"padding-left: 1em; padding-right: 1em; text-align: center; vertical-align: top\">2014-12-09 00:00:00+00:00</td>\n",
       "        <td style=\"padding-left: 1em; padding-right: 1em; text-align: center; vertical-align: top\">604000</td>\n",
       "        <td style=\"padding-left: 1em; padding-right: 1em; text-align: center; vertical-align: top\">4</td>\n",
       "        <td style=\"padding-left: 1em; padding-right: 1em; text-align: center; vertical-align: top\">3</td>\n",
       "        <td style=\"padding-left: 1em; padding-right: 1em; text-align: center; vertical-align: top\">1960</td>\n",
       "        <td style=\"padding-left: 1em; padding-right: 1em; text-align: center; vertical-align: top\">5000</td>\n",
       "        <td style=\"padding-left: 1em; padding-right: 1em; text-align: center; vertical-align: top\">1</td>\n",
       "        <td style=\"padding-left: 1em; padding-right: 1em; text-align: center; vertical-align: top\">0</td>\n",
       "    </tr>\n",
       "    <tr>\n",
       "        <td style=\"padding-left: 1em; padding-right: 1em; text-align: center; vertical-align: top\">1954400510</td>\n",
       "        <td style=\"padding-left: 1em; padding-right: 1em; text-align: center; vertical-align: top\">2015-02-18 00:00:00+00:00</td>\n",
       "        <td style=\"padding-left: 1em; padding-right: 1em; text-align: center; vertical-align: top\">510000</td>\n",
       "        <td style=\"padding-left: 1em; padding-right: 1em; text-align: center; vertical-align: top\">3</td>\n",
       "        <td style=\"padding-left: 1em; padding-right: 1em; text-align: center; vertical-align: top\">2</td>\n",
       "        <td style=\"padding-left: 1em; padding-right: 1em; text-align: center; vertical-align: top\">1680</td>\n",
       "        <td style=\"padding-left: 1em; padding-right: 1em; text-align: center; vertical-align: top\">8080</td>\n",
       "        <td style=\"padding-left: 1em; padding-right: 1em; text-align: center; vertical-align: top\">1</td>\n",
       "        <td style=\"padding-left: 1em; padding-right: 1em; text-align: center; vertical-align: top\">0</td>\n",
       "    </tr>\n",
       "    <tr>\n",
       "        <td style=\"padding-left: 1em; padding-right: 1em; text-align: center; vertical-align: top\">7237550310</td>\n",
       "        <td style=\"padding-left: 1em; padding-right: 1em; text-align: center; vertical-align: top\">2014-05-12 00:00:00+00:00</td>\n",
       "        <td style=\"padding-left: 1em; padding-right: 1em; text-align: center; vertical-align: top\">1225000</td>\n",
       "        <td style=\"padding-left: 1em; padding-right: 1em; text-align: center; vertical-align: top\">4</td>\n",
       "        <td style=\"padding-left: 1em; padding-right: 1em; text-align: center; vertical-align: top\">4.5</td>\n",
       "        <td style=\"padding-left: 1em; padding-right: 1em; text-align: center; vertical-align: top\">5420</td>\n",
       "        <td style=\"padding-left: 1em; padding-right: 1em; text-align: center; vertical-align: top\">101930</td>\n",
       "        <td style=\"padding-left: 1em; padding-right: 1em; text-align: center; vertical-align: top\">1</td>\n",
       "        <td style=\"padding-left: 1em; padding-right: 1em; text-align: center; vertical-align: top\">0</td>\n",
       "    </tr>\n",
       "    <tr>\n",
       "        <td style=\"padding-left: 1em; padding-right: 1em; text-align: center; vertical-align: top\">1321400060</td>\n",
       "        <td style=\"padding-left: 1em; padding-right: 1em; text-align: center; vertical-align: top\">2014-06-27 00:00:00+00:00</td>\n",
       "        <td style=\"padding-left: 1em; padding-right: 1em; text-align: center; vertical-align: top\">257500</td>\n",
       "        <td style=\"padding-left: 1em; padding-right: 1em; text-align: center; vertical-align: top\">3</td>\n",
       "        <td style=\"padding-left: 1em; padding-right: 1em; text-align: center; vertical-align: top\">2.25</td>\n",
       "        <td style=\"padding-left: 1em; padding-right: 1em; text-align: center; vertical-align: top\">1715</td>\n",
       "        <td style=\"padding-left: 1em; padding-right: 1em; text-align: center; vertical-align: top\">6819</td>\n",
       "        <td style=\"padding-left: 1em; padding-right: 1em; text-align: center; vertical-align: top\">2</td>\n",
       "        <td style=\"padding-left: 1em; padding-right: 1em; text-align: center; vertical-align: top\">0</td>\n",
       "    </tr>\n",
       "    <tr>\n",
       "        <td style=\"padding-left: 1em; padding-right: 1em; text-align: center; vertical-align: top\">2008000270</td>\n",
       "        <td style=\"padding-left: 1em; padding-right: 1em; text-align: center; vertical-align: top\">2015-01-15 00:00:00+00:00</td>\n",
       "        <td style=\"padding-left: 1em; padding-right: 1em; text-align: center; vertical-align: top\">291850</td>\n",
       "        <td style=\"padding-left: 1em; padding-right: 1em; text-align: center; vertical-align: top\">3</td>\n",
       "        <td style=\"padding-left: 1em; padding-right: 1em; text-align: center; vertical-align: top\">1.5</td>\n",
       "        <td style=\"padding-left: 1em; padding-right: 1em; text-align: center; vertical-align: top\">1060</td>\n",
       "        <td style=\"padding-left: 1em; padding-right: 1em; text-align: center; vertical-align: top\">9711</td>\n",
       "        <td style=\"padding-left: 1em; padding-right: 1em; text-align: center; vertical-align: top\">1</td>\n",
       "        <td style=\"padding-left: 1em; padding-right: 1em; text-align: center; vertical-align: top\">0</td>\n",
       "    </tr>\n",
       "    <tr>\n",
       "        <td style=\"padding-left: 1em; padding-right: 1em; text-align: center; vertical-align: top\">2414600126</td>\n",
       "        <td style=\"padding-left: 1em; padding-right: 1em; text-align: center; vertical-align: top\">2015-04-15 00:00:00+00:00</td>\n",
       "        <td style=\"padding-left: 1em; padding-right: 1em; text-align: center; vertical-align: top\">229500</td>\n",
       "        <td style=\"padding-left: 1em; padding-right: 1em; text-align: center; vertical-align: top\">3</td>\n",
       "        <td style=\"padding-left: 1em; padding-right: 1em; text-align: center; vertical-align: top\">1</td>\n",
       "        <td style=\"padding-left: 1em; padding-right: 1em; text-align: center; vertical-align: top\">1780</td>\n",
       "        <td style=\"padding-left: 1em; padding-right: 1em; text-align: center; vertical-align: top\">7470</td>\n",
       "        <td style=\"padding-left: 1em; padding-right: 1em; text-align: center; vertical-align: top\">1</td>\n",
       "        <td style=\"padding-left: 1em; padding-right: 1em; text-align: center; vertical-align: top\">0</td>\n",
       "    </tr>\n",
       "    <tr>\n",
       "        <td style=\"padding-left: 1em; padding-right: 1em; text-align: center; vertical-align: top\">3793500160</td>\n",
       "        <td style=\"padding-left: 1em; padding-right: 1em; text-align: center; vertical-align: top\">2015-03-12 00:00:00+00:00</td>\n",
       "        <td style=\"padding-left: 1em; padding-right: 1em; text-align: center; vertical-align: top\">323000</td>\n",
       "        <td style=\"padding-left: 1em; padding-right: 1em; text-align: center; vertical-align: top\">3</td>\n",
       "        <td style=\"padding-left: 1em; padding-right: 1em; text-align: center; vertical-align: top\">2.5</td>\n",
       "        <td style=\"padding-left: 1em; padding-right: 1em; text-align: center; vertical-align: top\">1890</td>\n",
       "        <td style=\"padding-left: 1em; padding-right: 1em; text-align: center; vertical-align: top\">6560</td>\n",
       "        <td style=\"padding-left: 1em; padding-right: 1em; text-align: center; vertical-align: top\">2</td>\n",
       "        <td style=\"padding-left: 1em; padding-right: 1em; text-align: center; vertical-align: top\">0</td>\n",
       "    </tr>\n",
       "</table>\n",
       "<table frame=\"box\" rules=\"cols\">\n",
       "    <tr>\n",
       "        <th style=\"padding-left: 1em; padding-right: 1em; text-align: center\">view</th>\n",
       "        <th style=\"padding-left: 1em; padding-right: 1em; text-align: center\">condition</th>\n",
       "        <th style=\"padding-left: 1em; padding-right: 1em; text-align: center\">grade</th>\n",
       "        <th style=\"padding-left: 1em; padding-right: 1em; text-align: center\">sqft_above</th>\n",
       "        <th style=\"padding-left: 1em; padding-right: 1em; text-align: center\">sqft_basement</th>\n",
       "        <th style=\"padding-left: 1em; padding-right: 1em; text-align: center\">yr_built</th>\n",
       "        <th style=\"padding-left: 1em; padding-right: 1em; text-align: center\">yr_renovated</th>\n",
       "        <th style=\"padding-left: 1em; padding-right: 1em; text-align: center\">zipcode</th>\n",
       "        <th style=\"padding-left: 1em; padding-right: 1em; text-align: center\">lat</th>\n",
       "    </tr>\n",
       "    <tr>\n",
       "        <td style=\"padding-left: 1em; padding-right: 1em; text-align: center; vertical-align: top\">0</td>\n",
       "        <td style=\"padding-left: 1em; padding-right: 1em; text-align: center; vertical-align: top\">3</td>\n",
       "        <td style=\"padding-left: 1em; padding-right: 1em; text-align: center; vertical-align: top\">7</td>\n",
       "        <td style=\"padding-left: 1em; padding-right: 1em; text-align: center; vertical-align: top\">1180</td>\n",
       "        <td style=\"padding-left: 1em; padding-right: 1em; text-align: center; vertical-align: top\">0</td>\n",
       "        <td style=\"padding-left: 1em; padding-right: 1em; text-align: center; vertical-align: top\">1955</td>\n",
       "        <td style=\"padding-left: 1em; padding-right: 1em; text-align: center; vertical-align: top\">0</td>\n",
       "        <td style=\"padding-left: 1em; padding-right: 1em; text-align: center; vertical-align: top\">98178</td>\n",
       "        <td style=\"padding-left: 1em; padding-right: 1em; text-align: center; vertical-align: top\">47.51123398</td>\n",
       "    </tr>\n",
       "    <tr>\n",
       "        <td style=\"padding-left: 1em; padding-right: 1em; text-align: center; vertical-align: top\">0</td>\n",
       "        <td style=\"padding-left: 1em; padding-right: 1em; text-align: center; vertical-align: top\">3</td>\n",
       "        <td style=\"padding-left: 1em; padding-right: 1em; text-align: center; vertical-align: top\">7</td>\n",
       "        <td style=\"padding-left: 1em; padding-right: 1em; text-align: center; vertical-align: top\">2170</td>\n",
       "        <td style=\"padding-left: 1em; padding-right: 1em; text-align: center; vertical-align: top\">400</td>\n",
       "        <td style=\"padding-left: 1em; padding-right: 1em; text-align: center; vertical-align: top\">1951</td>\n",
       "        <td style=\"padding-left: 1em; padding-right: 1em; text-align: center; vertical-align: top\">1991</td>\n",
       "        <td style=\"padding-left: 1em; padding-right: 1em; text-align: center; vertical-align: top\">98125</td>\n",
       "        <td style=\"padding-left: 1em; padding-right: 1em; text-align: center; vertical-align: top\">47.72102274</td>\n",
       "    </tr>\n",
       "    <tr>\n",
       "        <td style=\"padding-left: 1em; padding-right: 1em; text-align: center; vertical-align: top\">0</td>\n",
       "        <td style=\"padding-left: 1em; padding-right: 1em; text-align: center; vertical-align: top\">3</td>\n",
       "        <td style=\"padding-left: 1em; padding-right: 1em; text-align: center; vertical-align: top\">6</td>\n",
       "        <td style=\"padding-left: 1em; padding-right: 1em; text-align: center; vertical-align: top\">770</td>\n",
       "        <td style=\"padding-left: 1em; padding-right: 1em; text-align: center; vertical-align: top\">0</td>\n",
       "        <td style=\"padding-left: 1em; padding-right: 1em; text-align: center; vertical-align: top\">1933</td>\n",
       "        <td style=\"padding-left: 1em; padding-right: 1em; text-align: center; vertical-align: top\">0</td>\n",
       "        <td style=\"padding-left: 1em; padding-right: 1em; text-align: center; vertical-align: top\">98028</td>\n",
       "        <td style=\"padding-left: 1em; padding-right: 1em; text-align: center; vertical-align: top\">47.73792661</td>\n",
       "    </tr>\n",
       "    <tr>\n",
       "        <td style=\"padding-left: 1em; padding-right: 1em; text-align: center; vertical-align: top\">0</td>\n",
       "        <td style=\"padding-left: 1em; padding-right: 1em; text-align: center; vertical-align: top\">5</td>\n",
       "        <td style=\"padding-left: 1em; padding-right: 1em; text-align: center; vertical-align: top\">7</td>\n",
       "        <td style=\"padding-left: 1em; padding-right: 1em; text-align: center; vertical-align: top\">1050</td>\n",
       "        <td style=\"padding-left: 1em; padding-right: 1em; text-align: center; vertical-align: top\">910</td>\n",
       "        <td style=\"padding-left: 1em; padding-right: 1em; text-align: center; vertical-align: top\">1965</td>\n",
       "        <td style=\"padding-left: 1em; padding-right: 1em; text-align: center; vertical-align: top\">0</td>\n",
       "        <td style=\"padding-left: 1em; padding-right: 1em; text-align: center; vertical-align: top\">98136</td>\n",
       "        <td style=\"padding-left: 1em; padding-right: 1em; text-align: center; vertical-align: top\">47.52082</td>\n",
       "    </tr>\n",
       "    <tr>\n",
       "        <td style=\"padding-left: 1em; padding-right: 1em; text-align: center; vertical-align: top\">0</td>\n",
       "        <td style=\"padding-left: 1em; padding-right: 1em; text-align: center; vertical-align: top\">3</td>\n",
       "        <td style=\"padding-left: 1em; padding-right: 1em; text-align: center; vertical-align: top\">8</td>\n",
       "        <td style=\"padding-left: 1em; padding-right: 1em; text-align: center; vertical-align: top\">1680</td>\n",
       "        <td style=\"padding-left: 1em; padding-right: 1em; text-align: center; vertical-align: top\">0</td>\n",
       "        <td style=\"padding-left: 1em; padding-right: 1em; text-align: center; vertical-align: top\">1987</td>\n",
       "        <td style=\"padding-left: 1em; padding-right: 1em; text-align: center; vertical-align: top\">0</td>\n",
       "        <td style=\"padding-left: 1em; padding-right: 1em; text-align: center; vertical-align: top\">98074</td>\n",
       "        <td style=\"padding-left: 1em; padding-right: 1em; text-align: center; vertical-align: top\">47.61681228</td>\n",
       "    </tr>\n",
       "    <tr>\n",
       "        <td style=\"padding-left: 1em; padding-right: 1em; text-align: center; vertical-align: top\">0</td>\n",
       "        <td style=\"padding-left: 1em; padding-right: 1em; text-align: center; vertical-align: top\">3</td>\n",
       "        <td style=\"padding-left: 1em; padding-right: 1em; text-align: center; vertical-align: top\">11</td>\n",
       "        <td style=\"padding-left: 1em; padding-right: 1em; text-align: center; vertical-align: top\">3890</td>\n",
       "        <td style=\"padding-left: 1em; padding-right: 1em; text-align: center; vertical-align: top\">1530</td>\n",
       "        <td style=\"padding-left: 1em; padding-right: 1em; text-align: center; vertical-align: top\">2001</td>\n",
       "        <td style=\"padding-left: 1em; padding-right: 1em; text-align: center; vertical-align: top\">0</td>\n",
       "        <td style=\"padding-left: 1em; padding-right: 1em; text-align: center; vertical-align: top\">98053</td>\n",
       "        <td style=\"padding-left: 1em; padding-right: 1em; text-align: center; vertical-align: top\">47.65611835</td>\n",
       "    </tr>\n",
       "    <tr>\n",
       "        <td style=\"padding-left: 1em; padding-right: 1em; text-align: center; vertical-align: top\">0</td>\n",
       "        <td style=\"padding-left: 1em; padding-right: 1em; text-align: center; vertical-align: top\">3</td>\n",
       "        <td style=\"padding-left: 1em; padding-right: 1em; text-align: center; vertical-align: top\">7</td>\n",
       "        <td style=\"padding-left: 1em; padding-right: 1em; text-align: center; vertical-align: top\">1715</td>\n",
       "        <td style=\"padding-left: 1em; padding-right: 1em; text-align: center; vertical-align: top\">0</td>\n",
       "        <td style=\"padding-left: 1em; padding-right: 1em; text-align: center; vertical-align: top\">1995</td>\n",
       "        <td style=\"padding-left: 1em; padding-right: 1em; text-align: center; vertical-align: top\">0</td>\n",
       "        <td style=\"padding-left: 1em; padding-right: 1em; text-align: center; vertical-align: top\">98003</td>\n",
       "        <td style=\"padding-left: 1em; padding-right: 1em; text-align: center; vertical-align: top\">47.30972002</td>\n",
       "    </tr>\n",
       "    <tr>\n",
       "        <td style=\"padding-left: 1em; padding-right: 1em; text-align: center; vertical-align: top\">0</td>\n",
       "        <td style=\"padding-left: 1em; padding-right: 1em; text-align: center; vertical-align: top\">3</td>\n",
       "        <td style=\"padding-left: 1em; padding-right: 1em; text-align: center; vertical-align: top\">7</td>\n",
       "        <td style=\"padding-left: 1em; padding-right: 1em; text-align: center; vertical-align: top\">1060</td>\n",
       "        <td style=\"padding-left: 1em; padding-right: 1em; text-align: center; vertical-align: top\">0</td>\n",
       "        <td style=\"padding-left: 1em; padding-right: 1em; text-align: center; vertical-align: top\">1963</td>\n",
       "        <td style=\"padding-left: 1em; padding-right: 1em; text-align: center; vertical-align: top\">0</td>\n",
       "        <td style=\"padding-left: 1em; padding-right: 1em; text-align: center; vertical-align: top\">98198</td>\n",
       "        <td style=\"padding-left: 1em; padding-right: 1em; text-align: center; vertical-align: top\">47.40949984</td>\n",
       "    </tr>\n",
       "    <tr>\n",
       "        <td style=\"padding-left: 1em; padding-right: 1em; text-align: center; vertical-align: top\">0</td>\n",
       "        <td style=\"padding-left: 1em; padding-right: 1em; text-align: center; vertical-align: top\">3</td>\n",
       "        <td style=\"padding-left: 1em; padding-right: 1em; text-align: center; vertical-align: top\">7</td>\n",
       "        <td style=\"padding-left: 1em; padding-right: 1em; text-align: center; vertical-align: top\">1050</td>\n",
       "        <td style=\"padding-left: 1em; padding-right: 1em; text-align: center; vertical-align: top\">730</td>\n",
       "        <td style=\"padding-left: 1em; padding-right: 1em; text-align: center; vertical-align: top\">1960</td>\n",
       "        <td style=\"padding-left: 1em; padding-right: 1em; text-align: center; vertical-align: top\">0</td>\n",
       "        <td style=\"padding-left: 1em; padding-right: 1em; text-align: center; vertical-align: top\">98146</td>\n",
       "        <td style=\"padding-left: 1em; padding-right: 1em; text-align: center; vertical-align: top\">47.51229381</td>\n",
       "    </tr>\n",
       "    <tr>\n",
       "        <td style=\"padding-left: 1em; padding-right: 1em; text-align: center; vertical-align: top\">0</td>\n",
       "        <td style=\"padding-left: 1em; padding-right: 1em; text-align: center; vertical-align: top\">3</td>\n",
       "        <td style=\"padding-left: 1em; padding-right: 1em; text-align: center; vertical-align: top\">7</td>\n",
       "        <td style=\"padding-left: 1em; padding-right: 1em; text-align: center; vertical-align: top\">1890</td>\n",
       "        <td style=\"padding-left: 1em; padding-right: 1em; text-align: center; vertical-align: top\">0</td>\n",
       "        <td style=\"padding-left: 1em; padding-right: 1em; text-align: center; vertical-align: top\">2003</td>\n",
       "        <td style=\"padding-left: 1em; padding-right: 1em; text-align: center; vertical-align: top\">0</td>\n",
       "        <td style=\"padding-left: 1em; padding-right: 1em; text-align: center; vertical-align: top\">98038</td>\n",
       "        <td style=\"padding-left: 1em; padding-right: 1em; text-align: center; vertical-align: top\">47.36840673</td>\n",
       "    </tr>\n",
       "</table>\n",
       "<table frame=\"box\" rules=\"cols\">\n",
       "    <tr>\n",
       "        <th style=\"padding-left: 1em; padding-right: 1em; text-align: center\">long</th>\n",
       "        <th style=\"padding-left: 1em; padding-right: 1em; text-align: center\">sqft_living15</th>\n",
       "        <th style=\"padding-left: 1em; padding-right: 1em; text-align: center\">sqft_lot15</th>\n",
       "    </tr>\n",
       "    <tr>\n",
       "        <td style=\"padding-left: 1em; padding-right: 1em; text-align: center; vertical-align: top\">-122.25677536</td>\n",
       "        <td style=\"padding-left: 1em; padding-right: 1em; text-align: center; vertical-align: top\">1340.0</td>\n",
       "        <td style=\"padding-left: 1em; padding-right: 1em; text-align: center; vertical-align: top\">5650.0</td>\n",
       "    </tr>\n",
       "    <tr>\n",
       "        <td style=\"padding-left: 1em; padding-right: 1em; text-align: center; vertical-align: top\">-122.3188624</td>\n",
       "        <td style=\"padding-left: 1em; padding-right: 1em; text-align: center; vertical-align: top\">1690.0</td>\n",
       "        <td style=\"padding-left: 1em; padding-right: 1em; text-align: center; vertical-align: top\">7639.0</td>\n",
       "    </tr>\n",
       "    <tr>\n",
       "        <td style=\"padding-left: 1em; padding-right: 1em; text-align: center; vertical-align: top\">-122.23319601</td>\n",
       "        <td style=\"padding-left: 1em; padding-right: 1em; text-align: center; vertical-align: top\">2720.0</td>\n",
       "        <td style=\"padding-left: 1em; padding-right: 1em; text-align: center; vertical-align: top\">8062.0</td>\n",
       "    </tr>\n",
       "    <tr>\n",
       "        <td style=\"padding-left: 1em; padding-right: 1em; text-align: center; vertical-align: top\">-122.39318505</td>\n",
       "        <td style=\"padding-left: 1em; padding-right: 1em; text-align: center; vertical-align: top\">1360.0</td>\n",
       "        <td style=\"padding-left: 1em; padding-right: 1em; text-align: center; vertical-align: top\">5000.0</td>\n",
       "    </tr>\n",
       "    <tr>\n",
       "        <td style=\"padding-left: 1em; padding-right: 1em; text-align: center; vertical-align: top\">-122.04490059</td>\n",
       "        <td style=\"padding-left: 1em; padding-right: 1em; text-align: center; vertical-align: top\">1800.0</td>\n",
       "        <td style=\"padding-left: 1em; padding-right: 1em; text-align: center; vertical-align: top\">7503.0</td>\n",
       "    </tr>\n",
       "    <tr>\n",
       "        <td style=\"padding-left: 1em; padding-right: 1em; text-align: center; vertical-align: top\">-122.00528655</td>\n",
       "        <td style=\"padding-left: 1em; padding-right: 1em; text-align: center; vertical-align: top\">4760.0</td>\n",
       "        <td style=\"padding-left: 1em; padding-right: 1em; text-align: center; vertical-align: top\">101930.0</td>\n",
       "    </tr>\n",
       "    <tr>\n",
       "        <td style=\"padding-left: 1em; padding-right: 1em; text-align: center; vertical-align: top\">-122.32704857</td>\n",
       "        <td style=\"padding-left: 1em; padding-right: 1em; text-align: center; vertical-align: top\">2238.0</td>\n",
       "        <td style=\"padding-left: 1em; padding-right: 1em; text-align: center; vertical-align: top\">6819.0</td>\n",
       "    </tr>\n",
       "    <tr>\n",
       "        <td style=\"padding-left: 1em; padding-right: 1em; text-align: center; vertical-align: top\">-122.31457273</td>\n",
       "        <td style=\"padding-left: 1em; padding-right: 1em; text-align: center; vertical-align: top\">1650.0</td>\n",
       "        <td style=\"padding-left: 1em; padding-right: 1em; text-align: center; vertical-align: top\">9711.0</td>\n",
       "    </tr>\n",
       "    <tr>\n",
       "        <td style=\"padding-left: 1em; padding-right: 1em; text-align: center; vertical-align: top\">-122.33659507</td>\n",
       "        <td style=\"padding-left: 1em; padding-right: 1em; text-align: center; vertical-align: top\">1780.0</td>\n",
       "        <td style=\"padding-left: 1em; padding-right: 1em; text-align: center; vertical-align: top\">8113.0</td>\n",
       "    </tr>\n",
       "    <tr>\n",
       "        <td style=\"padding-left: 1em; padding-right: 1em; text-align: center; vertical-align: top\">-122.0308176</td>\n",
       "        <td style=\"padding-left: 1em; padding-right: 1em; text-align: center; vertical-align: top\">2390.0</td>\n",
       "        <td style=\"padding-left: 1em; padding-right: 1em; text-align: center; vertical-align: top\">7570.0</td>\n",
       "    </tr>\n",
       "</table>\n",
       "[21613 rows x 21 columns]<br/>Note: Only the head of the SFrame is printed.<br/>You can use print_rows(num_rows=m, num_columns=n) to print more rows and columns.\n",
       "</div>"
      ],
      "text/plain": [
       "Columns:\n",
       "\tid\tstr\n",
       "\tdate\tdatetime\n",
       "\tprice\tint\n",
       "\tbedrooms\tstr\n",
       "\tbathrooms\tstr\n",
       "\tsqft_living\tint\n",
       "\tsqft_lot\tint\n",
       "\tfloors\tstr\n",
       "\twaterfront\tint\n",
       "\tview\tint\n",
       "\tcondition\tint\n",
       "\tgrade\tint\n",
       "\tsqft_above\tint\n",
       "\tsqft_basement\tint\n",
       "\tyr_built\tint\n",
       "\tyr_renovated\tint\n",
       "\tzipcode\tstr\n",
       "\tlat\tfloat\n",
       "\tlong\tfloat\n",
       "\tsqft_living15\tfloat\n",
       "\tsqft_lot15\tfloat\n",
       "\n",
       "Rows: 21613\n",
       "\n",
       "Data:\n",
       "+------------+---------------------------+---------+----------+-----------+-------------+\n",
       "|     id     |            date           |  price  | bedrooms | bathrooms | sqft_living |\n",
       "+------------+---------------------------+---------+----------+-----------+-------------+\n",
       "| 7129300520 | 2014-10-13 00:00:00+00:00 |  221900 |    3     |     1     |     1180    |\n",
       "| 6414100192 | 2014-12-09 00:00:00+00:00 |  538000 |    3     |    2.25   |     2570    |\n",
       "| 5631500400 | 2015-02-25 00:00:00+00:00 |  180000 |    2     |     1     |     770     |\n",
       "| 2487200875 | 2014-12-09 00:00:00+00:00 |  604000 |    4     |     3     |     1960    |\n",
       "| 1954400510 | 2015-02-18 00:00:00+00:00 |  510000 |    3     |     2     |     1680    |\n",
       "| 7237550310 | 2014-05-12 00:00:00+00:00 | 1225000 |    4     |    4.5    |     5420    |\n",
       "| 1321400060 | 2014-06-27 00:00:00+00:00 |  257500 |    3     |    2.25   |     1715    |\n",
       "| 2008000270 | 2015-01-15 00:00:00+00:00 |  291850 |    3     |    1.5    |     1060    |\n",
       "| 2414600126 | 2015-04-15 00:00:00+00:00 |  229500 |    3     |     1     |     1780    |\n",
       "| 3793500160 | 2015-03-12 00:00:00+00:00 |  323000 |    3     |    2.5    |     1890    |\n",
       "+------------+---------------------------+---------+----------+-----------+-------------+\n",
       "+----------+--------+------------+------+-----------+-------+------------+---------------+\n",
       "| sqft_lot | floors | waterfront | view | condition | grade | sqft_above | sqft_basement |\n",
       "+----------+--------+------------+------+-----------+-------+------------+---------------+\n",
       "|   5650   |   1    |     0      |  0   |     3     |   7   |    1180    |       0       |\n",
       "|   7242   |   2    |     0      |  0   |     3     |   7   |    2170    |      400      |\n",
       "|  10000   |   1    |     0      |  0   |     3     |   6   |    770     |       0       |\n",
       "|   5000   |   1    |     0      |  0   |     5     |   7   |    1050    |      910      |\n",
       "|   8080   |   1    |     0      |  0   |     3     |   8   |    1680    |       0       |\n",
       "|  101930  |   1    |     0      |  0   |     3     |   11  |    3890    |      1530     |\n",
       "|   6819   |   2    |     0      |  0   |     3     |   7   |    1715    |       0       |\n",
       "|   9711   |   1    |     0      |  0   |     3     |   7   |    1060    |       0       |\n",
       "|   7470   |   1    |     0      |  0   |     3     |   7   |    1050    |      730      |\n",
       "|   6560   |   2    |     0      |  0   |     3     |   7   |    1890    |       0       |\n",
       "+----------+--------+------------+------+-----------+-------+------------+---------------+\n",
       "+----------+--------------+---------+-------------+---------------+---------------+-----+\n",
       "| yr_built | yr_renovated | zipcode |     lat     |      long     | sqft_living15 | ... |\n",
       "+----------+--------------+---------+-------------+---------------+---------------+-----+\n",
       "|   1955   |      0       |  98178  | 47.51123398 | -122.25677536 |     1340.0    | ... |\n",
       "|   1951   |     1991     |  98125  | 47.72102274 |  -122.3188624 |     1690.0    | ... |\n",
       "|   1933   |      0       |  98028  | 47.73792661 | -122.23319601 |     2720.0    | ... |\n",
       "|   1965   |      0       |  98136  |   47.52082  | -122.39318505 |     1360.0    | ... |\n",
       "|   1987   |      0       |  98074  | 47.61681228 | -122.04490059 |     1800.0    | ... |\n",
       "|   2001   |      0       |  98053  | 47.65611835 | -122.00528655 |     4760.0    | ... |\n",
       "|   1995   |      0       |  98003  | 47.30972002 | -122.32704857 |     2238.0    | ... |\n",
       "|   1963   |      0       |  98198  | 47.40949984 | -122.31457273 |     1650.0    | ... |\n",
       "|   1960   |      0       |  98146  | 47.51229381 | -122.33659507 |     1780.0    | ... |\n",
       "|   2003   |      0       |  98038  | 47.36840673 |  -122.0308176 |     2390.0    | ... |\n",
       "+----------+--------------+---------+-------------+---------------+---------------+-----+\n",
       "[21613 rows x 21 columns]\n",
       "Note: Only the head of the SFrame is printed.\n",
       "You can use print_rows(num_rows=m, num_columns=n) to print more rows and columns."
      ]
     },
     "execution_count": 13,
     "metadata": {},
     "output_type": "execute_result"
    }
   ],
   "source": [
    "homedata"
   ]
  },
  {
   "cell_type": "code",
   "execution_count": 14,
   "metadata": {},
   "outputs": [
    {
     "data": {
      "application/javascript": [
       "$(\"head\").append($(\"<link/>\").attr({\n",
       "  rel:  \"stylesheet\",\n",
       "  type: \"text/css\",\n",
       "  href: \"//cdnjs.cloudflare.com/ajax/libs/font-awesome/4.1.0/css/font-awesome.min.css\"\n",
       "}));\n",
       "$(\"head\").append($(\"<link/>\").attr({\n",
       "  rel:  \"stylesheet\",\n",
       "  type: \"text/css\",\n",
       "  href: \"https://static.turi.com/products/graphlab-create/2.1/canvas/css/canvas.css\"\n",
       "}));\n",
       "\n",
       "            (function(){\n",
       "\n",
       "                var e = null;\n",
       "                if (typeof element == 'undefined') {\n",
       "                    var scripts = document.getElementsByTagName('script');\n",
       "                    var thisScriptTag = scripts[scripts.length-1];\n",
       "                    var parentDiv = thisScriptTag.parentNode;\n",
       "                    e = document.createElement('div');\n",
       "                    parentDiv.appendChild(e);\n",
       "                } else {\n",
       "                    e = element[0];\n",
       "                }\n",
       "\n",
       "                if (typeof requirejs !== 'undefined') {\n",
       "                    // disable load timeout; ipython_app.js is large and can take a while to load.\n",
       "                    requirejs.config({waitSeconds: 0});\n",
       "                }\n",
       "\n",
       "                require(['https://static.turi.com/products/graphlab-create/2.1/canvas/js/ipython_app.js'], function(IPythonApp){\n",
       "                    var app = new IPythonApp();\n",
       "                    app.attachView('sframe','Plots', {\"selected_variable\": {\"name\": [\"homedata\"], \"descriptives\": {\"rows\": 21613, \"columns\": 21}, \"view_component\": \"Plots\", \"view_file\": \"sframe\", \"view_params\": {\"y\": \"price\", \"x\": \"sqft_living\", \"columns\": [\"id\", \"date\", \"price\", \"bedrooms\", \"bathrooms\", \"sqft_living\", \"sqft_lot\", \"floors\", \"waterfront\", \"view\", \"condition\", \"grade\", \"sqft_above\", \"sqft_basement\", \"yr_built\", \"yr_renovated\", \"zipcode\", \"lat\", \"long\", \"sqft_living15\", \"sqft_lot15\"], \"view\": \"Scatter Plot\"}, \"view_components\": [\"Summary\", \"Table\", \"Bar Chart\", \"BoxWhisker Plot\", \"Line Chart\", \"Scatter Plot\", \"Heat Map\", \"Plots\"], \"type\": \"SFrame\", \"columns\": [{\"dtype\": \"str\", \"name\": \"id\"}, {\"dtype\": \"datetime\", \"name\": \"date\"}, {\"dtype\": \"int\", \"name\": \"price\"}, {\"dtype\": \"str\", \"name\": \"bedrooms\"}, {\"dtype\": \"str\", \"name\": \"bathrooms\"}, {\"dtype\": \"int\", \"name\": \"sqft_living\"}, {\"dtype\": \"int\", \"name\": \"sqft_lot\"}, {\"dtype\": \"str\", \"name\": \"floors\"}, {\"dtype\": \"int\", \"name\": \"waterfront\"}, {\"dtype\": \"int\", \"name\": \"view\"}, {\"dtype\": \"int\", \"name\": \"condition\"}, {\"dtype\": \"int\", \"name\": \"grade\"}, {\"dtype\": \"int\", \"name\": \"sqft_above\"}, {\"dtype\": \"int\", \"name\": \"sqft_basement\"}, {\"dtype\": \"int\", \"name\": \"yr_built\"}, {\"dtype\": \"int\", \"name\": \"yr_renovated\"}, {\"dtype\": \"str\", \"name\": \"zipcode\"}, {\"dtype\": \"float\", \"name\": \"lat\"}, {\"dtype\": \"float\", \"name\": \"long\"}, {\"dtype\": \"float\", \"name\": \"sqft_living15\"}, {\"dtype\": \"float\", \"name\": \"sqft_lot15\"}], \"column_identifiers\": [\"bathrooms\", \"sqft_living15\", \"sqft_above\", \"grade\", \"yr_built\", \"price\", \"bedrooms\", \"zipcode\", \"long\", \"id\", \"sqft_lot15\", \"sqft_living\", \"floors\", \"sqft_lot\", \"date\", \"waterfront\", \"sqft_basement\", \"yr_renovated\", \"lat\", \"condition\", \"view\"]}, \"complete\": 1, \"ipython\": true, \"progress\": 1.0, \"data\": [[2740, 775000], [2680, 779950], [800, 379000], [2220, 410000], [1910, 498688], [4340, 1280000], [2630, 589500], [1720, 772500], [2030, 380000], [1960, 300000], [900, 320000], [1810, 507000], [970, 205950], [1220, 177500], [2610, 890000], [2770, 685000], [2440, 620000], [2990, 779950], [1920, 675000], [1140, 230000], [2170, 439950], [2200, 495000], [2590, 537250], [1840, 265000], [2320, 335000], [2360, 730000], [1750, 472500], [1880, 585000], [1820, 309000], [2210, 509950], [2350, 459995], [3350, 557500], [1470, 215000], [1460, 400000], [2150, 284000], [670, 157500], [3740, 1079000], [1740, 380000], [1100, 395000], [1720, 313100], [2220, 299000], [1580, 320000], [1670, 589950], [2760, 799500], [1280, 309000], [2780, 995000], [1370, 585000], [1920, 330000], [1450, 482500], [1440, 250000], [2780, 402500], [1710, 690000], [4390, 1050000], [4700, 2225000], [2780, 528000], [2783, 840000], [2110, 747450], [3190, 757000], [1890, 597500], [1995, 271500], [1510, 230000], [2380, 855000], [3640, 630000], [1400, 403000], [1530, 675000], [2560, 780000], [1300, 412250], [9200, 5570000], [1580, 535000], [2430, 1027000], [2270, 815000], [1860, 380000], [3580, 1406888], [1320, 185000], [1700, 349950], [3430, 832500], [1600, 475000], [1410, 425000], [2470, 565000], [3450, 720000], [1400, 359950], [4575, 2920000], [1670, 615000], [1190, 375000], [2200, 300000], [2750, 763776], [2000, 275000], [2180, 1410000], [2650, 398651], [1770, 450000], [1510, 270000], [1880, 315000], [3070, 1225000], [1240, 662990], [1690, 337000], [1850, 254000], [3540, 820000], [2400, 442500], [2900, 630000], [1460, 150000], [1930, 321500], [2040, 350000], [3180, 510000], [1980, 380000], [1350, 382000], [1100, 192500], [2440, 725000], [1470, 325000], [1740, 260000], [1320, 159000], [2900, 670000], [1090, 249000], [1120, 266000], [2210, 660000], [3230, 480000], [3180, 1050000], [2540, 317500], [1530, 448000], [1120, 195700], [3460, 855000], [1509, 401500], [990, 219950], [4200, 1335000], [1340, 417000], [2390, 750000], [3490, 2000000], [900, 210000], [1540, 503000], [1070, 385000], [1430, 394900], [2190, 524000], [2850, 550000], [3090, 615000], [1650, 361000], [2070, 289950], [2150, 580000], [1300, 270000], [1720, 550000], [1940, 315000], [3780, 1400000], [1930, 570000], [2320, 397000], [3890, 2250000], [1060, 420000], [1350, 259950], [2660, 760000], [2320, 600000], [2100, 299000], [3430, 813000], [2800, 653000], [2070, 539000], [1880, 410000], [1830, 270000], [3090, 370000], [2660, 280500], [1740, 650500], [3540, 2200000], [1490, 289000], [1320, 366000], [4480, 1990000], [2240, 287500], [2770, 950000], [1260, 230000], [1920, 417000], [1240, 319950], [830, 271115], [1210, 156601], [1010, 254000], [3700, 1480000], [1540, 275000], [3030, 902000], [2160, 272000], [1680, 334000], [1850, 295000], [1790, 243000], [1120, 425000], [3530, 898000], [1850, 450000], [1130, 384500], [2430, 425000], [1080, 185000], [3370, 559630], [2170, 330000], [3010, 769995], [2480, 340000], [1880, 355000], [2200, 547000], [4120, 1300000], [2430, 585000], [1330, 245000], [1550, 445000], [1680, 425000], [2550, 543500], [1400, 395000], [1700, 294000], [990, 442000], [2070, 300000], [2500, 599950], [2410, 379000], [2180, 568500], [1810, 329500], [2630, 855000], [2160, 820000], [3910, 1749000], [2380, 875000], [2140, 524000], [1540, 450000], [1810, 540000], [1010, 189000], [1450, 380000], [970, 215000], [1970, 575000], [1780, 477000], [1460, 312000], [3240, 895000], [3530, 1400000], [970, 300000], [1200, 480000], [2230, 1035000], [1320, 467000], [750, 258305], [1180, 179500], [1070, 350000], [1330, 535000], [2070, 560000], [880, 160000], [1480, 335000], [1820, 548500], [3050, 840000], [1780, 261000], [2870, 1325000], [2570, 287500], [3330, 911100], [5480, 2510000], [3070, 731000], [2100, 595000], [1470, 385000], [2520, 865000], [2400, 278000], [3660, 809950], [1350, 314000], [2300, 525000], [1980, 615000], [930, 250000], [2460, 750000], [2740, 363000], [1190, 319500], [2350, 625000], [3060, 826000], [1350, 299999], [2520, 518000], [2210, 530000], [2760, 675000], [2150, 580000], [1950, 269000], [810, 125000], [1390, 589000], [1270, 320000], [2050, 386000], [1790, 584000], [1830, 430000], [2820, 625000], [1620, 500000], [1210, 615000], [1260, 280000], [1290, 492000], [1120, 552000], [1860, 352500], [4290, 1705000], [1620, 355300], [1640, 492000], [2960, 1340000], [3040, 799950], [2840, 585000], [1200, 250000], [1410, 600000], [2245, 389990], [1890, 423500], [2940, 837000], [2390, 405000], [1760, 605000], [860, 170000], [1490, 585888], [3100, 563000], [1470, 380000], [1860, 350000], [1570, 547000], [1570, 419000], [2080, 545000], [2580, 604000], [1870, 455000], [2050, 724800], [2140, 339950], [3180, 680000], [2660, 896000], [1530, 375500], [2820, 408000], [1480, 278000], [2320, 685000], [2650, 428400], [2340, 645000], [1690, 500000], [1010, 354000], [2380, 490000], [3290, 810000], [1150, 420000], [1230, 220000], [2880, 1100000], [2800, 490000], [2242, 328000], [2150, 800000], [1570, 330000], [3780, 1810000], [1280, 215000], [3160, 693000], [3290, 762500], [1050, 249000], [3350, 805000], [2050, 568000], [3100, 967000], [2360, 300000], [1300, 263000], [1540, 640000], [2040, 857500], [1320, 275000], [1960, 360000], [1680, 305000], [2040, 494900], [850, 165000], [1680, 381000], [2800, 880000], [1553, 412000], [1900, 385000], [2160, 530000], [2940, 870000], [1550, 290000], [3020, 515000], [3090, 675000], [1610, 450000], [1010, 325000], [2210, 620000], [770, 378510], [1520, 413000], [1370, 406000], [3210, 756450], [3070, 664500], [1540, 439990], [1510, 299000], [1130, 315450], [2820, 750000], [1080, 228500], [1320, 369000], [2550, 952500], [1320, 529000], [1400, 185000], [1410, 410000], [1560, 285000], [1320, 420000], [1340, 432500], [2340, 535000], [1430, 255000], [1630, 500000], [1310, 218000], [1780, 350000], [1770, 447500], [1730, 292000], [2500, 411000], [2350, 910000], [2400, 562000], [3100, 800000], [1990, 745000], [1160, 500000], [2180, 530000], [1460, 240000], [1950, 585000], [1430, 215000], [2940, 605000], [1790, 366000], [1250, 318000], [1800, 305000], [2320, 429950], [3060, 749999], [2250, 390000], [4680, 1350000], [2430, 310000], [830, 275000], [1340, 230000], [2240, 654000], [2120, 403950], [2090, 601000], [1210, 173250], [2760, 492500], [970, 345000], [2240, 530000], [3840, 1118000], [2630, 320000], [1910, 297500], [1490, 245000], [1800, 349000], [2870, 850000], [840, 187000], [1270, 447000], [2090, 340000], [1750, 437000], [3860, 430000], [2210, 315000], [1290, 450000], [1240, 412000], [6563, 1300000], [620, 148000], [1550, 268000], [3200, 675000], [1800, 410000], [1690, 404763], [3366, 1300000], [1360, 330000], [2090, 717500], [1160, 375000], [1030, 315000], [4230, 935000], [940, 362500], [2470, 635000], [1410, 405000], [930, 281000], [650, 230000], [1520, 415000], [2770, 318700], [1870, 299990], [1780, 395000], [1170, 440000], [2320, 1150000], [3190, 664000], [1580, 325000], [1440, 445000], [1810, 229500], [1710, 749000], [1310, 514950], [2680, 501000], [1390, 225000], [1440, 220000], [2000, 620000], [2940, 752000], [1880, 340000], [3520, 470000], [1460, 602000], [2450, 530000], [1640, 515000], [2680, 459990], [3030, 799900], [1830, 424500], [2950, 402000], [1920, 295000], [990, 207000], [1260, 336000], [1410, 655000], [2830, 551000], [940, 370000], [2890, 795000], [1050, 310000], [790, 115000], [1800, 270000], [2610, 650000], [2620, 775000], [1405, 405000], [980, 330000], [1400, 279000], [2030, 275000], [3920, 710000], [2890, 515000], [1890, 675000], [1850, 245000], [2440, 699000], [1330, 440000], [1220, 249900], [2160, 324950], [1810, 360000], [1410, 529500], [1280, 215000], [630, 315000], [960, 545000], [3300, 510000], [2320, 600000], [1900, 545000], [1710, 430000], [1150, 425000], [2970, 665000], [1150, 227000], [1360, 540000], [1320, 464000], [1500, 270000], [1900, 550000], [3430, 780000], [3220, 710000], [2550, 703770], [1850, 260000], [1690, 259900], [2820, 735000], [1660, 360000], [1560, 273500], [2020, 360000], [1760, 643950], [4810, 1295648], [1790, 317000], [1670, 240000], [940, 435000], [2410, 320000], [2930, 718000], [3320, 786000], [2880, 710800], [1880, 541900], [2190, 385000], [2550, 669888], [1480, 325000], [1040, 210000], [1630, 312900], [1720, 323000], [1360, 550000], [990, 490000], [1320, 475000], [1590, 225000], [2610, 350000], [1680, 274000], [1270, 313500], [2460, 276000], [1270, 196900], [1940, 580000], [2430, 459950], [4290, 2680000], [1510, 535000], [1340, 265000], [800, 325000], [1480, 315000], [2605, 1017000], [1890, 314950], [2310, 494000], [1840, 730001], [1630, 475000], [1360, 248500], [1780, 538200], [800, 278750], [1500, 230000], [2120, 719000], [2810, 454450], [1570, 359950], [1750, 260000], [3350, 910000], [2130, 395000], [2110, 590000], [1640, 342000], [3020, 910000], [1640, 349950], [1450, 230000], [2250, 440000], [2500, 685000], [1300, 396000], [2068, 276000], [4750, 1122500], [1160, 336000], [2280, 760000], [1600, 465000], [1810, 362000], [2340, 404950], [2680, 300000], [2120, 625000], [1800, 583000], [1840, 274950], [2700, 525000], [2640, 650000], [1490, 615000], [2190, 565000], [4000, 802945], [1440, 250000], [1440, 323000], [3510, 695000], [1220, 135000], [1390, 270000], [1340, 230000], [2840, 663000], [2320, 530000], [820, 150000], [1500, 480000], [4240, 1049990], [3160, 552000], [720, 230000], [1800, 375000], [3620, 480000], [1440, 476000], [2800, 665000], [1750, 190000], [2950, 554950], [1990, 309000], [1220, 370000], [1710, 462000], [3320, 800000], [2890, 390000], [1088, 250000], [1180, 659000], [1800, 332500], [2210, 383150], [1440, 567500], [1890, 409000], [3300, 780000], [1270, 435000], [1820, 393000], [1150, 254500], [2290, 436500], [4100, 2027000], [1980, 357000], [2070, 795000], [1516, 575575], [2210, 802000], [1370, 525000], [1600, 502000], [2080, 520000], [1650, 299000], [3290, 856500], [1810, 327000], [4280, 1600000], [3040, 815000], [2430, 255000], [2110, 435000], [3350, 1200000], [1610, 540000], [1440, 290000], [3410, 1405000], [2020, 629500], [2730, 510000], [1430, 330000], [3520, 1220000], [1940, 781000], [2414, 292000], [2960, 760000], [1260, 399900], [2690, 650000], [1730, 521000], [2690, 469000], [2400, 300000], [880, 292500], [1800, 607500], [2870, 555000], [1750, 269900], [2600, 510000], [2980, 574000], [1660, 729500], [1610, 218000], [2500, 390000], [2290, 390000], [2520, 575000], [1220, 418000], [4070, 710000], [2380, 648000], [1340, 172000], [1360, 399500], [2510, 660000], [2120, 489000], [2740, 706000], [1200, 445000], [990, 495000], [820, 102500], [2030, 349500], [1140, 269900], [1360, 280000], [1420, 224097], [1620, 395000], [1130, 345000], [5020, 3600000], [840, 203000], [1000, 196000], [1010, 200000], [2040, 705000], [2440, 925000], [1640, 525000], [2510, 664000], [3550, 575000], [1050, 392500], [4230, 1940000], [2410, 520000], [1780, 395000], [2850, 1275000], [1980, 736000], [1600, 214000], [2100, 283000], [1140, 716000], [1440, 600000], [900, 304000], [1880, 618000], [2000, 375000], [3030, 819995], [1220, 935000], [960, 477000], [1060, 326250], [1940, 815000], [4420, 730000], [960, 234000], [1680, 640000], [2610, 510000], [1233, 360000], [2610, 373500], [2130, 645000], [2300, 479500], [2180, 580000], [2530, 354950], [1540, 429000], [1430, 399000], [780, 286000], [1680, 412500], [3080, 569999], [1740, 601000], [3000, 887000], [3350, 925000], [2720, 1442500], [2990, 600000], [1528, 272000], [2290, 585000], [1850, 249000], [1710, 250000], [3350, 790500], [2290, 668500], [2490, 740000], [1210, 335000], [1170, 157000], [960, 565000], [2300, 900000], [1100, 375000], [2560, 1175000], [670, 250000], [1710, 304000], [910, 85000], [2600, 599950], [3130, 598000], [4420, 1315000], [1010, 225000], [3060, 1266525], [1700, 539000], [1980, 335000], [3210, 889000], [3410, 649000], [2210, 432900], [1910, 554000], [1690, 267000], [1490, 390000], [1730, 302200], [880, 241000], [2110, 380000], [1210, 678500], [690, 340000], [1440, 390000], [1460, 295000], [2020, 420000], [1540, 441000], [1160, 280000], [1940, 380000], [1010, 459000], [2380, 699800], [1220, 765000], [1820, 320000], [1940, 390000], [1690, 875000], [1470, 490000], [1000, 220000], [2200, 522500], [1010, 429000], [1090, 140000], [1310, 415885], [1230, 325000], [3370, 713900], [2390, 770126], [1850, 700000], [3600, 923990], [2810, 531155], [2600, 509000], [2400, 335750], [2560, 600000], [1950, 287600], [2130, 456000], [950, 492000], [2310, 385000], [1910, 493000], [2460, 520000], [960, 137124], [1400, 180000], [3206, 375000], [1670, 678000], [1320, 342000], [3240, 651000], [2120, 507000], [2510, 706000], [1390, 450000], [2820, 677000], [3950, 1780000], [1340, 255000], [1830, 274000], [3570, 1600000], [1440, 224000], [2240, 510000], [1310, 435000], [950, 430000], [1440, 500000], [2600, 270000], [2280, 575000], [3720, 875000], [1080, 112000], [1630, 422120], [3150, 580135], [2620, 900000], [1090, 220000], [1070, 245000], [2430, 510000], [1578, 259950], [1930, 530000], [2880, 845000], [1550, 557800], [1930, 513000], [1880, 290000], [1800, 420000], [2520, 590000], [1600, 332500], [2340, 242000], [3480, 1580000], [2630, 454000], [3130, 745000], [2030, 310950], [3680, 1475000], [1540, 450000], [1380, 408000], [2800, 350000], [4040, 760000], [1790, 585000], [3310, 429900], [1670, 304000], [1910, 595000], [1960, 330000], [1970, 650000], [2650, 350000], [1380, 249900], [1670, 612125], [1540, 273000], [1690, 499000], [910, 265000], [1650, 327500], [1400, 325000], [1870, 229500], [1640, 527000], [1640, 308000], [1010, 306888], [3160, 574950], [1890, 255000], [1740, 554950], [3280, 634800], [1570, 525000], [3530, 695000], [1710, 280000], [2990, 675000], [2410, 883000], [1860, 350000], [790, 135000], [2510, 581000], [2240, 790000], [2000, 540000], [1030, 275000], [1620, 247500], [2140, 594000], [560, 249900], [2280, 345000], [710, 190000], [1520, 171000], [2810, 340000], [2410, 805000], [1690, 379950], [2120, 400000], [1160, 450000], [3140, 529888], [3050, 740000], [2270, 585000], [2920, 690000], [2680, 549950], [1400, 128000], [1930, 285000], [1020, 229000], [1070, 335000], [1480, 641000], [1690, 530000], [2430, 1500000], [2770, 685000], [3140, 990000], [1520, 450000], [1150, 215000], [3380, 470000], [4080, 1285000], [2830, 533000], [2540, 620000], [630, 148000], [2910, 395000], [1240, 355000], [790, 110000], [1710, 431650], [2640, 459000], [2290, 1065000], [1930, 326000], [2910, 925000], [1480, 310000], [1210, 375000], [1180, 250000], [1760, 440000], [5860, 1157200], [2110, 689000], [1500, 490000], [1427, 260000], [2310, 350000], [1358, 280000], [660, 100000], [1700, 550000], [1670, 325000], [2250, 446950], [1490, 309000], [2070, 645000], [3270, 940000], [2780, 705000], [1940, 401000], [2650, 580000], [2550, 316000], [2560, 599000], [1500, 249900], [3330, 1205000], [2514, 575000], [1072, 250000], [1930, 550000], [720, 310000], [1210, 485000], [1340, 345000], [1920, 385000], [2560, 535000], [1250, 288349], [3680, 770000], [2120, 400000], [2550, 512000], [3870, 1127500], [2720, 690000], [2960, 750000], [1650, 440000], [1540, 525000], [1710, 271000], [4170, 810000], [3180, 736500], [1470, 458000], [1430, 210000], [1720, 432500], [2340, 600000], [2350, 539000], [1840, 317000], [2510, 520000], [1200, 345000], [1540, 543000], [750, 238000], [1800, 391000], [2220, 325000], [2740, 605000], [2300, 500000], [1440, 427000], [2150, 344900], [1140, 329000], [2280, 575000], [1800, 850000], [2730, 500000], [2650, 429000], [800, 435000], [3840, 840000], [910, 422500], [720, 435000], [1710, 250500], [3000, 400000], [980, 575000], [1760, 1150000], [1650, 355000], [2950, 992000], [2410, 625000], [1890, 690000], [2750, 375000], [2810, 825000], [1670, 587100], [1410, 399900], [2350, 568000], [1040, 382500], [1360, 431200], [3750, 910000], [1264, 530000], [2370, 670000], [1450, 405000], [990, 409950], [3320, 667000], [3610, 510000], [1790, 409950], [1910, 333000], [2390, 379750], [2490, 454800], [1780, 398500], [1522, 407500], [990, 250000], [2550, 691000], [3040, 538900]], \"columns\": [{\"dtype\": \"str\", \"name\": \"id\"}, {\"dtype\": \"datetime\", \"name\": \"date\"}, {\"dtype\": \"int\", \"name\": \"price\"}, {\"dtype\": \"str\", \"name\": \"bedrooms\"}, {\"dtype\": \"str\", \"name\": \"bathrooms\"}, {\"dtype\": \"int\", \"name\": \"sqft_living\"}, {\"dtype\": \"int\", \"name\": \"sqft_lot\"}, {\"dtype\": \"str\", \"name\": \"floors\"}, {\"dtype\": \"int\", \"name\": \"waterfront\"}, {\"dtype\": \"int\", \"name\": \"view\"}, {\"dtype\": \"int\", \"name\": \"condition\"}, {\"dtype\": \"int\", \"name\": \"grade\"}, {\"dtype\": \"int\", \"name\": \"sqft_above\"}, {\"dtype\": \"int\", \"name\": \"sqft_basement\"}, {\"dtype\": \"int\", \"name\": \"yr_built\"}, {\"dtype\": \"int\", \"name\": \"yr_renovated\"}, {\"dtype\": \"str\", \"name\": \"zipcode\"}, {\"dtype\": \"float\", \"name\": \"lat\"}, {\"dtype\": \"float\", \"name\": \"long\"}, {\"dtype\": \"float\", \"name\": \"sqft_living15\"}, {\"dtype\": \"float\", \"name\": \"sqft_lot15\"}]}, e);\n",
       "                });\n",
       "            })();\n",
       "        "
      ]
     },
     "metadata": {},
     "output_type": "display_data"
    }
   ],
   "source": [
    "homedata.show(view=\"Scatter Plot\", x=\"sqft_living\", y=\"price\")"
   ]
  },
  {
   "cell_type": "code",
   "execution_count": 15,
   "metadata": {},
   "outputs": [
    {
     "data": {
      "application/javascript": [
       "$(\"head\").append($(\"<link/>\").attr({\n",
       "  rel:  \"stylesheet\",\n",
       "  type: \"text/css\",\n",
       "  href: \"//cdnjs.cloudflare.com/ajax/libs/font-awesome/4.1.0/css/font-awesome.min.css\"\n",
       "}));\n",
       "$(\"head\").append($(\"<link/>\").attr({\n",
       "  rel:  \"stylesheet\",\n",
       "  type: \"text/css\",\n",
       "  href: \"https://static.turi.com/products/graphlab-create/2.1/canvas/css/canvas.css\"\n",
       "}));\n",
       "\n",
       "            (function(){\n",
       "\n",
       "                var e = null;\n",
       "                if (typeof element == 'undefined') {\n",
       "                    var scripts = document.getElementsByTagName('script');\n",
       "                    var thisScriptTag = scripts[scripts.length-1];\n",
       "                    var parentDiv = thisScriptTag.parentNode;\n",
       "                    e = document.createElement('div');\n",
       "                    parentDiv.appendChild(e);\n",
       "                } else {\n",
       "                    e = element[0];\n",
       "                }\n",
       "\n",
       "                if (typeof requirejs !== 'undefined') {\n",
       "                    // disable load timeout; ipython_app.js is large and can take a while to load.\n",
       "                    requirejs.config({waitSeconds: 0});\n",
       "                }\n",
       "\n",
       "                require(['https://static.turi.com/products/graphlab-create/2.1/canvas/js/ipython_app.js'], function(IPythonApp){\n",
       "                    var app = new IPythonApp();\n",
       "                    app.attachView('sframe','Plots', {\"selected_variable\": {\"name\": [\"homedata\"], \"descriptives\": {\"rows\": 21613, \"columns\": 21}, \"view_component\": \"Plots\", \"view_file\": \"sframe\", \"view_params\": {\"y\": \"price\", \"x\": \"yr_built\", \"columns\": [\"id\", \"date\", \"price\", \"bedrooms\", \"bathrooms\", \"sqft_living\", \"sqft_lot\", \"floors\", \"waterfront\", \"view\", \"condition\", \"grade\", \"sqft_above\", \"sqft_basement\", \"yr_built\", \"yr_renovated\", \"zipcode\", \"lat\", \"long\", \"sqft_living15\", \"sqft_lot15\"], \"view\": \"Scatter Plot\"}, \"view_components\": [\"Summary\", \"Table\", \"Bar Chart\", \"BoxWhisker Plot\", \"Line Chart\", \"Scatter Plot\", \"Heat Map\", \"Plots\"], \"type\": \"SFrame\", \"columns\": [{\"dtype\": \"str\", \"name\": \"id\"}, {\"dtype\": \"datetime\", \"name\": \"date\"}, {\"dtype\": \"int\", \"name\": \"price\"}, {\"dtype\": \"str\", \"name\": \"bedrooms\"}, {\"dtype\": \"str\", \"name\": \"bathrooms\"}, {\"dtype\": \"int\", \"name\": \"sqft_living\"}, {\"dtype\": \"int\", \"name\": \"sqft_lot\"}, {\"dtype\": \"str\", \"name\": \"floors\"}, {\"dtype\": \"int\", \"name\": \"waterfront\"}, {\"dtype\": \"int\", \"name\": \"view\"}, {\"dtype\": \"int\", \"name\": \"condition\"}, {\"dtype\": \"int\", \"name\": \"grade\"}, {\"dtype\": \"int\", \"name\": \"sqft_above\"}, {\"dtype\": \"int\", \"name\": \"sqft_basement\"}, {\"dtype\": \"int\", \"name\": \"yr_built\"}, {\"dtype\": \"int\", \"name\": \"yr_renovated\"}, {\"dtype\": \"str\", \"name\": \"zipcode\"}, {\"dtype\": \"float\", \"name\": \"lat\"}, {\"dtype\": \"float\", \"name\": \"long\"}, {\"dtype\": \"float\", \"name\": \"sqft_living15\"}, {\"dtype\": \"float\", \"name\": \"sqft_lot15\"}], \"column_identifiers\": [\"bathrooms\", \"sqft_living15\", \"sqft_above\", \"grade\", \"yr_built\", \"price\", \"bedrooms\", \"zipcode\", \"long\", \"id\", \"sqft_lot15\", \"sqft_living\", \"floors\", \"sqft_lot\", \"date\", \"waterfront\", \"sqft_basement\", \"yr_renovated\", \"lat\", \"condition\", \"view\"]}, \"complete\": 1, \"ipython\": true, \"progress\": 1.0, \"data\": [[1990, 450000], [1900, 1297000], [1960, 528000], [1973, 670000], [1995, 3200000], [2006, 360000], [1925, 1395713], [1947, 215000], [1977, 300000], [1989, 805000], [1977, 500000], [2002, 255000], [1950, 529000], [1970, 405000], [1969, 128000], [1971, 700000], [1966, 305495], [1977, 740000], [2012, 750000], [2008, 2450000], [2010, 355000], [2002, 500000], [1975, 490000], [1959, 350000], [1995, 505000], [2005, 350000], [1910, 570000], [1967, 1080000], [1911, 618000], [1953, 238000], [1968, 315001], [1942, 231000], [1978, 162000], [1956, 345000], [2007, 402723], [1949, 1130000], [1943, 210000], [1994, 390000], [1979, 519000], [1991, 613000], [1979, 323000], [1942, 290000], [1901, 302282], [1961, 375000], [1926, 770000], [1993, 383000], [1975, 810000], [1988, 433495], [2004, 437000], [1975, 257000], [1967, 300000], [2013, 378950], [1962, 540000], [1992, 600000], [1945, 299980], [1968, 329500], [1977, 317500], [2003, 753000], [1978, 450000], [1990, 375000], [1957, 265500], [1977, 305000], [1998, 325000], [1942, 78000], [1949, 350000], [2013, 349950], [1955, 290000], [1988, 690000], [1999, 365000], [1929, 450000], [1989, 299990], [2000, 1250000], [1981, 520000], [1946, 365000], [2001, 499950], [1983, 925000], [1966, 250000], [2009, 835000], [1963, 420000], [1953, 187000], [2006, 990000], [1910, 596000], [1919, 336000], [1955, 265000], [1909, 865000], [2011, 375000], [2002, 700000], [2006, 461000], [1998, 730000], [1968, 402000], [1974, 317000], [1926, 640000], [1979, 527000], [1981, 425000], [1927, 511200], [2006, 1485000], [1990, 370000], [1980, 465000], [1980, 314000], [2007, 1135000], [1950, 275053], [1941, 535000], [2014, 665000], [1962, 950000], [1950, 381000], [2007, 685000], [2003, 1175000], [1975, 459500], [2004, 510000], [1967, 884900], [1967, 523000], [1979, 822600], [1942, 350000], [2005, 206000], [2007, 780000], [1998, 265000], [1991, 895000], [1978, 505000], [1957, 1690000], [1958, 445000], [1964, 660000], [1964, 490000], [1900, 558000], [1977, 286285], [1998, 815000], [1931, 275000], [1967, 445000], [1973, 610000], [1976, 170000], [2004, 352000], [1911, 450000], [1946, 216000], [1968, 133000], [1952, 380000], [1973, 585000], [2006, 855000], [1958, 205000], [1904, 292000], [1962, 352500], [1950, 439500], [1948, 259950], [1974, 518000], [1979, 485000], [1986, 176000], [2005, 515000], [2005, 242500], [1949, 267800], [1966, 235000], [1987, 528000], [1968, 299000], [1926, 192500], [1954, 411500], [1948, 258000], [1937, 420000], [2006, 1438888], [2001, 789888], [2004, 850000], [1988, 349000], [2004, 1090000], [1926, 466000], [1962, 595000], [2010, 347500], [1954, 410000], [1962, 475000], [1985, 283500], [1959, 452100], [1956, 275000], [1986, 419000], [1974, 442200], [1960, 422000], [1992, 910000], [1949, 129000], [1939, 335900], [1991, 725000], [2013, 650000], [1988, 607000], [1911, 2300000], [2013, 299000], [1927, 389000], [2010, 383000], [2008, 580000], [1979, 705000], [2008, 425000], [1905, 471001], [1949, 389000], [2007, 345000], [1955, 233000], [2001, 1215000], [2012, 261000], [1947, 400000], [1960, 210500], [1928, 230000], [1973, 359950], [1991, 560000], [1965, 390000], [1991, 415000], [2002, 970000], [1950, 332500], [1967, 255000], [2013, 400000], [2008, 658000], [2007, 235000], [1983, 475580], [1911, 850000], [1999, 612000], [1912, 770000], [1918, 467500], [1959, 530000], [1905, 495000], [1946, 402500], [2002, 345000], [1959, 830000], [1981, 311000], [1980, 200000], [1910, 749000], [1923, 280000], [1957, 1505000], [2007, 1900000], [2001, 875000], [2007, 330000], [1954, 979000], [1978, 425500], [1948, 234999], [2004, 557000], [1968, 400000], [1959, 396480], [1949, 150000], [2004, 515000], [2008, 302059], [2008, 1262000], [1998, 324950], [1962, 180000], [1924, 475000], [2008, 570000], [1924, 550000], [1999, 798000], [1954, 330000], [1916, 484950], [1963, 616000], [1950, 630000], [1996, 836500], [1988, 530000], [1975, 242000], [1964, 898000], [1980, 482000], [1983, 464950], [1933, 550000], [1997, 645000], [1971, 675000], [2014, 1600000], [1918, 310000], [1948, 530000], [2014, 1454000], [2014, 449950], [1996, 495000], [2010, 635000], [1954, 282613], [1968, 371000], [1999, 470000], [2013, 420000], [1994, 255000], [1947, 376000], [1922, 500000], [1906, 705000], [2011, 665000], [2008, 650880], [1966, 305000], [1977, 245000], [1947, 712500], [2004, 732000], [2006, 2575000], [2005, 370000], [1944, 410000], [1940, 355000], [1900, 712000], [1942, 332000], [1969, 301500], [2014, 770000], [1990, 800000], [2013, 2065000], [1937, 425000], [1989, 379500], [1969, 275000], [1953, 476500], [1967, 330000], [1950, 1580000], [1979, 467000], [1982, 432000], [1993, 504750], [1953, 382000], [1915, 640000], [2014, 924000], [1993, 919000], [1927, 430000], [1987, 780000], [1994, 879000], [1989, 1127500], [1990, 446500], [2012, 240000], [1988, 310000], [2011, 520000], [2006, 375000], [1944, 280000], [1986, 515000], [1925, 680000], [2005, 379950], [1989, 585000], [2012, 765000], [1967, 315000], [1980, 478000], [2012, 645000], [1993, 325000], [2007, 375000], [1990, 1769000], [1928, 565000], [1971, 516000], [1949, 830000], [1977, 366400], [1963, 416000], [1923, 269000], [2002, 442500], [1953, 508000], [1965, 499950], [1998, 389000], [1999, 950000], [1922, 240500], [1971, 385000], [2002, 350000], [1953, 299990], [1983, 310000], [2013, 542300], [1968, 213500], [1962, 407500], [1924, 640000], [1947, 697000], [1919, 610000], [2001, 337000], [1942, 450000], [1989, 355000], [1996, 245000], [1967, 291000], [1974, 549000], [1957, 425000], [1990, 360000], [1959, 165000], [1998, 399950], [2003, 549900], [1986, 550000], [1949, 450000], [1934, 240000], [1967, 299000], [1986, 230000], [2002, 716500], [1912, 925000], [1937, 448000], [1959, 415000], [1998, 915000], [2003, 315000], [1955, 275000], [1901, 599000], [1996, 589000], [1981, 449000], [1964, 355000], [1905, 710000], [2003, 510000], [1941, 465000], [2007, 1267500], [1992, 870000], [1912, 407000], [1969, 270000], [1957, 403000], [1996, 251100], [1943, 330000], [2003, 314950], [1929, 355000], [1919, 165000], [2007, 625000], [1954, 430000], [1908, 600000], [2004, 445000], [2005, 355000], [1928, 200000], [1914, 370000], [1960, 585000], [2013, 359500], [1913, 360000], [1960, 360000], [1910, 450000], [1999, 320000], [1909, 600000], [1978, 240000], [1966, 320000], [1924, 600000], [1903, 650000], [1994, 249900], [1959, 534000], [1981, 240000], [1965, 335000], [1989, 1575000], [1921, 310000], [1993, 272000], [1984, 350000], [1963, 470000], [1918, 340000], [1994, 322500], [1979, 925000], [2009, 333000], [1920, 360000], [2003, 389999], [1906, 750000], [1988, 435000], [1925, 487500], [1995, 485000], [1998, 449000], [1928, 550000], [1907, 926300], [1947, 306500], [1959, 340000], [1975, 716000], [1973, 454900], [1941, 482000], [1997, 364900], [1913, 326000], [1985, 520000], [1979, 712000], [2000, 300000], [1969, 199950], [1978, 855000], [2013, 330000], [1979, 414500], [1993, 510000], [1943, 395000], [1953, 360000], [2005, 739000], [1940, 370000], [1959, 375000], [2002, 609850], [1901, 570000], [2007, 425000], [1969, 386000], [1968, 380000], [1996, 780000], [2008, 433000], [2007, 235000], [1985, 408000], [2003, 440000], [1901, 380000], [1962, 355000], [1964, 926250], [1977, 520000], [1972, 475000], [1927, 835000], [1930, 275000], [2005, 398500], [1963, 265000], [2009, 390000], [1983, 290000], [1944, 500000], [1966, 578000], [1983, 229950], [1965, 536000], [1989, 348000], [2014, 779380], [1982, 342500], [1969, 180000], [2002, 433200], [2008, 216000], [1971, 430000], [2009, 421500], [1926, 252000], [2006, 401000], [1954, 565000], [1970, 810000], [1986, 302000], [1955, 243000], [2014, 294000], [1908, 650000], [1909, 390000], [1961, 234000], [1952, 292000], [1976, 407000], [1989, 775000], [1984, 559500], [1961, 270000], [1950, 367950], [1930, 115000], [1977, 729032], [1979, 402500], [1990, 500000], [2004, 323000], [1945, 270000], [1947, 225000], [2014, 719950], [1995, 1045000], [1990, 449950], [1947, 275000], [1981, 299000], [1958, 299000], [2004, 1200000], [2004, 760000], [2000, 890000], [2007, 478000], [1959, 350000], [1929, 549900], [2000, 375000], [1956, 1100000], [2011, 379900], [1951, 585000], [2012, 277950], [1969, 399000], [2005, 643000], [1905, 1378600], [1922, 492000], [2003, 495000], [1999, 400000], [1953, 191000], [1972, 299950], [1950, 1750000], [1947, 165000], [2001, 605000], [1965, 250000], [1943, 190000], [1994, 208000], [1930, 235000], [1989, 639000], [1971, 295000], [2003, 800000], [1970, 670000], [2009, 825500], [2004, 296475], [1962, 2300000], [1914, 280000], [1960, 307000], [1993, 627250], [1993, 272000], [2014, 749995], [1948, 795000], [1925, 299800], [1994, 249000], [1968, 280000], [1930, 848000], [1943, 480000], [1964, 423000], [1967, 530000], [1974, 685000], [1987, 460000], [1976, 440000], [1974, 524000], [2011, 465000], [1998, 749000], [2009, 418500], [1926, 187250], [2009, 471500], [1967, 620000], [1979, 263000], [1984, 780000], [1927, 715000], [2006, 745000], [1952, 641200], [2001, 213400], [1967, 833000], [1987, 440000], [2014, 353900], [1984, 370000], [1969, 330000], [2000, 713900], [1965, 350000], [1950, 900000], [1988, 716000], [1947, 367000], [1983, 535000], [1958, 548000], [1918, 314200], [1954, 227000], [1962, 275000], [1985, 439950], [1964, 395000], [1961, 432500], [2001, 997000], [1977, 199500], [1949, 395000], [2006, 1248000], [1994, 585000], [1974, 347000], [1973, 295000], [1942, 588000], [2007, 350000], [1922, 352000], [1978, 133400], [2014, 329780], [1905, 500000], [2005, 267000], [1968, 410000], [1999, 475000], [1944, 249900], [1986, 315500], [2008, 568000], [1990, 545000], [1979, 400000], [1962, 1220000], [1991, 1065000], [1936, 738000], [1977, 405000], [1909, 980000], [1924, 453500], [1903, 200000], [2003, 438000], [1959, 892500], [2006, 890000], [2003, 650000], [2001, 339000], [2002, 845000], [1952, 370000], [1931, 886000], [1918, 400000], [1976, 998160], [2009, 399000], [1997, 351000], [2007, 360000], [2003, 325000], [1939, 148000], [1991, 975000], [2009, 327000], [2007, 419500], [1946, 440000], [1967, 333000], [1988, 541900], [1995, 625000], [1979, 445000], [1962, 674000], [1950, 385000], [2012, 390000], [1977, 284200], [1986, 760000], [1947, 570000], [1943, 250000], [1950, 439950], [1979, 417000], [1987, 1702500], [1979, 225000], [1988, 259000], [1956, 775000], [2014, 1061604], [1977, 470000], [1925, 579500], [1979, 959000], [1916, 545000], [2004, 425000], [2006, 405500], [1976, 925000], [1966, 1430000], [1976, 521000], [1963, 350000], [1981, 327500], [1948, 282150], [1974, 280000], [2008, 290750], [1960, 278000], [1900, 625000], [2004, 830000], [1999, 359950], [1951, 900000], [1995, 310000], [1977, 400000], [1987, 600000], [2006, 439000], [1926, 575000], [1948, 199950], [1944, 340000], [1953, 378500], [1937, 862500], [2007, 470000], [1901, 432500], [1942, 270000], [1928, 390000], [2003, 856500], [2002, 425000], [1928, 399500], [1999, 515055], [1953, 325000], [1976, 1085000], [1977, 670000], [2006, 609900], [2002, 349000], [1997, 420000], [1959, 464000], [1912, 245000], [2006, 507000], [1941, 499950], [1962, 205000], [1971, 329932], [1965, 1484900], [2002, 343888], [1930, 630000], [1959, 224000], [1973, 535100], [1942, 455000], [1979, 285000], [1944, 585000], [1989, 415000], [1987, 329950], [1940, 140000], [1998, 683000], [1985, 505000], [1977, 625000], [1954, 210000], [1928, 329000], [2005, 590000], [1993, 1015000], [1979, 500000], [1985, 245000], [1937, 490000], [1955, 635000], [1910, 404500], [1940, 650000], [1996, 650000], [1961, 527000], [1937, 452000], [1925, 457500], [1951, 325000], [1995, 657000], [2005, 310000], [1901, 405000], [1960, 680000], [1942, 675000], [1978, 320000], [1988, 775000], [1919, 516200], [1967, 537000], [1937, 1150000], [2006, 2000000], [2001, 300000], [1970, 525000], [2001, 550000], [1979, 299500], [1957, 280000], [2000, 507200], [1951, 700000], [1968, 270000], [1930, 335500], [1960, 842000], [1979, 218000], [1954, 280000], [1998, 565000], [1931, 294000], [1960, 395000], [1960, 130000], [1970, 600000], [2004, 289950], [1989, 283748], [1943, 110000], [2014, 580000], [2003, 439000], [1999, 375000], [2008, 595000], [1957, 440000], [1955, 405100], [1997, 495000], [1975, 500000], [1913, 649000], [1905, 425000], [1987, 606000], [1961, 367500], [1964, 245000], [1927, 350000], [1990, 1150000], [2012, 601000], [2008, 256950], [1922, 452000], [1941, 324950], [1939, 190000], [1952, 525000], [1927, 570000], [1985, 725000], [1972, 320000], [1917, 710500], [1978, 540000], [1942, 340000], [1992, 740000], [1922, 361000], [1964, 462600], [1969, 265000], [2009, 420000], [2006, 622950], [2000, 950000], [2005, 330000], [1977, 1620000], [1993, 912000], [1999, 2400000], [2014, 589950], [1940, 231000], [1949, 395000], [2014, 515805], [1942, 197200], [2013, 415000], [2005, 515500], [2001, 595000], [1977, 535000], [1910, 450000], [1969, 635000], [1994, 297000], [1926, 875000], [2000, 824000], [2005, 375000], [1999, 565000], [1983, 790000], [1929, 600000], [2014, 1740000], [1918, 690000], [2003, 304000], [1970, 775000], [1921, 685000], [1942, 250000], [2002, 481000], [1999, 2400000], [1976, 705000], [2014, 635000], [2004, 579000], [2007, 762000], [1958, 180000], [1963, 213400], [1991, 872750], [2002, 455800], [2013, 598800], [1940, 455000], [1960, 1035000], [1951, 338500], [1920, 485000], [1977, 439500], [1915, 792000], [2006, 313500], [1980, 230000], [1980, 952000], [1990, 645000], [1939, 249900], [2014, 775900], [1993, 620000], [1953, 550000], [1957, 410000], [1915, 716000], [2005, 195000], [1912, 438500], [1990, 529000], [1930, 685000], [1976, 466000], [1991, 545000], [2009, 435000], [1967, 132500], [1957, 585000], [1946, 399000], [1915, 550000], [1987, 248000], [1961, 529900], [1945, 850000], [2003, 650000], [2014, 790500], [1957, 416000], [1978, 347000], [1964, 1225000], [1988, 436500], [1977, 280000], [1984, 785000], [2002, 444500], [1998, 1285000], [1990, 280000], [2009, 615000], [1968, 670000], [1958, 795000], [1958, 485000], [1975, 395000], [1954, 535000], [1974, 320000], [1963, 405000], [1906, 316000], [1948, 355000], [2014, 539950], [1981, 590000], [1969, 265000], [1966, 246000], [1977, 720000], [1988, 200000], [1983, 325000], [1919, 589000], [1928, 2546000], [1954, 910000], [1946, 570000], [1994, 200000], [2003, 219000], [1935, 315000], [1941, 261000], [1965, 534000], [1945, 273000], [1925, 295000], [1965, 226740], [1904, 350000], [1952, 860000], [2007, 359950], [1950, 430000], [1931, 618250], [1988, 291500], [1999, 739999], [1954, 235000], [1998, 463000], [1969, 850000], [1959, 235000], [1992, 1550000], [2000, 1125000], [1967, 605000], [1981, 475000], [1981, 274000], [1981, 617450], [1998, 475000], [1999, 340000], [1993, 263000], [1953, 875000], [2008, 333000], [1985, 560000], [2006, 458000], [1992, 995000], [1988, 229950], [1968, 449000], [2001, 424950], [1941, 530000], [1978, 300000], [2008, 288790], [1963, 1098000], [1977, 350000], [1962, 562000], [1984, 818000], [2008, 327500], [2004, 395000], [1923, 988000], [1916, 356000], [1971, 449000], [1987, 789900], [1909, 439900], [1920, 435000], [1990, 275000], [1993, 799950], [2005, 570000], [2014, 319900], [1950, 325000], [1968, 350000], [2005, 971000], [1911, 625000], [1998, 400000], [1994, 535000], [1990, 1321500], [1977, 369950], [2013, 1120275], [2005, 1600000], [2004, 360000], [1983, 616000], [2000, 720000], [2003, 825000], [2006, 525000], [1993, 755000], [1965, 450000], [1948, 840500], [1954, 229000], [1958, 400000], [1912, 1000000], [1991, 721500], [1957, 240000], [1963, 335000], [1972, 350000], [1942, 430000], [1981, 555000], [2006, 850000], [1959, 239975], [1986, 340000], [1907, 710000], [1992, 845000], [1908, 457500], [1948, 328000], [1980, 220650], [2003, 399950], [1987, 660000], [1970, 242150], [1956, 289950], [1950, 435000], [2014, 849990], [1947, 260000], [2008, 685000], [1983, 187000], [1994, 310000], [2011, 500000], [1953, 420000], [1934, 550000], [1965, 325000], [1919, 742500], [1948, 425000], [1940, 850000], [1944, 269950], [1992, 295000], [2014, 834950], [1959, 495000], [1925, 565000], [1953, 502000], [1949, 199988]], \"columns\": [{\"dtype\": \"str\", \"name\": \"id\"}, {\"dtype\": \"datetime\", \"name\": \"date\"}, {\"dtype\": \"int\", \"name\": \"price\"}, {\"dtype\": \"str\", \"name\": \"bedrooms\"}, {\"dtype\": \"str\", \"name\": \"bathrooms\"}, {\"dtype\": \"int\", \"name\": \"sqft_living\"}, {\"dtype\": \"int\", \"name\": \"sqft_lot\"}, {\"dtype\": \"str\", \"name\": \"floors\"}, {\"dtype\": \"int\", \"name\": \"waterfront\"}, {\"dtype\": \"int\", \"name\": \"view\"}, {\"dtype\": \"int\", \"name\": \"condition\"}, {\"dtype\": \"int\", \"name\": \"grade\"}, {\"dtype\": \"int\", \"name\": \"sqft_above\"}, {\"dtype\": \"int\", \"name\": \"sqft_basement\"}, {\"dtype\": \"int\", \"name\": \"yr_built\"}, {\"dtype\": \"int\", \"name\": \"yr_renovated\"}, {\"dtype\": \"str\", \"name\": \"zipcode\"}, {\"dtype\": \"float\", \"name\": \"lat\"}, {\"dtype\": \"float\", \"name\": \"long\"}, {\"dtype\": \"float\", \"name\": \"sqft_living15\"}, {\"dtype\": \"float\", \"name\": \"sqft_lot15\"}]}, e);\n",
       "                });\n",
       "            })();\n",
       "        "
      ]
     },
     "metadata": {},
     "output_type": "display_data"
    }
   ],
   "source": [
    "homedata.show(view=\"Scatter Plot\", x=\"yr_built\", y=\"price\")"
   ]
  },
  {
   "cell_type": "code",
   "execution_count": 16,
   "metadata": {
    "collapsed": true
   },
   "outputs": [],
   "source": [
    "train_data, test_data = homedata.random_split(0.8, seed=0)"
   ]
  },
  {
   "cell_type": "code",
   "execution_count": 17,
   "metadata": {},
   "outputs": [
    {
     "data": {
      "text/plain": [
       "<bound method SFrame.show of Columns:\n",
       "\tid\tstr\n",
       "\tdate\tdatetime\n",
       "\tprice\tint\n",
       "\tbedrooms\tstr\n",
       "\tbathrooms\tstr\n",
       "\tsqft_living\tint\n",
       "\tsqft_lot\tint\n",
       "\tfloors\tstr\n",
       "\twaterfront\tint\n",
       "\tview\tint\n",
       "\tcondition\tint\n",
       "\tgrade\tint\n",
       "\tsqft_above\tint\n",
       "\tsqft_basement\tint\n",
       "\tyr_built\tint\n",
       "\tyr_renovated\tint\n",
       "\tzipcode\tstr\n",
       "\tlat\tfloat\n",
       "\tlong\tfloat\n",
       "\tsqft_living15\tfloat\n",
       "\tsqft_lot15\tfloat\n",
       "\n",
       "Rows: Unknown\n",
       "\n",
       "Data:\n",
       "+------------+---------------------------+---------+----------+-----------+-------------+\n",
       "|     id     |            date           |  price  | bedrooms | bathrooms | sqft_living |\n",
       "+------------+---------------------------+---------+----------+-----------+-------------+\n",
       "| 7129300520 | 2014-10-13 00:00:00+00:00 |  221900 |    3     |     1     |     1180    |\n",
       "| 6414100192 | 2014-12-09 00:00:00+00:00 |  538000 |    3     |    2.25   |     2570    |\n",
       "| 5631500400 | 2015-02-25 00:00:00+00:00 |  180000 |    2     |     1     |     770     |\n",
       "| 2487200875 | 2014-12-09 00:00:00+00:00 |  604000 |    4     |     3     |     1960    |\n",
       "| 1954400510 | 2015-02-18 00:00:00+00:00 |  510000 |    3     |     2     |     1680    |\n",
       "| 7237550310 | 2014-05-12 00:00:00+00:00 | 1225000 |    4     |    4.5    |     5420    |\n",
       "| 1321400060 | 2014-06-27 00:00:00+00:00 |  257500 |    3     |    2.25   |     1715    |\n",
       "| 2008000270 | 2015-01-15 00:00:00+00:00 |  291850 |    3     |    1.5    |     1060    |\n",
       "| 2414600126 | 2015-04-15 00:00:00+00:00 |  229500 |    3     |     1     |     1780    |\n",
       "| 3793500160 | 2015-03-12 00:00:00+00:00 |  323000 |    3     |    2.5    |     1890    |\n",
       "+------------+---------------------------+---------+----------+-----------+-------------+\n",
       "+----------+--------+------------+------+-----------+-------+------------+---------------+\n",
       "| sqft_lot | floors | waterfront | view | condition | grade | sqft_above | sqft_basement |\n",
       "+----------+--------+------------+------+-----------+-------+------------+---------------+\n",
       "|   5650   |   1    |     0      |  0   |     3     |   7   |    1180    |       0       |\n",
       "|   7242   |   2    |     0      |  0   |     3     |   7   |    2170    |      400      |\n",
       "|  10000   |   1    |     0      |  0   |     3     |   6   |    770     |       0       |\n",
       "|   5000   |   1    |     0      |  0   |     5     |   7   |    1050    |      910      |\n",
       "|   8080   |   1    |     0      |  0   |     3     |   8   |    1680    |       0       |\n",
       "|  101930  |   1    |     0      |  0   |     3     |   11  |    3890    |      1530     |\n",
       "|   6819   |   2    |     0      |  0   |     3     |   7   |    1715    |       0       |\n",
       "|   9711   |   1    |     0      |  0   |     3     |   7   |    1060    |       0       |\n",
       "|   7470   |   1    |     0      |  0   |     3     |   7   |    1050    |      730      |\n",
       "|   6560   |   2    |     0      |  0   |     3     |   7   |    1890    |       0       |\n",
       "+----------+--------+------------+------+-----------+-------+------------+---------------+\n",
       "+----------+--------------+---------+-------------+---------------+---------------+-----+\n",
       "| yr_built | yr_renovated | zipcode |     lat     |      long     | sqft_living15 | ... |\n",
       "+----------+--------------+---------+-------------+---------------+---------------+-----+\n",
       "|   1955   |      0       |  98178  | 47.51123398 | -122.25677536 |     1340.0    | ... |\n",
       "|   1951   |     1991     |  98125  | 47.72102274 |  -122.3188624 |     1690.0    | ... |\n",
       "|   1933   |      0       |  98028  | 47.73792661 | -122.23319601 |     2720.0    | ... |\n",
       "|   1965   |      0       |  98136  |   47.52082  | -122.39318505 |     1360.0    | ... |\n",
       "|   1987   |      0       |  98074  | 47.61681228 | -122.04490059 |     1800.0    | ... |\n",
       "|   2001   |      0       |  98053  | 47.65611835 | -122.00528655 |     4760.0    | ... |\n",
       "|   1995   |      0       |  98003  | 47.30972002 | -122.32704857 |     2238.0    | ... |\n",
       "|   1963   |      0       |  98198  | 47.40949984 | -122.31457273 |     1650.0    | ... |\n",
       "|   1960   |      0       |  98146  | 47.51229381 | -122.33659507 |     1780.0    | ... |\n",
       "|   2003   |      0       |  98038  | 47.36840673 |  -122.0308176 |     2390.0    | ... |\n",
       "+----------+--------------+---------+-------------+---------------+---------------+-----+\n",
       "[? rows x 21 columns]\n",
       "Note: Only the head of the SFrame is printed. This SFrame is lazily evaluated.\n",
       "You can use sf.materialize() to force materialization.>"
      ]
     },
     "execution_count": 17,
     "metadata": {},
     "output_type": "execute_result"
    }
   ],
   "source": [
    "train_data.show"
   ]
  },
  {
   "cell_type": "code",
   "execution_count": 18,
   "metadata": {},
   "outputs": [
    {
     "data": {
      "text/plain": [
       "<bound method SFrame.num_rows of Columns:\n",
       "\tid\tstr\n",
       "\tdate\tdatetime\n",
       "\tprice\tint\n",
       "\tbedrooms\tstr\n",
       "\tbathrooms\tstr\n",
       "\tsqft_living\tint\n",
       "\tsqft_lot\tint\n",
       "\tfloors\tstr\n",
       "\twaterfront\tint\n",
       "\tview\tint\n",
       "\tcondition\tint\n",
       "\tgrade\tint\n",
       "\tsqft_above\tint\n",
       "\tsqft_basement\tint\n",
       "\tyr_built\tint\n",
       "\tyr_renovated\tint\n",
       "\tzipcode\tstr\n",
       "\tlat\tfloat\n",
       "\tlong\tfloat\n",
       "\tsqft_living15\tfloat\n",
       "\tsqft_lot15\tfloat\n",
       "\n",
       "Rows: Unknown\n",
       "\n",
       "Data:\n",
       "+------------+---------------------------+---------+----------+-----------+-------------+\n",
       "|     id     |            date           |  price  | bedrooms | bathrooms | sqft_living |\n",
       "+------------+---------------------------+---------+----------+-----------+-------------+\n",
       "| 7129300520 | 2014-10-13 00:00:00+00:00 |  221900 |    3     |     1     |     1180    |\n",
       "| 6414100192 | 2014-12-09 00:00:00+00:00 |  538000 |    3     |    2.25   |     2570    |\n",
       "| 5631500400 | 2015-02-25 00:00:00+00:00 |  180000 |    2     |     1     |     770     |\n",
       "| 2487200875 | 2014-12-09 00:00:00+00:00 |  604000 |    4     |     3     |     1960    |\n",
       "| 1954400510 | 2015-02-18 00:00:00+00:00 |  510000 |    3     |     2     |     1680    |\n",
       "| 7237550310 | 2014-05-12 00:00:00+00:00 | 1225000 |    4     |    4.5    |     5420    |\n",
       "| 1321400060 | 2014-06-27 00:00:00+00:00 |  257500 |    3     |    2.25   |     1715    |\n",
       "| 2008000270 | 2015-01-15 00:00:00+00:00 |  291850 |    3     |    1.5    |     1060    |\n",
       "| 2414600126 | 2015-04-15 00:00:00+00:00 |  229500 |    3     |     1     |     1780    |\n",
       "| 3793500160 | 2015-03-12 00:00:00+00:00 |  323000 |    3     |    2.5    |     1890    |\n",
       "+------------+---------------------------+---------+----------+-----------+-------------+\n",
       "+----------+--------+------------+------+-----------+-------+------------+---------------+\n",
       "| sqft_lot | floors | waterfront | view | condition | grade | sqft_above | sqft_basement |\n",
       "+----------+--------+------------+------+-----------+-------+------------+---------------+\n",
       "|   5650   |   1    |     0      |  0   |     3     |   7   |    1180    |       0       |\n",
       "|   7242   |   2    |     0      |  0   |     3     |   7   |    2170    |      400      |\n",
       "|  10000   |   1    |     0      |  0   |     3     |   6   |    770     |       0       |\n",
       "|   5000   |   1    |     0      |  0   |     5     |   7   |    1050    |      910      |\n",
       "|   8080   |   1    |     0      |  0   |     3     |   8   |    1680    |       0       |\n",
       "|  101930  |   1    |     0      |  0   |     3     |   11  |    3890    |      1530     |\n",
       "|   6819   |   2    |     0      |  0   |     3     |   7   |    1715    |       0       |\n",
       "|   9711   |   1    |     0      |  0   |     3     |   7   |    1060    |       0       |\n",
       "|   7470   |   1    |     0      |  0   |     3     |   7   |    1050    |      730      |\n",
       "|   6560   |   2    |     0      |  0   |     3     |   7   |    1890    |       0       |\n",
       "+----------+--------+------------+------+-----------+-------+------------+---------------+\n",
       "+----------+--------------+---------+-------------+---------------+---------------+-----+\n",
       "| yr_built | yr_renovated | zipcode |     lat     |      long     | sqft_living15 | ... |\n",
       "+----------+--------------+---------+-------------+---------------+---------------+-----+\n",
       "|   1955   |      0       |  98178  | 47.51123398 | -122.25677536 |     1340.0    | ... |\n",
       "|   1951   |     1991     |  98125  | 47.72102274 |  -122.3188624 |     1690.0    | ... |\n",
       "|   1933   |      0       |  98028  | 47.73792661 | -122.23319601 |     2720.0    | ... |\n",
       "|   1965   |      0       |  98136  |   47.52082  | -122.39318505 |     1360.0    | ... |\n",
       "|   1987   |      0       |  98074  | 47.61681228 | -122.04490059 |     1800.0    | ... |\n",
       "|   2001   |      0       |  98053  | 47.65611835 | -122.00528655 |     4760.0    | ... |\n",
       "|   1995   |      0       |  98003  | 47.30972002 | -122.32704857 |     2238.0    | ... |\n",
       "|   1963   |      0       |  98198  | 47.40949984 | -122.31457273 |     1650.0    | ... |\n",
       "|   1960   |      0       |  98146  | 47.51229381 | -122.33659507 |     1780.0    | ... |\n",
       "|   2003   |      0       |  98038  | 47.36840673 |  -122.0308176 |     2390.0    | ... |\n",
       "+----------+--------------+---------+-------------+---------------+---------------+-----+\n",
       "[? rows x 21 columns]\n",
       "Note: Only the head of the SFrame is printed. This SFrame is lazily evaluated.\n",
       "You can use sf.materialize() to force materialization.>"
      ]
     },
     "execution_count": 18,
     "metadata": {},
     "output_type": "execute_result"
    }
   ],
   "source": [
    "train_data.num_rows"
   ]
  },
  {
   "cell_type": "code",
   "execution_count": 19,
   "metadata": {},
   "outputs": [
    {
     "name": "stdout",
     "output_type": "stream",
     "text": [
      "PROGRESS: Creating a validation set from 5 percent of training data. This may take a while.\n",
      "          You can set ``validation_set=None`` to disable validation tracking.\n",
      "\n"
     ]
    },
    {
     "data": {
      "text/html": [
       "<pre>Linear regression:</pre>"
      ],
      "text/plain": [
       "Linear regression:"
      ]
     },
     "metadata": {},
     "output_type": "display_data"
    },
    {
     "data": {
      "text/html": [
       "<pre>--------------------------------------------------------</pre>"
      ],
      "text/plain": [
       "--------------------------------------------------------"
      ]
     },
     "metadata": {},
     "output_type": "display_data"
    },
    {
     "data": {
      "text/html": [
       "<pre>Number of examples          : 16504</pre>"
      ],
      "text/plain": [
       "Number of examples          : 16504"
      ]
     },
     "metadata": {},
     "output_type": "display_data"
    },
    {
     "data": {
      "text/html": [
       "<pre>Number of features          : 1</pre>"
      ],
      "text/plain": [
       "Number of features          : 1"
      ]
     },
     "metadata": {},
     "output_type": "display_data"
    },
    {
     "data": {
      "text/html": [
       "<pre>Number of unpacked features : 1</pre>"
      ],
      "text/plain": [
       "Number of unpacked features : 1"
      ]
     },
     "metadata": {},
     "output_type": "display_data"
    },
    {
     "data": {
      "text/html": [
       "<pre>Number of coefficients    : 2</pre>"
      ],
      "text/plain": [
       "Number of coefficients    : 2"
      ]
     },
     "metadata": {},
     "output_type": "display_data"
    },
    {
     "data": {
      "text/html": [
       "<pre>Starting Newton Method</pre>"
      ],
      "text/plain": [
       "Starting Newton Method"
      ]
     },
     "metadata": {},
     "output_type": "display_data"
    },
    {
     "data": {
      "text/html": [
       "<pre>--------------------------------------------------------</pre>"
      ],
      "text/plain": [
       "--------------------------------------------------------"
      ]
     },
     "metadata": {},
     "output_type": "display_data"
    },
    {
     "data": {
      "text/html": [
       "<pre>+-----------+----------+--------------+--------------------+----------------------+---------------+-----------------+</pre>"
      ],
      "text/plain": [
       "+-----------+----------+--------------+--------------------+----------------------+---------------+-----------------+"
      ]
     },
     "metadata": {},
     "output_type": "display_data"
    },
    {
     "data": {
      "text/html": [
       "<pre>| Iteration | Passes   | Elapsed Time | Training-max_error | Validation-max_error | Training-rmse | Validation-rmse |</pre>"
      ],
      "text/plain": [
       "| Iteration | Passes   | Elapsed Time | Training-max_error | Validation-max_error | Training-rmse | Validation-rmse |"
      ]
     },
     "metadata": {},
     "output_type": "display_data"
    },
    {
     "data": {
      "text/html": [
       "<pre>+-----------+----------+--------------+--------------------+----------------------+---------------+-----------------+</pre>"
      ],
      "text/plain": [
       "+-----------+----------+--------------+--------------------+----------------------+---------------+-----------------+"
      ]
     },
     "metadata": {},
     "output_type": "display_data"
    },
    {
     "data": {
      "text/html": [
       "<pre>| 1         | 2        | 1.015009     | 4363937.353779     | 2165285.814330       | 262252.580528 | 275648.943340   |</pre>"
      ],
      "text/plain": [
       "| 1         | 2        | 1.015009     | 4363937.353779     | 2165285.814330       | 262252.580528 | 275648.943340   |"
      ]
     },
     "metadata": {},
     "output_type": "display_data"
    },
    {
     "data": {
      "text/html": [
       "<pre>+-----------+----------+--------------+--------------------+----------------------+---------------+-----------------+</pre>"
      ],
      "text/plain": [
       "+-----------+----------+--------------+--------------------+----------------------+---------------+-----------------+"
      ]
     },
     "metadata": {},
     "output_type": "display_data"
    },
    {
     "data": {
      "text/html": [
       "<pre>SUCCESS: Optimal solution found.</pre>"
      ],
      "text/plain": [
       "SUCCESS: Optimal solution found."
      ]
     },
     "metadata": {},
     "output_type": "display_data"
    },
    {
     "data": {
      "text/html": [
       "<pre></pre>"
      ],
      "text/plain": []
     },
     "metadata": {},
     "output_type": "display_data"
    }
   ],
   "source": [
    "sqftModel = graphlab.linear_regression.create(train_data, target='price', features=['sqft_living'])"
   ]
  },
  {
   "cell_type": "code",
   "execution_count": 20,
   "metadata": {},
   "outputs": [
    {
     "data": {
      "text/plain": [
       "543054.0425632538"
      ]
     },
     "execution_count": 20,
     "metadata": {},
     "output_type": "execute_result"
    }
   ],
   "source": [
    "test_data['price'].mean()"
   ]
  },
  {
   "cell_type": "code",
   "execution_count": 21,
   "metadata": {},
   "outputs": [
    {
     "data": {
      "text/plain": [
       "{'max_error': 4154931.426402004, 'rmse': 255169.01289449848}"
      ]
     },
     "execution_count": 21,
     "metadata": {},
     "output_type": "execute_result"
    }
   ],
   "source": [
    "sqftModel.evaluate(test_data)"
   ]
  },
  {
   "cell_type": "code",
   "execution_count": 29,
   "metadata": {},
   "outputs": [],
   "source": [
    "import matplotlib.pyplot as plt\n",
    "%matplotlib inline"
   ]
  },
  {
   "cell_type": "code",
   "execution_count": 39,
   "metadata": {},
   "outputs": [
    {
     "data": {
      "text/plain": [
       "[<matplotlib.lines.Line2D at 0x11dad1b90>,\n",
       " <matplotlib.lines.Line2D at 0x11dad1c90>]"
      ]
     },
     "execution_count": 39,
     "metadata": {},
     "output_type": "execute_result"
    },
    {
     "data": {
      "image/png": "[encoded data removed]",
      "text/plain": [
       "<matplotlib.figure.Figure at 0x11d97f210>"
      ]
     },
     "metadata": {},
     "output_type": "display_data"
    }
   ],
   "source": [
    "plt.plot(\n",
    "    test_data['sqft_living'], test_data['price'], '.',\n",
    "    test_data['sqft_living'], sqftModel.predict(test_data), '-'\n",
    ")"
   ]
  },
  {
   "cell_type": "code",
   "execution_count": 32,
   "metadata": {},
   "outputs": [
    {
     "data": {
      "text/html": [
       "<div style=\"max-height:1000px;max-width:1500px;overflow:auto;\"><table frame=\"box\" rules=\"cols\">\n",
       "    <tr>\n",
       "        <th style=\"padding-left: 1em; padding-right: 1em; text-align: center\">name</th>\n",
       "        <th style=\"padding-left: 1em; padding-right: 1em; text-align: center\">index</th>\n",
       "        <th style=\"padding-left: 1em; padding-right: 1em; text-align: center\">value</th>\n",
       "        <th style=\"padding-left: 1em; padding-right: 1em; text-align: center\">stderr</th>\n",
       "    </tr>\n",
       "    <tr>\n",
       "        <td style=\"padding-left: 1em; padding-right: 1em; text-align: center; vertical-align: top\">(intercept)</td>\n",
       "        <td style=\"padding-left: 1em; padding-right: 1em; text-align: center; vertical-align: top\">None</td>\n",
       "        <td style=\"padding-left: 1em; padding-right: 1em; text-align: center; vertical-align: top\">-44598.7311415</td>\n",
       "        <td style=\"padding-left: 1em; padding-right: 1em; text-align: center; vertical-align: top\">5061.82929936</td>\n",
       "    </tr>\n",
       "    <tr>\n",
       "        <td style=\"padding-left: 1em; padding-right: 1em; text-align: center; vertical-align: top\">sqft_living</td>\n",
       "        <td style=\"padding-left: 1em; padding-right: 1em; text-align: center; vertical-align: top\">None</td>\n",
       "        <td style=\"padding-left: 1em; padding-right: 1em; text-align: center; vertical-align: top\">280.552811399</td>\n",
       "        <td style=\"padding-left: 1em; padding-right: 1em; text-align: center; vertical-align: top\">2.2276801756</td>\n",
       "    </tr>\n",
       "</table>\n",
       "[2 rows x 4 columns]<br/>\n",
       "</div>"
      ],
      "text/plain": [
       "Columns:\n",
       "\tname\tstr\n",
       "\tindex\tstr\n",
       "\tvalue\tfloat\n",
       "\tstderr\tfloat\n",
       "\n",
       "Rows: 2\n",
       "\n",
       "Data:\n",
       "+-------------+-------+----------------+---------------+\n",
       "|     name    | index |     value      |     stderr    |\n",
       "+-------------+-------+----------------+---------------+\n",
       "| (intercept) |  None | -44598.7311415 | 5061.82929936 |\n",
       "| sqft_living |  None | 280.552811399  |  2.2276801756 |\n",
       "+-------------+-------+----------------+---------------+\n",
       "[2 rows x 4 columns]"
      ]
     },
     "execution_count": 32,
     "metadata": {},
     "output_type": "execute_result"
    }
   ],
   "source": [
    "sqftModel.get('coefficients')"
   ]
  },
  {
   "cell_type": "code",
   "execution_count": 44,
   "metadata": {
    "collapsed": true
   },
   "outputs": [],
   "source": [
    "myFeatures = ['bedrooms', 'bathrooms', 'sqft_living', 'sqft_lot', 'zipcode', 'floors']"
   ]
  },
  {
   "cell_type": "code",
   "execution_count": 45,
   "metadata": {},
   "outputs": [
    {
     "data": {
      "text/plain": [
       "<bound method SFrame.show of Columns:\n",
       "\tbedrooms\tstr\n",
       "\tbathrooms\tstr\n",
       "\tsqft_living\tint\n",
       "\tsqft_lot\tint\n",
       "\tzipcode\tstr\n",
       "\tfloors\tstr\n",
       "\n",
       "Rows: 4229\n",
       "\n",
       "Data:\n",
       "+----------+-----------+-------------+----------+---------+--------+\n",
       "| bedrooms | bathrooms | sqft_living | sqft_lot | zipcode | floors |\n",
       "+----------+-----------+-------------+----------+---------+--------+\n",
       "|    3     |     1     |     1430    |  19901   |  98028  |  1.5   |\n",
       "|    4     |     3     |     2950    |   5000   |  98126  |   2    |\n",
       "|    3     |     2     |     1710    |   4697   |  98002  |  1.5   |\n",
       "|    3     |    2.5    |     2320    |   3980   |  98027  |   2    |\n",
       "|    3     |     1     |     1090    |   3000   |  98117  |  1.5   |\n",
       "|    4     |    2.5    |     2620    |   7553   |  98056  |   2    |\n",
       "|    4     |    2.25   |     4220    |  24186   |  98166  |   1    |\n",
       "|    4     |    2.5    |     2250    |   4495   |  98042  |   2    |\n",
       "|    3     |    1.75   |     1260    |   8400   |  98148  |   1    |\n",
       "|    4     |     2     |     2750    |   7807   |  98125  |  1.5   |\n",
       "+----------+-----------+-------------+----------+---------+--------+\n",
       "[4229 rows x 6 columns]\n",
       "Note: Only the head of the SFrame is printed.\n",
       "You can use print_rows(num_rows=m, num_columns=n) to print more rows and columns.>"
      ]
     },
     "execution_count": 45,
     "metadata": {},
     "output_type": "execute_result"
    }
   ],
   "source": [
    "test_data[myFeatures].show"
   ]
  },
  {
   "cell_type": "code",
   "execution_count": 49,
   "metadata": {},
   "outputs": [
    {
     "data": {
      "application/javascript": [
       "$(\"head\").append($(\"<link/>\").attr({\n",
       "  rel:  \"stylesheet\",\n",
       "  type: \"text/css\",\n",
       "  href: \"//cdnjs.cloudflare.com/ajax/libs/font-awesome/4.1.0/css/font-awesome.min.css\"\n",
       "}));\n",
       "$(\"head\").append($(\"<link/>\").attr({\n",
       "  rel:  \"stylesheet\",\n",
       "  type: \"text/css\",\n",
       "  href: \"https://static.turi.com/products/graphlab-create/2.1/canvas/css/canvas.css\"\n",
       "}));\n",
       "\n",
       "            (function(){\n",
       "\n",
       "                var e = null;\n",
       "                if (typeof element == 'undefined') {\n",
       "                    var scripts = document.getElementsByTagName('script');\n",
       "                    var thisScriptTag = scripts[scripts.length-1];\n",
       "                    var parentDiv = thisScriptTag.parentNode;\n",
       "                    e = document.createElement('div');\n",
       "                    parentDiv.appendChild(e);\n",
       "                } else {\n",
       "                    e = element[0];\n",
       "                }\n",
       "\n",
       "                if (typeof requirejs !== 'undefined') {\n",
       "                    // disable load timeout; ipython_app.js is large and can take a while to load.\n",
       "                    requirejs.config({waitSeconds: 0});\n",
       "                }\n",
       "\n",
       "                require(['https://static.turi.com/products/graphlab-create/2.1/canvas/js/ipython_app.js'], function(IPythonApp){\n",
       "                    var app = new IPythonApp();\n",
       "                    app.attachView('sframe','Plots', {\"selected_variable\": {\"name\": [\"<SFrame>\"], \"descriptives\": {\"rows\": 4229, \"columns\": 6}, \"view_component\": \"Plots\", \"view_file\": \"sframe\", \"view_params\": {\"y\": \"price\", \"x\": \"zipcode\", \"columns\": [\"bedrooms\", \"bathrooms\", \"sqft_living\", \"sqft_lot\", \"zipcode\", \"floors\"], \"view\": \"BoxWhisker Plot\"}, \"view_components\": [\"Summary\", \"Table\", \"Bar Chart\", \"BoxWhisker Plot\", \"Line Chart\", \"Scatter Plot\", \"Heat Map\", \"Plots\"], \"type\": \"SFrame\", \"columns\": [{\"dtype\": \"str\", \"name\": \"bedrooms\"}, {\"dtype\": \"str\", \"name\": \"bathrooms\"}, {\"dtype\": \"int\", \"name\": \"sqft_living\"}, {\"dtype\": \"int\", \"name\": \"sqft_lot\"}, {\"dtype\": \"str\", \"name\": \"zipcode\"}, {\"dtype\": \"str\", \"name\": \"floors\"}], \"column_identifiers\": [\"bathrooms\", \"bedrooms\", \"zipcode\", \"sqft_living\", \"floors\", \"sqft_lot\"]}, \"complete\": 1, \"ipython\": true, \"progress\": 1.0, \"data\": {\"grouped\": [[\"98001\", [1010.0, 1010.0, 1200.0, 1200.0, 1450.0, 1880.0, 2280.0, 2810.0, 3056.0, 3906.0, 3906.0]], [\"98002\", [720.0, 720.0, 920.0, 990.0, 1320.0, 1640.0, 2060.0, 2390.0, 2400.0, 2550.0, 2550.0]], [\"98003\", [970.0, 970.0, 1250.0, 1260.0, 1490.0, 1820.0, 2360.0, 2910.0, 2910.0, 5774.0, 5774.0]], [\"98004\", [1300.0, 1300.0, 1520.0, 1570.0, 2230.0, 2810.0, 3490.0, 4320.0, 4320.0, 5840.0, 5840.0]], [\"98005\", [980.0, 980.0, 1510.0, 1510.0, 1980.0, 2800.0, 3410.0, 4190.0, 4190.0, 6563.0, 6563.0]], [\"98006\", [1020.0, 1020.0, 1690.0, 1700.0, 2090.0, 2810.0, 3310.0, 4280.0, 4290.0, 7620.0, 7620.0]], [\"98007\", [970.0, 970.0, 1240.0, 1240.0, 1510.0, 1730.0, 2500.0, 3080.0, 3080.0, 3770.0, 3770.0]], [\"98008\", [1150.0, 1150.0, 1290.0, 1310.0, 1670.0, 1980.0, 2440.0, 3030.0, 3240.0, 5150.0, 5150.0]], [\"98010\", [880.0, 880.0, 1040.0, 1040.0, 1160.0, 1740.0, 2200.0, 3420.0, 3420.0, 3870.0, 3870.0]], [\"98011\", [990.0, 990.0, 1310.0, 1310.0, 1690.0, 2230.0, 2800.0, 3160.0, 3160.0, 4140.0, 4140.0]], [\"98014\", [560.0, 560.0, 960.0, 960.0, 1400.0, 1980.0, 2990.0, 5584.0, 5584.0, 6530.0, 6530.0]], [\"98019\", [1050.0, 1050.0, 1400.0, 1410.0, 1600.0, 2090.0, 2605.0, 2920.0, 2980.0, 5660.0, 5660.0]], [\"98022\", [800.0, 800.0, 1120.0, 1170.0, 1370.0, 1740.0, 2260.0, 2660.0, 2840.0, 4750.0, 4750.0]], [\"98023\", [800.0, 800.0, 1040.0, 1050.0, 1460.0, 1900.0, 2270.0, 2730.0, 2830.0, 4168.0, 4168.0]], [\"98024\", [920.0, 920.0, 920.0, 1240.0, 1390.0, 1890.0, 4000.0, 4270.0, 6050.0, 6050.0, 6050.0]], [\"98027\", [770.0, 770.0, 1420.0, 1445.0, 1880.0, 2340.0, 2980.0, 3690.0, 3890.0, 5930.0, 5930.0]], [\"98028\", [950.0, 950.0, 1070.0, 1270.0, 1560.0, 2100.0, 2520.0, 3050.0, 3060.0, 3740.0, 3740.0]], [\"98029\", [1050.0, 1050.0, 1580.0, 1610.0, 1830.0, 2120.0, 2770.0, 3620.0, 3880.0, 5000.0, 5000.0]], [\"98030\", [860.0, 860.0, 1240.0, 1240.0, 1440.0, 1820.0, 2250.0, 2550.0, 2550.0, 2880.0, 2880.0]], [\"98031\", [700.0, 700.0, 1320.0, 1320.0, 1710.0, 2030.0, 2490.0, 2810.0, 2810.0, 3650.0, 3650.0]], [\"98032\", [840.0, 840.0, 920.0, 920.0, 1040.0, 1480.0, 2210.0, 2630.0, 2630.0, 3800.0, 3800.0]], [\"98033\", [840.0, 840.0, 1220.0, 1220.0, 1650.0, 2160.0, 3010.0, 3780.0, 3780.0, 4730.0, 4730.0]], [\"98034\", [930.0, 930.0, 1150.0, 1160.0, 1520.0, 1830.0, 2240.0, 2710.0, 2780.0, 4140.0, 4140.0]], [\"98038\", [910.0, 1060.0, 1350.0, 1350.0, 1680.0, 1975.0, 2430.0, 3100.0, 3190.0, 5230.0, 5230.0]], [\"98039\", [2150.0, 2150.0, 2150.0, 2150.0, 3060.0, 4240.0, 5450.0, 9890.0, 9890.0, 9890.0, 9890.0]], [\"98040\", [1190.0, 1190.0, 1810.0, 1870.0, 2170.0, 2740.0, 3560.0, 4440.0, 4500.0, 6980.0, 6980.0]], [\"98042\", [650.0, 840.0, 1120.0, 1150.0, 1470.0, 2010.0, 2600.0, 3140.0, 3150.0, 3990.0, 4130.0]], [\"98045\", [890.0, 890.0, 1190.0, 1300.0, 1550.0, 2180.0, 2790.0, 3820.0, 3820.0, 4030.0, 4030.0]], [\"98052\", [790.0, 940.0, 1530.0, 1560.0, 1900.0, 2300.0, 3070.0, 3410.0, 3420.0, 4040.0, 4380.0]], [\"98053\", [910.0, 910.0, 1300.0, 1350.0, 1650.0, 2440.0, 3120.0, 3770.0, 3790.0, 7220.0, 7220.0]], [\"98055\", [610.0, 610.0, 820.0, 900.0, 1330.0, 1680.0, 2020.0, 2540.0, 2590.0, 3569.0, 3569.0]], [\"98056\", [700.0, 700.0, 990.0, 1000.0, 1590.0, 1990.0, 2580.0, 3040.0, 3060.0, 4170.0, 4170.0]], [\"98058\", [780.0, 780.0, 1180.0, 1190.0, 1540.0, 1970.0, 2400.0, 2870.0, 2940.0, 5270.0, 5270.0]], [\"98059\", [670.0, 670.0, 1230.0, 1400.0, 1850.0, 2360.0, 3070.0, 3380.0, 3420.0, 4660.0, 4660.0]], [\"98065\", [910.0, 910.0, 1470.0, 1620.0, 1890.0, 2300.0, 2910.0, 3510.0, 3910.0, 4420.0, 4420.0]], [\"98070\", [760.0, 760.0, 940.0, 940.0, 1190.0, 2000.0, 2240.0, 2600.0, 2600.0, 3160.0, 3160.0]], [\"98072\", [960.0, 960.0, 1290.0, 1290.0, 1840.0, 2330.0, 2690.0, 2930.0, 2930.0, 3480.0, 3480.0]], [\"98074\", [1010.0, 1010.0, 1790.0, 1790.0, 2090.0, 2580.0, 3360.0, 3870.0, 3870.0, 5730.0, 5730.0]], [\"98075\", [1820.0, 1820.0, 2250.0, 2250.0, 2640.0, 3150.0, 3690.0, 4280.0, 4280.0, 5370.0, 5370.0]], [\"98077\", [780.0, 780.0, 1160.0, 1160.0, 2100.0, 2700.0, 3280.0, 4030.0, 4040.0, 4380.0, 4380.0]], [\"98092\", [700.0, 700.0, 1100.0, 1100.0, 1610.0, 2170.0, 2577.0, 3135.0, 3135.0, 4280.0, 4280.0]], [\"98102\", [710.0, 710.0, 710.0, 770.0, 1100.0, 1590.0, 1980.0, 2940.0, 2940.0, 4660.0, 4660.0]], [\"98103\", [390.0, 700.0, 1020.0, 1070.0, 1310.0, 1560.0, 2000.0, 2550.0, 2650.0, 3440.0, 3810.0]], [\"98105\", [850.0, 850.0, 1220.0, 1220.0, 1450.0, 1930.0, 2720.0, 3530.0, 3530.0, 5480.0, 5480.0]], [\"98106\", [550.0, 550.0, 750.0, 770.0, 1060.0, 1300.0, 1670.0, 2140.0, 2290.0, 3030.0, 3030.0]], [\"98107\", [540.0, 540.0, 1010.0, 1010.0, 1260.0, 1490.0, 1720.0, 2190.0, 2190.0, 4020.0, 4020.0]], [\"98108\", [420.0, 420.0, 1030.0, 1030.0, 1220.0, 1530.0, 2090.0, 2430.0, 2430.0, 3670.0, 3670.0]], [\"98109\", [970.0, 970.0, 1030.0, 1110.0, 1480.0, 1890.0, 2740.0, 4580.0, 4580.0, 4960.0, 4960.0]], [\"98112\", [790.0, 790.0, 1230.0, 1460.0, 1880.0, 2350.0, 3070.0, 3790.0, 3950.0, 4760.0, 4760.0]], [\"98115\", [680.0, 760.0, 930.0, 962.0, 1270.0, 1610.0, 2110.0, 2850.0, 2860.0, 4390.0, 5770.0]], [\"98116\", [810.0, 810.0, 1030.0, 1050.0, 1490.0, 1980.0, 2520.0, 3450.0, 3820.0, 4410.0, 4410.0]], [\"98117\", [370.0, 640.0, 910.0, 910.0, 1170.0, 1520.0, 2000.0, 2460.0, 2520.0, 3610.0, 3890.0]], [\"98118\", [590.0, 590.0, 850.0, 860.0, 1090.0, 1580.0, 2320.0, 2820.0, 2830.0, 5470.0, 5470.0]], [\"98119\", [910.0, 910.0, 1313.0, 1400.0, 1680.0, 2010.0, 2710.0, 3620.0, 3650.0, 5540.0, 5540.0]], [\"98122\", [650.0, 650.0, 950.0, 1040.0, 1280.0, 1740.0, 2320.0, 3020.0, 3380.0, 3830.0, 3830.0]], [\"98125\", [750.0, 750.0, 910.0, 940.0, 1190.0, 1630.0, 1920.0, 2500.0, 2660.0, 3990.0, 3990.0]], [\"98126\", [560.0, 560.0, 810.0, 810.0, 1010.0, 1400.0, 1850.0, 2500.0, 2500.0, 3340.0, 3340.0]], [\"98133\", [590.0, 590.0, 870.0, 880.0, 1110.0, 1450.0, 1880.0, 2160.0, 2180.0, 3230.0, 3230.0]], [\"98136\", [790.0, 790.0, 940.0, 940.0, 1233.0, 1520.0, 2430.0, 2720.0, 2720.0, 3310.0, 3310.0]], [\"98144\", [660.0, 660.0, 870.0, 870.0, 1160.0, 1580.0, 2160.0, 2930.0, 2950.0, 3920.0, 3920.0]], [\"98146\", [410.0, 410.0, 770.0, 780.0, 1030.0, 1400.0, 2040.0, 2340.0, 2420.0, 3250.0, 3250.0]], [\"98148\", [910.0, 910.0, 930.0, 930.0, 1260.0, 1610.0, 2170.0, 2490.0, 2490.0, 2670.0, 2670.0]], [\"98155\", [700.0, 700.0, 1010.0, 1010.0, 1180.0, 1640.0, 2240.0, 2770.0, 2840.0, 3700.0, 3830.0]], [\"98166\", [710.0, 710.0, 850.0, 1110.0, 1550.0, 2010.0, 2610.0, 3190.0, 3440.0, 5403.0, 5403.0]], [\"98168\", [600.0, 600.0, 880.0, 880.0, 1140.0, 1600.0, 2040.0, 2320.0, 2320.0, 4440.0, 4440.0]], [\"98177\", [770.0, 770.0, 1180.0, 1180.0, 1540.0, 1960.0, 2300.0, 3370.0, 3370.0, 4570.0, 4570.0]], [\"98178\", [860.0, 860.0, 920.0, 930.0, 1180.0, 1610.0, 2090.0, 2400.0, 2550.0, 3060.0, 3060.0]], [\"98188\", [680.0, 680.0, 790.0, 970.0, 1330.0, 1560.0, 2100.0, 2400.0, 2420.0, 2640.0, 2640.0]], [\"98198\", [730.0, 730.0, 980.0, 1010.0, 1210.0, 1658.0, 2180.0, 2960.0, 3070.0, 5370.0, 5370.0]], [\"98199\", [680.0, 680.0, 1270.0, 1360.0, 1550.0, 2130.0, 2920.0, 3600.0, 3600.0, 4470.0, 4470.0]]], \"omitted\": 0}, \"columns\": [{\"dtype\": \"str\", \"name\": \"bedrooms\"}, {\"dtype\": \"str\", \"name\": \"bathrooms\"}, {\"dtype\": \"int\", \"name\": \"sqft_living\"}, {\"dtype\": \"int\", \"name\": \"sqft_lot\"}, {\"dtype\": \"str\", \"name\": \"zipcode\"}, {\"dtype\": \"str\", \"name\": \"floors\"}]}, e);\n",
       "                });\n",
       "            })();\n",
       "        "
      ]
     },
     "metadata": {},
     "output_type": "display_data"
    }
   ],
   "source": [
    "test_data[myFeatures].show(view='BoxWhisker Plot', x='zipcode', y='price')"
   ]
  },
  {
   "cell_type": "markdown",
   "metadata": {},
   "source": [
    "## Building Model from multiple features"
   ]
  },
  {
   "cell_type": "code",
   "execution_count": 47,
   "metadata": {},
   "outputs": [
    {
     "name": "stdout",
     "output_type": "stream",
     "text": [
      "PROGRESS: Creating a validation set from 5 percent of training data. This may take a while.\n",
      "          You can set ``validation_set=None`` to disable validation tracking.\n",
      "\n"
     ]
    },
    {
     "data": {
      "text/html": [
       "<pre>Linear regression:</pre>"
      ],
      "text/plain": [
       "Linear regression:"
      ]
     },
     "metadata": {},
     "output_type": "display_data"
    },
    {
     "data": {
      "text/html": [
       "<pre>--------------------------------------------------------</pre>"
      ],
      "text/plain": [
       "--------------------------------------------------------"
      ]
     },
     "metadata": {},
     "output_type": "display_data"
    },
    {
     "data": {
      "text/html": [
       "<pre>Number of examples          : 4000</pre>"
      ],
      "text/plain": [
       "Number of examples          : 4000"
      ]
     },
     "metadata": {},
     "output_type": "display_data"
    },
    {
     "data": {
      "text/html": [
       "<pre>Number of features          : 6</pre>"
      ],
      "text/plain": [
       "Number of features          : 6"
      ]
     },
     "metadata": {},
     "output_type": "display_data"
    },
    {
     "data": {
      "text/html": [
       "<pre>Number of unpacked features : 6</pre>"
      ],
      "text/plain": [
       "Number of unpacked features : 6"
      ]
     },
     "metadata": {},
     "output_type": "display_data"
    },
    {
     "data": {
      "text/html": [
       "<pre>Number of coefficients    : 109</pre>"
      ],
      "text/plain": [
       "Number of coefficients    : 109"
      ]
     },
     "metadata": {},
     "output_type": "display_data"
    },
    {
     "data": {
      "text/html": [
       "<pre>Starting Newton Method</pre>"
      ],
      "text/plain": [
       "Starting Newton Method"
      ]
     },
     "metadata": {},
     "output_type": "display_data"
    },
    {
     "data": {
      "text/html": [
       "<pre>--------------------------------------------------------</pre>"
      ],
      "text/plain": [
       "--------------------------------------------------------"
      ]
     },
     "metadata": {},
     "output_type": "display_data"
    },
    {
     "data": {
      "text/html": [
       "<pre>+-----------+----------+--------------+--------------------+----------------------+---------------+-----------------+</pre>"
      ],
      "text/plain": [
       "+-----------+----------+--------------+--------------------+----------------------+---------------+-----------------+"
      ]
     },
     "metadata": {},
     "output_type": "display_data"
    },
    {
     "data": {
      "text/html": [
       "<pre>| Iteration | Passes   | Elapsed Time | Training-max_error | Validation-max_error | Training-rmse | Validation-rmse |</pre>"
      ],
      "text/plain": [
       "| Iteration | Passes   | Elapsed Time | Training-max_error | Validation-max_error | Training-rmse | Validation-rmse |"
      ]
     },
     "metadata": {},
     "output_type": "display_data"
    },
    {
     "data": {
      "text/html": [
       "<pre>+-----------+----------+--------------+--------------------+----------------------+---------------+-----------------+</pre>"
      ],
      "text/plain": [
       "+-----------+----------+--------------+--------------------+----------------------+---------------+-----------------+"
      ]
     },
     "metadata": {},
     "output_type": "display_data"
    },
    {
     "data": {
      "text/html": [
       "<pre>| 1         | 2        | 0.009478     | 2002333.210168     | 930290.936289        | 164537.641298 | 166655.377691   |</pre>"
      ],
      "text/plain": [
       "| 1         | 2        | 0.009478     | 2002333.210168     | 930290.936289        | 164537.641298 | 166655.377691   |"
      ]
     },
     "metadata": {},
     "output_type": "display_data"
    },
    {
     "data": {
      "text/html": [
       "<pre>+-----------+----------+--------------+--------------------+----------------------+---------------+-----------------+</pre>"
      ],
      "text/plain": [
       "+-----------+----------+--------------+--------------------+----------------------+---------------+-----------------+"
      ]
     },
     "metadata": {},
     "output_type": "display_data"
    },
    {
     "data": {
      "text/html": [
       "<pre>SUCCESS: Optimal solution found.</pre>"
      ],
      "text/plain": [
       "SUCCESS: Optimal solution found."
      ]
     },
     "metadata": {},
     "output_type": "display_data"
    },
    {
     "data": {
      "text/html": [
       "<pre></pre>"
      ],
      "text/plain": []
     },
     "metadata": {},
     "output_type": "display_data"
    }
   ],
   "source": [
    "myFeaturesModel = graphlab.linear_regression.create(test_data, target='price', features=myFeatures)"
   ]
  },
  {
   "cell_type": "code",
   "execution_count": 56,
   "metadata": {},
   "outputs": [
    {
     "name": "stdout",
     "output_type": "stream",
     "text": [
      "{'max_error': 4154931.426402004, 'rmse': 255169.01289449848}\n",
      "{'max_error': 2002333.210168316, 'rmse': 164653.0140820935}\n"
     ]
    }
   ],
   "source": [
    "print sqftModel.evaluate(test_data)\n",
    "print myFeaturesModel.evaluate(test_data)"
   ]
  },
  {
   "cell_type": "markdown",
   "metadata": {},
   "source": [
    "## MultiFeatures model behaves better on average but for some points it can perform worse"
   ]
  },
  {
   "cell_type": "code",
   "execution_count": 52,
   "metadata": {
    "collapsed": true
   },
   "outputs": [],
   "source": [
    "house1 = homedata[homedata['id']=='5309101200']"
   ]
  },
  {
   "cell_type": "code",
   "execution_count": 55,
   "metadata": {},
   "outputs": [
    {
     "name": "stdout",
     "output_type": "stream",
     "text": [
      "[620000]\n",
      "[628728.016216933]\n",
      "[713875.1164361028]\n"
     ]
    }
   ],
   "source": [
    "print house1['price']\n",
    "print sqftModel.predict(house1)\n",
    "print myFeaturesModel.predict(house1)"
   ]
  },
  {
   "cell_type": "markdown",
   "metadata": {},
   "source": [
    "<img src=\"house-5309101200.jpg\" />"
   ]
  },
  {
   "cell_type": "code",
   "execution_count": 62,
   "metadata": {
    "collapsed": true
   },
   "outputs": [],
   "source": [
    "billGatesHouse = {'bedrooms':[8], \n",
    "              'bathrooms':[25], \n",
    "              'sqft_living':[50000], \n",
    "              'sqft_lot':[225000],\n",
    "              'floors':[4], \n",
    "              'zipcode':['98039'], \n",
    "              'condition':[10], \n",
    "              'grade':[10],\n",
    "              'waterfront':[1],\n",
    "              'view':[4],\n",
    "              'sqft_above':[37500],\n",
    "              'sqft_basement':[12500],\n",
    "              'yr_built':[1994],\n",
    "              'yr_renovated':[2010],\n",
    "              'lat':[47.627606],\n",
    "              'long':[-122.242054],\n",
    "              'sqft_living15':[5000],\n",
    "              'sqft_lot15':[40000]}"
   ]
  },
  {
   "cell_type": "code",
   "execution_count": 63,
   "metadata": {},
   "outputs": [
    {
     "name": "stdout",
     "output_type": "stream",
     "text": [
      "[13983041.83882556]\n",
      "[13062895.238278016]\n"
     ]
    }
   ],
   "source": [
    "print sqftModel.predict(graphlab.SFrame(billGatesHouse))\n",
    "print myFeaturesModel.predict(graphlab.SFrame(billGatesHouse))"
   ]
  },
  {
   "cell_type": "markdown",
   "metadata": {},
   "source": [
    "### Assignment Question -  Take the sales data, select only the houses with this zip code, and compute the average price"
   ]
  },
  {
   "cell_type": "code",
   "execution_count": 74,
   "metadata": {
    "collapsed": true
   },
   "outputs": [],
   "source": [
    "housesWithZipCode = homedata['zipcode', 'price']"
   ]
  },
  {
   "cell_type": "code",
   "execution_count": 75,
   "metadata": {
    "collapsed": true
   },
   "outputs": [],
   "source": [
    "housesWithSpecificCode = housesWithZipCode[housesWithZipCode['zipcode'] == '98039']"
   ]
  },
  {
   "cell_type": "code",
   "execution_count": 79,
   "metadata": {},
   "outputs": [
    {
     "name": "stdout",
     "output_type": "stream",
     "text": [
      "+---------+---------+\n",
      "| zipcode |  price  |\n",
      "+---------+---------+\n",
      "|  98039  | 2950000 |\n",
      "|  98039  | 1905000 |\n",
      "|  98039  |  875000 |\n",
      "|  98039  |  940000 |\n",
      "|  98039  | 4000000 |\n",
      "|  98039  | 5570000 |\n",
      "|  98039  |  937500 |\n",
      "|  98039  | 1160000 |\n",
      "|  98039  | 1880000 |\n",
      "|  98039  | 3418800 |\n",
      "+---------+---------+\n",
      "[? rows x 2 columns]\n",
      "Note: Only the head of the SFrame is printed. This SFrame is lazily evaluated.\n",
      "You can use sf.materialize() to force materialization.\n"
     ]
    }
   ],
   "source": [
    "print housesWithSpecificCode"
   ]
  },
  {
   "cell_type": "code",
   "execution_count": 80,
   "metadata": {},
   "outputs": [
    {
     "name": "stdout",
     "output_type": "stream",
     "text": [
      "2160606.6\n"
     ]
    }
   ],
   "source": [
    "print housesWithSpecificCode['price'].mean()"
   ]
  },
  {
   "cell_type": "markdown",
   "metadata": {},
   "source": [
    "### FIltering data"
   ]
  },
  {
   "cell_type": "code",
   "execution_count": null,
   "metadata": {
    "collapsed": true
   },
   "outputs": [],
   "source": []
  }
 ],
 "metadata": {
  "kernelspec": {
   "display_name": "Python 2",
   "language": "python",
   "name": "python2"
  },
  "language_info": {
   "codemirror_mode": {
    "name": "ipython",
    "version": 2
   },
   "file_extension": ".py",
   "mimetype": "text/x-python",
   "name": "python",
   "nbconvert_exporter": "python",
   "pygments_lexer": "ipython2",
   "version": "2.7.13"
  }
 },
 "nbformat": 4,
 "nbformat_minor": 2
}
